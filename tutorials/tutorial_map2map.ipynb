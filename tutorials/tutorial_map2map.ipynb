{
 "cells": [
  {
   "cell_type": "markdown",
   "metadata": {},
   "source": [
    "After you preprocess your data (submission_*.pt), you can compute a map to map distance matrix, for various distance functions, by the following steps."
   ]
  },
  {
   "cell_type": "markdown",
   "metadata": {},
   "source": [
    "# 1. Create a config file\n",
    "The config file (e.g. `config_files/map_to_map_distance_matrix_config.yaml`) has information about how to read the preprocessed submission and ground truth data, and how to perform the map to map distance analysis. "
   ]
  },
  {
   "cell_type": "markdown",
   "metadata": {},
   "source": [
    "Here is an example of the config file"
   ]
  },
  {
   "cell_type": "code",
   "execution_count": 5,
   "metadata": {},
   "outputs": [
    {
     "data": {
      "text/plain": [
       "{'data': {'n_pix': 224,\n",
       "  'psize': 2.146,\n",
       "  'submission': {'fname': 'data/submission_0.pt',\n",
       "   'volume_key': 'volumes',\n",
       "   'metadata_key': 'populations',\n",
       "   'label_key': 'id'},\n",
       "  'ground_truth': {'volumes': 'data/maps_gt_flat.pt',\n",
       "   'metadata': 'data/metadata.csv'},\n",
       "  'mask': {'do': True, 'volume': 'data/mask_dilated_wide_224x224.mrc'}},\n",
       " 'analysis': {'metrics': ['l2', 'corr', 'bioem', 'fsc'],\n",
       "  'chunk_size_submission': 80,\n",
       "  'chunk_size_gt': 190,\n",
       "  'normalize': {'do': True, 'method': 'median_zscore'}},\n",
       " 'output': 'results/map_to_map_distance_matrix_submission_0.pkl'}"
      ]
     },
     "execution_count": 5,
     "metadata": {},
     "output_type": "execute_result"
    }
   ],
   "source": [
    "import yaml\n",
    "with open('../config_files/map_to_map_distance_matrix_config.yaml', \"r\") as file:\n",
    "    config = yaml.safe_load(file)\n",
    "\n",
    "config"
   ]
  },
  {
   "cell_type": "markdown",
   "metadata": {},
   "source": [
    "These docstrings explain what the config file entries are"
   ]
  },
  {
   "cell_type": "code",
   "execution_count": 9,
   "metadata": {},
   "outputs": [],
   "source": [
    "from cryo_challenge.data._validation.config_validators import (\n",
    "    validate_input_config_mtm,\n",
    "    validate_config_mtm_data, \n",
    "        validate_config_mtm_data_submission, \n",
    "        validate_config_mtm_data_ground_truth, \n",
    "        validate_config_mtm_data_mask, \n",
    "    validate_config_mtm_analysis, \n",
    "        validate_config_mtm_analysis_normalize, \n",
    "    )"
   ]
  },
  {
   "cell_type": "code",
   "execution_count": 13,
   "metadata": {},
   "outputs": [
    {
     "name": "stdout",
     "output_type": "stream",
     "text": [
      "\u001b[0;31mSignature:\u001b[0m \u001b[0mvalidate_input_config_mtm\u001b[0m\u001b[0;34m(\u001b[0m\u001b[0mconfig\u001b[0m\u001b[0;34m:\u001b[0m \u001b[0mdict\u001b[0m\u001b[0;34m)\u001b[0m \u001b[0;34m->\u001b[0m \u001b[0;32mNone\u001b[0m\u001b[0;34m\u001b[0m\u001b[0;34m\u001b[0m\u001b[0m\n",
      "\u001b[0;31mDocstring:\u001b[0m\n",
      "Validate the config dictionary for the MapToMap config.\n",
      "\n",
      "data: dict, is the data part of the config.\n",
      "analysis: dict, is the analysis part of the config.\n",
      "output: str, is the path to the output file.\n",
      "\u001b[0;31mFile:\u001b[0m      /mnt/ceph/users/gwoollard/repos/Cryo-EM-Heterogeneity-Challenge-1/src/cryo_challenge/data/_validation/config_validators.py\n",
      "\u001b[0;31mType:\u001b[0m      function"
     ]
    }
   ],
   "source": [
    "validate_input_config_mtm?"
   ]
  },
  {
   "cell_type": "code",
   "execution_count": 8,
   "metadata": {},
   "outputs": [
    {
     "name": "stdout",
     "output_type": "stream",
     "text": [
      "\u001b[0;31mSignature:\u001b[0m \u001b[0mvalidate_config_mtm_data_ground_truth\u001b[0m\u001b[0;34m(\u001b[0m\u001b[0mconfig_data_ground_truth\u001b[0m\u001b[0;34m:\u001b[0m \u001b[0mdict\u001b[0m\u001b[0;34m)\u001b[0m \u001b[0;34m->\u001b[0m \u001b[0;32mNone\u001b[0m\u001b[0;34m\u001b[0m\u001b[0;34m\u001b[0m\u001b[0m\n",
      "\u001b[0;31mDocstring:\u001b[0m\n",
      "Validate the ground truth part of the config dictionary for the MapToMap config.\n",
      "\n",
      "volumes: str, is the path to the ground truth volume (.pt) file.\n",
      "metadata: str, is the path to the ground truth metadata (.csv) file.\n",
      "\u001b[0;31mFile:\u001b[0m      /mnt/ceph/users/gwoollard/repos/Cryo-EM-Heterogeneity-Challenge-1/src/cryo_challenge/data/_validation/config_validators.py\n",
      "\u001b[0;31mType:\u001b[0m      function"
     ]
    }
   ],
   "source": [
    "validate_config_mtm_data_submission?"
   ]
  },
  {
   "cell_type": "code",
   "execution_count": null,
   "metadata": {},
   "outputs": [],
   "source": [
    "validate_config_mtm_data_ground_truth?"
   ]
  },
  {
   "cell_type": "code",
   "execution_count": 11,
   "metadata": {},
   "outputs": [
    {
     "name": "stdout",
     "output_type": "stream",
     "text": [
      "\u001b[0;31mSignature:\u001b[0m \u001b[0mvalidate_config_mtm_data_mask\u001b[0m\u001b[0;34m(\u001b[0m\u001b[0mconfig_data_mask\u001b[0m\u001b[0;34m:\u001b[0m \u001b[0mdict\u001b[0m\u001b[0;34m)\u001b[0m \u001b[0;34m->\u001b[0m \u001b[0;32mNone\u001b[0m\u001b[0;34m\u001b[0m\u001b[0;34m\u001b[0m\u001b[0m\n",
      "\u001b[0;31mDocstring:\u001b[0m\n",
      "Validate the mask part of the config dictionary for the MapToMap config.\n",
      "\n",
      "do: bool, is a flag to indicate whether to use a mask.\n",
      "volume: str, is the path to the mask volume (.mrc) file.\n",
      "\u001b[0;31mFile:\u001b[0m      /mnt/ceph/users/gwoollard/repos/Cryo-EM-Heterogeneity-Challenge-1/src/cryo_challenge/data/_validation/config_validators.py\n",
      "\u001b[0;31mType:\u001b[0m      function"
     ]
    }
   ],
   "source": [
    "validate_config_mtm_data_mask?"
   ]
  },
  {
   "cell_type": "code",
   "execution_count": 19,
   "metadata": {},
   "outputs": [
    {
     "name": "stdout",
     "output_type": "stream",
     "text": [
      "\u001b[0;31mSignature:\u001b[0m \u001b[0mvalidate_config_mtm_data\u001b[0m\u001b[0;34m(\u001b[0m\u001b[0mconfig_data\u001b[0m\u001b[0;34m:\u001b[0m \u001b[0mdict\u001b[0m\u001b[0;34m)\u001b[0m \u001b[0;34m->\u001b[0m \u001b[0;32mNone\u001b[0m\u001b[0;34m\u001b[0m\u001b[0;34m\u001b[0m\u001b[0m\n",
      "\u001b[0;31mDocstring:\u001b[0m\n",
      "Validate the data part of the config dictionary for the MapToMap config.\n",
      "\n",
      "n_pix: int, is the number of pixels in each dimension of the volume.\n",
      "psize: float, is the pixel size of the volume in Angstroms.\n",
      "submission: dict, is the submission part of the config.\n",
      "ground_truth: dict, is the ground truth part of the config.\n",
      "mask: dict, is the mask part of the config.\n",
      "\u001b[0;31mFile:\u001b[0m      /mnt/ceph/users/gwoollard/repos/Cryo-EM-Heterogeneity-Challenge-1/src/cryo_challenge/data/_validation/config_validators.py\n",
      "\u001b[0;31mType:\u001b[0m      function"
     ]
    }
   ],
   "source": [
    "validate_config_mtm_data?"
   ]
  },
  {
   "cell_type": "code",
   "execution_count": 15,
   "metadata": {},
   "outputs": [
    {
     "name": "stdout",
     "output_type": "stream",
     "text": [
      "\u001b[0;31mSignature:\u001b[0m \u001b[0mvalidate_config_mtm_analysis\u001b[0m\u001b[0;34m(\u001b[0m\u001b[0mconfig_analysis\u001b[0m\u001b[0;34m:\u001b[0m \u001b[0mdict\u001b[0m\u001b[0;34m)\u001b[0m \u001b[0;34m->\u001b[0m \u001b[0;32mNone\u001b[0m\u001b[0;34m\u001b[0m\u001b[0;34m\u001b[0m\u001b[0m\n",
      "\u001b[0;31mDocstring:\u001b[0m\n",
      "Validate the analysis part of the config dictionary for the MapToMap config.\n",
      "\n",
      "metrics: list, is a list of metrics to compute.\n",
      "chunk_size_submission: int, is the chunk size for the submission volume.\n",
      "chunk_size_gt: int, is the chunk size for the ground truth volume.\n",
      "normalize: dict, is the normalize part of the analysis part of the config.\n",
      "\u001b[0;31mFile:\u001b[0m      /mnt/ceph/users/gwoollard/repos/Cryo-EM-Heterogeneity-Challenge-1/src/cryo_challenge/data/_validation/config_validators.py\n",
      "\u001b[0;31mType:\u001b[0m      function"
     ]
    }
   ],
   "source": [
    "validate_config_mtm_analysis?"
   ]
  },
  {
   "cell_type": "code",
   "execution_count": 14,
   "metadata": {},
   "outputs": [
    {
     "name": "stdout",
     "output_type": "stream",
     "text": [
      "\u001b[0;31mSignature:\u001b[0m \u001b[0mvalidate_config_mtm_analysis_normalize\u001b[0m\u001b[0;34m(\u001b[0m\u001b[0mconfig_analysis_normalize\u001b[0m\u001b[0;34m:\u001b[0m \u001b[0mdict\u001b[0m\u001b[0;34m)\u001b[0m \u001b[0;34m->\u001b[0m \u001b[0;32mNone\u001b[0m\u001b[0;34m\u001b[0m\u001b[0;34m\u001b[0m\u001b[0m\n",
      "\u001b[0;31mDocstring:\u001b[0m\n",
      "Validate the normalize part of the analysis part of the config dictionary for the MapToMap config.\n",
      "\n",
      "do: bool, is a flag to indicate whether to normalize the volumes.\n",
      "method: str, is the method to use for normalization.\n",
      "\u001b[0;31mFile:\u001b[0m      /mnt/ceph/users/gwoollard/repos/Cryo-EM-Heterogeneity-Challenge-1/src/cryo_challenge/data/_validation/config_validators.py\n",
      "\u001b[0;31mType:\u001b[0m      function"
     ]
    }
   ],
   "source": [
    "validate_config_mtm_analysis_normalize?"
   ]
  },
  {
   "cell_type": "markdown",
   "metadata": {},
   "source": [
    "The whole config is validated in `cryo_challenge.data._validation.config_validators.validate_input_config_mtm`."
   ]
  },
  {
   "cell_type": "code",
   "execution_count": 4,
   "metadata": {},
   "outputs": [],
   "source": [
    "from cryo_challenge.data._validation.config_validators import validate_input_config_mtm\n",
    "validate_input_config_mtm(config)"
   ]
  },
  {
   "cell_type": "markdown",
   "metadata": {},
   "source": [
    "# 2. Run `run_map2map_pipeline`\n",
    "\n",
    "`cryo_challenge run_map2map_pipeline --config config_files/config_map_to_map_distance_matrix.yaml`"
   ]
  },
  {
   "cell_type": "markdown",
   "metadata": {},
   "source": [
    "The output (of step #1) is validated with `cryo_challenge.data._validation.output_validators.MapToMapResultsValidator` (automatically, this is just explained below to serve as documentation)"
   ]
  },
  {
   "cell_type": "code",
   "execution_count": 9,
   "metadata": {},
   "outputs": [],
   "source": [
    "import pickle\n",
    "import os\n",
    "\n",
    "with open(os.path.join('../',config[\"output\"]), \"rb\") as f:\n",
    "    results_d = pickle.load(f)\n"
   ]
  },
  {
   "cell_type": "code",
   "execution_count": 11,
   "metadata": {},
   "outputs": [],
   "source": [
    "from cryo_challenge.data._validation.output_validators import MapToMapResultsValidator\n",
    "_ = MapToMapResultsValidator.from_dict(results_d)"
   ]
  },
  {
   "cell_type": "markdown",
   "metadata": {},
   "source": [
    "The fields of the output are explained below:"
   ]
  },
  {
   "cell_type": "code",
   "execution_count": 2,
   "metadata": {},
   "outputs": [
    {
     "name": "stdout",
     "output_type": "stream",
     "text": [
      "\u001b[0;31mInit signature:\u001b[0m\n",
      "\u001b[0mMapToMapResultsValidator\u001b[0m\u001b[0;34m(\u001b[0m\u001b[0;34m\u001b[0m\n",
      "\u001b[0;34m\u001b[0m    \u001b[0mconfig\u001b[0m\u001b[0;34m:\u001b[0m \u001b[0mdict\u001b[0m\u001b[0;34m,\u001b[0m\u001b[0;34m\u001b[0m\n",
      "\u001b[0;34m\u001b[0m    \u001b[0muser_submitted_populations\u001b[0m\u001b[0;34m:\u001b[0m \u001b[0mtorch\u001b[0m\u001b[0;34m.\u001b[0m\u001b[0mTensor\u001b[0m\u001b[0;34m,\u001b[0m\u001b[0;34m\u001b[0m\n",
      "\u001b[0;34m\u001b[0m    \u001b[0mcorr\u001b[0m\u001b[0;34m:\u001b[0m \u001b[0mUnion\u001b[0m\u001b[0;34m[\u001b[0m\u001b[0mdict\u001b[0m\u001b[0;34m,\u001b[0m \u001b[0mNoneType\u001b[0m\u001b[0;34m]\u001b[0m \u001b[0;34m=\u001b[0m \u001b[0;32mNone\u001b[0m\u001b[0;34m,\u001b[0m\u001b[0;34m\u001b[0m\n",
      "\u001b[0;34m\u001b[0m    \u001b[0ml2\u001b[0m\u001b[0;34m:\u001b[0m \u001b[0mUnion\u001b[0m\u001b[0;34m[\u001b[0m\u001b[0mdict\u001b[0m\u001b[0;34m,\u001b[0m \u001b[0mNoneType\u001b[0m\u001b[0;34m]\u001b[0m \u001b[0;34m=\u001b[0m \u001b[0;32mNone\u001b[0m\u001b[0;34m,\u001b[0m\u001b[0;34m\u001b[0m\n",
      "\u001b[0;34m\u001b[0m    \u001b[0mbioem\u001b[0m\u001b[0;34m:\u001b[0m \u001b[0mUnion\u001b[0m\u001b[0;34m[\u001b[0m\u001b[0mdict\u001b[0m\u001b[0;34m,\u001b[0m \u001b[0mNoneType\u001b[0m\u001b[0;34m]\u001b[0m \u001b[0;34m=\u001b[0m \u001b[0;32mNone\u001b[0m\u001b[0;34m,\u001b[0m\u001b[0;34m\u001b[0m\n",
      "\u001b[0;34m\u001b[0m    \u001b[0mfsc\u001b[0m\u001b[0;34m:\u001b[0m \u001b[0mUnion\u001b[0m\u001b[0;34m[\u001b[0m\u001b[0mdict\u001b[0m\u001b[0;34m,\u001b[0m \u001b[0mNoneType\u001b[0m\u001b[0;34m]\u001b[0m \u001b[0;34m=\u001b[0m \u001b[0;32mNone\u001b[0m\u001b[0;34m,\u001b[0m\u001b[0;34m\u001b[0m\n",
      "\u001b[0;34m\u001b[0m\u001b[0;34m)\u001b[0m \u001b[0;34m->\u001b[0m \u001b[0;32mNone\u001b[0m\u001b[0;34m\u001b[0m\u001b[0;34m\u001b[0m\u001b[0m\n",
      "\u001b[0;31mDocstring:\u001b[0m     \n",
      "Validate the output dictionary of the map-to-map distance matrix computation.\n",
      "\n",
      "config: dict, input config dictionary.\n",
      "user_submitted_populations: torch.Tensor, user submitted populations, which sum to 1.\n",
      "corr: dict, correlation results.\n",
      "l2: dict, L2 results.\n",
      "bioem: dict, BioEM results.\n",
      "fsc: dict, FSC results.\n",
      "\u001b[0;31mFile:\u001b[0m           /mnt/ceph/users/gwoollard/repos/Cryo-EM-Heterogeneity-Challenge-1/src/cryo_challenge/data/_validation/output_validators.py\n",
      "\u001b[0;31mType:\u001b[0m           type\n",
      "\u001b[0;31mSubclasses:\u001b[0m     "
     ]
    }
   ],
   "source": [
    "MapToMapResultsValidator?"
   ]
  },
  {
   "cell_type": "markdown",
   "metadata": {},
   "source": [
    "For each map to map distance, there is a separate dict of results containing: "
   ]
  },
  {
   "cell_type": "code",
   "execution_count": 3,
   "metadata": {},
   "outputs": [
    {
     "name": "stdout",
     "output_type": "stream",
     "text": [
      "\u001b[0;31mSignature:\u001b[0m \u001b[0mvalidate_maptomap_result\u001b[0m\u001b[0;34m(\u001b[0m\u001b[0moutput_dict\u001b[0m\u001b[0;34m:\u001b[0m \u001b[0mdict\u001b[0m\u001b[0;34m)\u001b[0m \u001b[0;34m->\u001b[0m \u001b[0;32mNone\u001b[0m\u001b[0;34m\u001b[0m\u001b[0;34m\u001b[0m\u001b[0m\n",
      "\u001b[0;31mDocstring:\u001b[0m\n",
      "Validate the output dictionary of the map-to-map distance matrix computation.\n",
      "\n",
      "cost_matrix: pd.DataFrame, is the cost matrix, with ground truth rows and submission columns.\n",
      "user_submission_label: str, is the label of the submission.\n",
      "computed_assets: dict, is a dictionary of computed assets, which can be re-used in other analyses.\n",
      "\u001b[0;31mFile:\u001b[0m      /mnt/ceph/users/gwoollard/repos/Cryo-EM-Heterogeneity-Challenge-1/src/cryo_challenge/data/_validation/config_validators.py\n",
      "\u001b[0;31mType:\u001b[0m      function"
     ]
    }
   ],
   "source": [
    "from cryo_challenge.data._validation.config_validators import validate_maptomap_result\n",
    "\n",
    "validate_maptomap_result?\n"
   ]
  }
 ],
 "metadata": {
  "kernelspec": {
   "display_name": "gpucryonerf",
   "language": "python",
   "name": "python3"
  },
  "language_info": {
   "codemirror_mode": {
    "name": "ipython",
    "version": 3
   },
   "file_extension": ".py",
   "mimetype": "text/x-python",
   "name": "python",
   "nbconvert_exporter": "python",
   "pygments_lexer": "ipython3",
   "version": "3.8.17"
  }
 },
 "nbformat": 4,
 "nbformat_minor": 2
}
