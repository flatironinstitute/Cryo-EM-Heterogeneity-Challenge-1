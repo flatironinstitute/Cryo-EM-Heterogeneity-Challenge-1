{
 "cells": [
  {
   "cell_type": "code",
   "metadata": {
    "ExecuteTime": {
     "end_time": "2024-06-13T07:27:34.530526Z",
     "start_time": "2024-06-13T07:27:34.505286Z"
    }
   },
   "source": [
    "%load_ext autoreload\n",
    "%autoreload 2"
   ],
   "outputs": [],
   "execution_count": 1
  },
  {
   "cell_type": "code",
   "metadata": {
    "ExecuteTime": {
     "end_time": "2024-06-13T07:27:36.113710Z",
     "start_time": "2024-06-13T07:27:34.532295Z"
    }
   },
   "source": [
    "import json\n",
    "import os\n",
    "import torch\n",
    "import matplotlib.pyplot as plt\n",
    "import numpy as np\n",
    "import yaml\n",
    "from ipyfilechooser import FileChooser"
   ],
   "outputs": [],
   "execution_count": 2
  },
  {
   "cell_type": "markdown",
   "metadata": {},
   "source": [
    "# Creating your submission_config file\n",
    "\n",
    "This file will tell the preprocessing pipeline how each submission should be processed. I will show two examples of possible submissions and explain how different parameters affect the pipeline."
   ]
  },
  {
   "metadata": {},
   "cell_type": "markdown",
   "source": ""
  },
  {
   "metadata": {
    "ExecuteTime": {
     "end_time": "2024-06-13T07:40:06.603104Z",
     "start_time": "2024-06-13T07:40:06.536721Z"
    }
   },
   "cell_type": "code",
   "source": [
    "# Select path to submissions\n",
    "path_to_sub_set = FileChooser(os.path.expanduser(\"~\"))\n",
    "path_to_sub_set.show_only_dirs = True\n",
    "display(path_to_sub_set)"
   ],
   "outputs": [
    {
     "data": {
      "text/plain": [
       "FileChooser(path='/home/flex', filename='', title='', show_hidden=False, select_desc='Select', change_desc='Ch…"
      ],
      "application/vnd.jupyter.widget-view+json": {
       "version_major": 2,
       "version_minor": 0,
       "model_id": "079b8d53900448108b5ec92c319b563c"
      }
     },
     "metadata": {},
     "output_type": "display_data"
    }
   ],
   "execution_count": 11
  },
  {
   "metadata": {
    "ExecuteTime": {
     "end_time": "2024-06-13T07:40:21.422797Z",
     "start_time": "2024-06-13T07:40:21.365912Z"
    }
   },
   "cell_type": "code",
   "source": [
    "# Select path to submissions (submission 1)\n",
    "submission1_path = FileChooser(path_to_sub_set.selected_path)\n",
    "submission1_path.show_only_dirs = True\n",
    "display(submission1_path)"
   ],
   "outputs": [
    {
     "data": {
      "text/plain": [
       "FileChooser(path='/data/flex/ScipionUserData/projects/Challenge_Flatiron_Second_New_Dataset', filename='', tit…"
      ],
      "application/vnd.jupyter.widget-view+json": {
       "version_major": 2,
       "version_minor": 0,
       "model_id": "ce28e434f6d741048f0cdad2432871ec"
      }
     },
     "metadata": {},
     "output_type": "display_data"
    }
   ],
   "execution_count": 12
  },
  {
   "metadata": {
    "ExecuteTime": {
     "end_time": "2024-06-13T07:40:31.706352Z",
     "start_time": "2024-06-13T07:40:31.645910Z"
    }
   },
   "cell_type": "code",
   "source": [
    "# Select path to submissions (submission 2)\n",
    "submission2_path = FileChooser(path_to_sub_set.selected_path)\n",
    "submission2_path.show_only_dirs = True\n",
    "display(submission2_path)"
   ],
   "outputs": [
    {
     "data": {
      "text/plain": [
       "FileChooser(path='/data/flex/ScipionUserData/projects/Challenge_Flatiron_Second_New_Dataset', filename='', tit…"
      ],
      "application/vnd.jupyter.widget-view+json": {
       "version_major": 2,
       "version_minor": 0,
       "model_id": "ef349716af4e4be2ae6fd8df521aead6"
      }
     },
     "metadata": {},
     "output_type": "display_data"
    }
   ],
   "execution_count": 13
  },
  {
   "metadata": {
    "ExecuteTime": {
     "end_time": "2024-06-13T07:40:40.403450Z",
     "start_time": "2024-06-13T07:40:40.335296Z"
    }
   },
   "cell_type": "code",
   "source": [
    "# Select path to Ground Truth\n",
    "path_gt = FileChooser(os.path.expanduser(\"~\"))\n",
    "path_gt.show_only_dirs = True\n",
    "display(path_gt)"
   ],
   "outputs": [
    {
     "data": {
      "text/plain": [
       "FileChooser(path='/home/flex', filename='', title='', show_hidden=False, select_desc='Select', change_desc='Ch…"
      ],
      "application/vnd.jupyter.widget-view+json": {
       "version_major": 2,
       "version_minor": 0,
       "model_id": "9e71e2ed0f6648808ee837e03055fbda"
      }
     },
     "metadata": {},
     "output_type": "display_data"
    }
   ],
   "execution_count": 14
  },
  {
   "cell_type": "code",
   "metadata": {
    "ExecuteTime": {
     "end_time": "2024-06-13T07:40:59.387306Z",
     "start_time": "2024-06-13T07:40:59.348942Z"
    }
   },
   "source": [
    "submission_config = {\n",
    "    \"gt\": {\n",
    "        \"name\": \"gt\",\n",
    "        \"path\": path_gt.selected_path,\n",
    "        \"box_size\": 224,\n",
    "        \"pixel_size\": 1.073 * 2,\n",
    "        \"ref_align_fname\": \"1.mrc\",\n",
    "    },\n",
    "    0: {\n",
    "        \"name\": \"submission1\",\n",
    "        \"align\": 0,\n",
    "        \"box_size\": 144,\n",
    "        \"pixel_size\": 1.073 * 2,\n",
    "        \"path\": submission1_path.selected_path,\n",
    "    },\n",
    "    1: {\n",
    "        \"name\": \"submission2\",\n",
    "        \"align\": 1,\n",
    "        \"box_size\": 288,\n",
    "        \"pixel_size\": 1.073,\n",
    "        \"path\": submission2_path.selected_path,\n",
    "    },\n",
    "}"
   ],
   "outputs": [],
   "execution_count": 15
  },
  {
   "cell_type": "code",
   "metadata": {
    "ExecuteTime": {
     "end_time": "2024-06-13T07:41:01.194466Z",
     "start_time": "2024-06-13T07:41:01.153354Z"
    }
   },
   "source": [
    "# create submission config\n",
    "with open(\"submission_config.json\", \"w\") as f:\n",
    "    json.dump(submission_config, f, indent=4)\n",
    "\n",
    "# load submission_config from json\n",
    "with open(\"submission_config.json\", \"r\") as f:\n",
    "    submission_config = json.load(f)"
   ],
   "outputs": [],
   "execution_count": 16
  },
  {
   "cell_type": "markdown",
   "metadata": {},
   "source": [
    "After you create your submission_config, simply grab a copy of the file \"config_preproc.yaml\" from the provided config_files, and change the path for the \"submission_config_file\" to the file we created in the previous cell. Also change the path for the output. The rest of the parameters you can leave untouched. Please see the publication \"Singer, A., & Yang, R. (2024). Alignment of density maps in Wasserstein distance. Biological Imaging, 4, e5\" for more details. Then simply run\n",
    "\n",
    "```bash\n",
    "cryo_challenge run_preprocessing --config /path/to/config_preproc.yaml\n",
    "```\n",
    "\n",
    "Note: make sure to activate your environment and have the package installed!\n",
    "\n",
    "You can run the following cell to visualize your volumes (more precisely, a projection of them)"
   ]
  },
  {
   "metadata": {
    "ExecuteTime": {
     "end_time": "2024-06-13T07:43:02.295840Z",
     "start_time": "2024-06-13T07:43:02.231814Z"
    }
   },
   "cell_type": "code",
   "source": [
    "# Select path to Config\n",
    "config_preproc_path = FileChooser(os.path.expanduser(\"~\"))\n",
    "config_preproc_path.filter_pattern = '*.yaml'\n",
    "display(config_preproc_path)"
   ],
   "outputs": [
    {
     "data": {
      "text/plain": [
       "FileChooser(path='/home/flex', filename='', title='', show_hidden=False, select_desc='Select', change_desc='Ch…"
      ],
      "application/vnd.jupyter.widget-view+json": {
       "version_major": 2,
       "version_minor": 0,
       "model_id": "c0538171e58e4fb58fc2633c0624b3a7"
      }
     },
     "metadata": {},
     "output_type": "display_data"
    }
   ],
   "execution_count": 19
  },
  {
   "metadata": {
    "ExecuteTime": {
     "end_time": "2024-06-13T07:43:16.259106Z",
     "start_time": "2024-06-13T07:43:16.215287Z"
    }
   },
   "cell_type": "code",
   "source": [
    "# Get output path from config file\n",
    "with open(config_preproc_path.selected_filename, \"r\") as f:\n",
    "    config_preproc = yaml.safe_load(f)\n",
    "output_path = config_preproc[\"output_path\"]"
   ],
   "outputs": [],
   "execution_count": 20
  },
  {
   "cell_type": "code",
   "metadata": {
    "ExecuteTime": {
     "end_time": "2024-06-13T07:43:22.054839Z",
     "start_time": "2024-06-13T07:43:18.169467Z"
    }
   },
   "source": [
    "n_submissions = 2  # change this to however many submissions you preprocessed\n",
    "\n",
    "fig, ax = plt.subplots(2, 6, figsize=(20, 8))  # change values here too\n",
    "\n",
    "for i in range(n_submissions):\n",
    "    idx = np.random.randint(\n",
    "        0, 20\n",
    "    )  # doing random volumes to check that everything went fine\n",
    "\n",
    "    submission = torch.load(os.path.join(output_path, f\"submission_{i}.pt\"))\n",
    "    print(submission[\"volumes\"].shape, submission[\"id\"])\n",
    "    ax.flatten()[i].imshow(submission[\"volumes\"][idx].sum(axis=0))\n",
    "    ax.flatten()[i].set_title(submission[\"id\"])"
   ],
   "outputs": [
    {
     "name": "stdout",
     "output_type": "stream",
     "text": [
      "torch.Size([80, 224, 224, 224]) Mango\n"
     ]
    },
    {
     "ename": "FileNotFoundError",
     "evalue": "[Errno 2] No such file or directory: '/home/flex/Projects/Cryo-EM-Heterogeneity-Challenge-1/tutorials/results/submission_1.pt'",
     "output_type": "error",
     "traceback": [
      "\u001B[0;31m---------------------------------------------------------------------------\u001B[0m",
      "\u001B[0;31mFileNotFoundError\u001B[0m                         Traceback (most recent call last)",
      "Cell \u001B[0;32mIn[21], line 10\u001B[0m\n\u001B[1;32m      5\u001B[0m \u001B[38;5;28;01mfor\u001B[39;00m i \u001B[38;5;129;01min\u001B[39;00m \u001B[38;5;28mrange\u001B[39m(n_submissions):\n\u001B[1;32m      6\u001B[0m     idx \u001B[38;5;241m=\u001B[39m np\u001B[38;5;241m.\u001B[39mrandom\u001B[38;5;241m.\u001B[39mrandint(\n\u001B[1;32m      7\u001B[0m         \u001B[38;5;241m0\u001B[39m, \u001B[38;5;241m20\u001B[39m\n\u001B[1;32m      8\u001B[0m     )  \u001B[38;5;66;03m# doing random volumes to check that everything went fine\u001B[39;00m\n\u001B[0;32m---> 10\u001B[0m     submission \u001B[38;5;241m=\u001B[39m \u001B[43mtorch\u001B[49m\u001B[38;5;241;43m.\u001B[39;49m\u001B[43mload\u001B[49m\u001B[43m(\u001B[49m\u001B[43mos\u001B[49m\u001B[38;5;241;43m.\u001B[39;49m\u001B[43mpath\u001B[49m\u001B[38;5;241;43m.\u001B[39;49m\u001B[43mjoin\u001B[49m\u001B[43m(\u001B[49m\u001B[43moutput_path\u001B[49m\u001B[43m,\u001B[49m\u001B[43m \u001B[49m\u001B[38;5;124;43mf\u001B[39;49m\u001B[38;5;124;43m\"\u001B[39;49m\u001B[38;5;124;43msubmission_\u001B[39;49m\u001B[38;5;132;43;01m{\u001B[39;49;00m\u001B[43mi\u001B[49m\u001B[38;5;132;43;01m}\u001B[39;49;00m\u001B[38;5;124;43m.pt\u001B[39;49m\u001B[38;5;124;43m\"\u001B[39;49m\u001B[43m)\u001B[49m\u001B[43m)\u001B[49m\n\u001B[1;32m     11\u001B[0m     \u001B[38;5;28mprint\u001B[39m(submission[\u001B[38;5;124m\"\u001B[39m\u001B[38;5;124mvolumes\u001B[39m\u001B[38;5;124m\"\u001B[39m]\u001B[38;5;241m.\u001B[39mshape, submission[\u001B[38;5;124m\"\u001B[39m\u001B[38;5;124mid\u001B[39m\u001B[38;5;124m\"\u001B[39m])\n\u001B[1;32m     12\u001B[0m     ax\u001B[38;5;241m.\u001B[39mflatten()[i]\u001B[38;5;241m.\u001B[39mimshow(submission[\u001B[38;5;124m\"\u001B[39m\u001B[38;5;124mvolumes\u001B[39m\u001B[38;5;124m\"\u001B[39m][idx]\u001B[38;5;241m.\u001B[39msum(axis\u001B[38;5;241m=\u001B[39m\u001B[38;5;241m0\u001B[39m))\n",
      "File \u001B[0;32m~/miniforge3/envs/challenge_flatiron/lib/python3.10/site-packages/torch/serialization.py:997\u001B[0m, in \u001B[0;36mload\u001B[0;34m(f, map_location, pickle_module, weights_only, mmap, **pickle_load_args)\u001B[0m\n\u001B[1;32m    994\u001B[0m \u001B[38;5;28;01mif\u001B[39;00m \u001B[38;5;124m'\u001B[39m\u001B[38;5;124mencoding\u001B[39m\u001B[38;5;124m'\u001B[39m \u001B[38;5;129;01mnot\u001B[39;00m \u001B[38;5;129;01min\u001B[39;00m pickle_load_args\u001B[38;5;241m.\u001B[39mkeys():\n\u001B[1;32m    995\u001B[0m     pickle_load_args[\u001B[38;5;124m'\u001B[39m\u001B[38;5;124mencoding\u001B[39m\u001B[38;5;124m'\u001B[39m] \u001B[38;5;241m=\u001B[39m \u001B[38;5;124m'\u001B[39m\u001B[38;5;124mutf-8\u001B[39m\u001B[38;5;124m'\u001B[39m\n\u001B[0;32m--> 997\u001B[0m \u001B[38;5;28;01mwith\u001B[39;00m \u001B[43m_open_file_like\u001B[49m\u001B[43m(\u001B[49m\u001B[43mf\u001B[49m\u001B[43m,\u001B[49m\u001B[43m \u001B[49m\u001B[38;5;124;43m'\u001B[39;49m\u001B[38;5;124;43mrb\u001B[39;49m\u001B[38;5;124;43m'\u001B[39;49m\u001B[43m)\u001B[49m \u001B[38;5;28;01mas\u001B[39;00m opened_file:\n\u001B[1;32m    998\u001B[0m     \u001B[38;5;28;01mif\u001B[39;00m _is_zipfile(opened_file):\n\u001B[1;32m    999\u001B[0m         \u001B[38;5;66;03m# The zipfile reader is going to advance the current file position.\u001B[39;00m\n\u001B[1;32m   1000\u001B[0m         \u001B[38;5;66;03m# If we want to actually tail call to torch.jit.load, we need to\u001B[39;00m\n\u001B[1;32m   1001\u001B[0m         \u001B[38;5;66;03m# reset back to the original position.\u001B[39;00m\n\u001B[1;32m   1002\u001B[0m         orig_position \u001B[38;5;241m=\u001B[39m opened_file\u001B[38;5;241m.\u001B[39mtell()\n",
      "File \u001B[0;32m~/miniforge3/envs/challenge_flatiron/lib/python3.10/site-packages/torch/serialization.py:444\u001B[0m, in \u001B[0;36m_open_file_like\u001B[0;34m(name_or_buffer, mode)\u001B[0m\n\u001B[1;32m    442\u001B[0m \u001B[38;5;28;01mdef\u001B[39;00m \u001B[38;5;21m_open_file_like\u001B[39m(name_or_buffer, mode):\n\u001B[1;32m    443\u001B[0m     \u001B[38;5;28;01mif\u001B[39;00m _is_path(name_or_buffer):\n\u001B[0;32m--> 444\u001B[0m         \u001B[38;5;28;01mreturn\u001B[39;00m \u001B[43m_open_file\u001B[49m\u001B[43m(\u001B[49m\u001B[43mname_or_buffer\u001B[49m\u001B[43m,\u001B[49m\u001B[43m \u001B[49m\u001B[43mmode\u001B[49m\u001B[43m)\u001B[49m\n\u001B[1;32m    445\u001B[0m     \u001B[38;5;28;01melse\u001B[39;00m:\n\u001B[1;32m    446\u001B[0m         \u001B[38;5;28;01mif\u001B[39;00m \u001B[38;5;124m'\u001B[39m\u001B[38;5;124mw\u001B[39m\u001B[38;5;124m'\u001B[39m \u001B[38;5;129;01min\u001B[39;00m mode:\n",
      "File \u001B[0;32m~/miniforge3/envs/challenge_flatiron/lib/python3.10/site-packages/torch/serialization.py:425\u001B[0m, in \u001B[0;36m_open_file.__init__\u001B[0;34m(self, name, mode)\u001B[0m\n\u001B[1;32m    424\u001B[0m \u001B[38;5;28;01mdef\u001B[39;00m \u001B[38;5;21m__init__\u001B[39m(\u001B[38;5;28mself\u001B[39m, name, mode):\n\u001B[0;32m--> 425\u001B[0m     \u001B[38;5;28msuper\u001B[39m()\u001B[38;5;241m.\u001B[39m\u001B[38;5;21m__init__\u001B[39m(\u001B[38;5;28;43mopen\u001B[39;49m\u001B[43m(\u001B[49m\u001B[43mname\u001B[49m\u001B[43m,\u001B[49m\u001B[43m \u001B[49m\u001B[43mmode\u001B[49m\u001B[43m)\u001B[49m)\n",
      "\u001B[0;31mFileNotFoundError\u001B[0m: [Errno 2] No such file or directory: '/home/flex/Projects/Cryo-EM-Heterogeneity-Challenge-1/tutorials/results/submission_1.pt'"
     ]
    },
    {
     "data": {
      "text/plain": [
       "<Figure size 2000x800 with 12 Axes>"
      ],
      "image/png": "[encoded data removed]"
     },
     "metadata": {},
     "output_type": "display_data"
    }
   ],
   "execution_count": 21
  },
  {
   "cell_type": "code",
   "execution_count": null,
   "metadata": {},
   "outputs": [],
   "source": []
  }
 ],
 "metadata": {
  "kernelspec": {
   "display_name": "Python 3 (ipykernel)",
   "language": "python",
   "name": "python3"
  },
  "language_info": {
   "codemirror_mode": {
    "name": "ipython",
    "version": 3
   },
   "file_extension": ".py",
   "mimetype": "text/x-python",
   "name": "python",
   "nbconvert_exporter": "python",
   "pygments_lexer": "ipython3",
   "version": "3.10.10"
  }
 },
 "nbformat": 4,
 "nbformat_minor": 2
}
