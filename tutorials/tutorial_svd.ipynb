{
 "cells": [
  {
   "cell_type": "code",
   "execution_count": null,
   "metadata": {},
   "outputs": [],
   "source": [
    "%load_ext autoreload\n",
    "%autoreload 2"
   ]
  },
  {
   "cell_type": "code",
   "execution_count": null,
   "metadata": {},
   "outputs": [],
   "source": [
    "import torch\n",
    "import yaml\n",
    "import matplotlib.pyplot as plt\n",
    "import seaborn as sns\n",
    "import numpy as np"
   ]
  },
  {
   "cell_type": "markdown",
   "metadata": {},
   "source": [
    "# Analysis of submission 2 \n",
    "\n",
    "In this tutorial we will use submission 2, as we can do both the all vs all analysis and the all vs GT analysis. Let's do all vs GT first.\n",
    "\n",
    "## Computing SVD from Ground Truth and projection submissions\n",
    "\n",
    "First I will load the example config file we provided so we can look at the keys it has"
   ]
  },
  {
   "cell_type": "code",
   "execution_count": null,
   "metadata": {},
   "outputs": [],
   "source": [
    "with open(\"../config_files/config_svd.yaml\", \"r\") as f:\n",
    "    config_example = yaml.safe_load(f)"
   ]
  },
  {
   "cell_type": "code",
   "execution_count": null,
   "metadata": {},
   "outputs": [],
   "source": [
    "print(f\"keys for config: {config_example.keys()}\")\n",
    "print(f\"keys for output_options: {config_example['output_options'].keys()}\")"
   ]
  },
  {
   "cell_type": "markdown",
   "metadata": {},
   "source": [
    "Here is a brief explanation of each key\n",
    "\n",
    "* path_to_volumes (str): this is the path to your submissions (the result of running the preprocessing). They should be called submission_0.pt, submission_1.pt, ...\n",
    "* box_size_ds (int): you can choose to downsample the volumes to speed up the analysis, or to get rid of high frequency features.\n",
    "* submission_list (List): here you can choose which submissions are used for the analysis. If you want to use submissions 0, 3, 6; then this should be [0, 3, 6]\n",
    "* experiment_mode (str): the options are \"all_vs_all\", \"all_vs_ref\". If you are using ref, then SVD is computed from the refence volumes and the rest of the volumes are projected to it. Otherwise, all volumes are used to do the projection\n",
    "* path_to_reference (str): path to the reference volumes (only needed if mode is \"all_vs_ref\")\n",
    "* dtype (str): can be float32 or float64\n",
    "* output_options (dict): dictionary with options to personalize the output\n",
    "    * output_path (str): where the volumes will be saved\n",
    "    * save_volumes (bool): whether or not to save the volumes used (this will save the normalized, downsampled, and mean-removed volumes)\n",
    "    * save_svd_matrices (bool): whether or not to save the matrices computed from the SVD"
   ]
  },
  {
   "cell_type": "markdown",
   "metadata": {},
   "source": [
    "After setting up your config, simply run in your terminal (make sure to install and activate the environment)\n",
    "\n",
    "```bash\n",
    "cryo_challenge run_svd --config /path/to/config\n",
    "```\n",
    "\n",
    "After the code is done running you can load your results as"
   ]
  },
  {
   "cell_type": "code",
   "execution_count": null,
   "metadata": {},
   "outputs": [],
   "source": [
    "data_svd_vs_gt = torch.load(\"/path/to/results/svd_results.pt\")"
   ]
  },
  {
   "cell_type": "markdown",
   "metadata": {},
   "source": [
    "The results look like"
   ]
  },
  {
   "cell_type": "code",
   "execution_count": null,
   "metadata": {},
   "outputs": [],
   "source": [
    "data_svd_vs_gt.keys()"
   ]
  },
  {
   "cell_type": "code",
   "execution_count": null,
   "metadata": {},
   "outputs": [],
   "source": [
    "data_svd_vs_gt[\"metadata\"][\"Salted Caramel\"].keys()"
   ]
  },
  {
   "cell_type": "markdown",
   "metadata": {},
   "source": [
    "Here is a brief description of each key\n",
    "\n",
    "* coeffs: these are the coefficients of the expansion for the submissions. They are flattened, so their shape is something like `(n_submissions * 80, D**3)`. Where `D` is the box size after downsampling.\n",
    "\n",
    "* coeffs_ref: similar to coeffs, but these are the coefficients for the reference volumes (the ones used to compute the svd).\n",
    "\n",
    "* metadata: this is a dictionary with information about the submissions, the keys are the id of each submission (the ice cream flavor)\n",
    "    * n_vols: how many volumes were included in this submission (ideally, 80)\n",
    "    * populations: normalized submitted populations\n",
    "    * indices: since the coeffs are flattened, this indices tells you the range for the coefficients of this submission `coeffs[indices[0], indices[1]]`\n",
    "\n",
    "* config: a copy of the config used to generate the data\n",
    "\n",
    "If you chose to save volumes. The volumes saved are downsampled, normalized and without mean. The means are provided in case they are necessary.\n",
    "\n",
    "* volumes: Submission volumes. They are useful for rerunning things or to create animations.\n",
    "* mean_volumes: mean volumes for each submission\n",
    "* ref_volumes: same, but for the reference volumes\n",
    "* mean_ref_volume: mean reference volume.\n",
    "\n",
    "If you chose to save the singular value matrices\n",
    "* U: right-singular vectors\n",
    "* S: singular values\n",
    "* V_T: left-singular vectors\n",
    "\n"
   ]
  },
  {
   "cell_type": "markdown",
   "metadata": {},
   "source": [
    "Here is how to generate the plots we have showed "
   ]
  },
  {
   "cell_type": "code",
   "execution_count": null,
   "metadata": {},
   "outputs": [],
   "source": [
    "fig, ax = plt.subplots(3, 4, figsize=(23, 15), sharex=True, sharey=True)\n",
    "\n",
    "for i, id in enumerate(data_svd_vs_gt[\"metadata\"].keys()):\n",
    "    sns.scatterplot(\n",
    "        x=data_svd_vs_gt[\"coeffs_ref\"][:, 0],\n",
    "        y=data_svd_vs_gt[\"coeffs_ref\"][:, 1],\n",
    "        edgecolors=None,\n",
    "        linewidth=0,\n",
    "        marker=\"X\",\n",
    "        label=\"Ground Truth\",\n",
    "        ax=ax.flatten()[i],\n",
    "        s=40,\n",
    "        alpha=0.8,\n",
    "        color=\"#a1c9f4\",\n",
    "    )\n",
    "\n",
    "    idx_0, idx_1 = data_svd_vs_gt[\"metadata\"][id][\"indices\"]\n",
    "    populations = data_svd_vs_gt[\"metadata\"][id][\"populations\"]\n",
    "\n",
    "    ax.flatten()[i].scatter(\n",
    "        x=data_svd_vs_gt[\"coeffs\"][idx_0:idx_1, 0],\n",
    "        y=data_svd_vs_gt[\"coeffs\"][idx_0:idx_1, 1],\n",
    "        color=\"red\",\n",
    "        s=populations / populations.max() * 200,\n",
    "        marker=\"o\",\n",
    "        linewidth=0.3,\n",
    "        edgecolor=\"white\",\n",
    "        label=id,\n",
    "    )\n",
    "\n",
    "    ax.flatten()[i].set_xlabel(\"SVD 1\", fontsize=12)\n",
    "    ax.flatten()[i].set_ylabel(\"SVD 2\", fontsize=12)\n",
    "    ax.flatten()[i].legend(loc=\"upper left\", fontsize=12)\n",
    "\n",
    "# ax[0].set_title(\"Submission vs all submissions\")\n",
    "ax[2, 3].axis(\"off\")\n",
    "\n",
    "# adjust horizontal space\n",
    "plt.subplots_adjust(wspace=0.5, hspace=0.5)\n",
    "fig.suptitle(\"Set2: Projection of each submission onto GT's SVD\", fontsize=16, y=0.92)"
   ]
  },
  {
   "cell_type": "code",
   "execution_count": null,
   "metadata": {},
   "outputs": [],
   "source": [
    "fig, ax = plt.subplots(3, 4, figsize=(23, 15), sharex=True, sharey=True)\n",
    "\n",
    "for i, id in enumerate(data_svd_vs_gt[\"metadata\"].keys()):\n",
    "    frq, edges = np.histogram(data_svd_vs_gt[\"coeffs_ref\"][:, 0], bins=30)\n",
    "    ax.flatten()[i].bar(\n",
    "        edges[:-1],\n",
    "        frq / frq.max(),\n",
    "        width=np.diff(edges),\n",
    "        label=\"Ground Truth\",\n",
    "        alpha=0.8,\n",
    "        color=\"#a1c9f4\",\n",
    "    )\n",
    "\n",
    "    idx_0, idx_1 = data_svd_vs_gt[\"metadata\"][id][\"indices\"]\n",
    "    populations = data_svd_vs_gt[\"metadata\"][id][\"populations\"]\n",
    "\n",
    "    ax.flatten()[i].scatter(\n",
    "        x=data_svd_vs_gt[\"coeffs\"][idx_0:idx_1, 0],\n",
    "        y=populations / populations.max(),\n",
    "        color=\"red\",\n",
    "        marker=\"o\",\n",
    "        s=60,\n",
    "        linewidth=0.3,\n",
    "        edgecolor=\"white\",\n",
    "        label=id,\n",
    "    )\n",
    "\n",
    "    ax.flatten()[i].set_xlabel(\"SVD 1\", fontsize=12)\n",
    "    ax.flatten()[i].set_ylabel(\"SVD 2\", fontsize=12)\n",
    "    ax.flatten()[i].legend(loc=\"upper left\", fontsize=12)\n",
    "\n",
    "# ax[0].set_title(\"Submission vs all submissions\")\n",
    "ax[2, 3].axis(\"off\")\n",
    "\n",
    "# adjust horizontal space\n",
    "plt.subplots_adjust(wspace=0.5, hspace=0.5)\n",
    "fig.suptitle(\"Set2: Projection of each submission onto GT's SVD\", fontsize=16, y=0.92)"
   ]
  },
  {
   "cell_type": "markdown",
   "metadata": {},
   "source": [
    "# Comparing submissions to each other (all vs all)"
   ]
  },
  {
   "cell_type": "markdown",
   "metadata": {},
   "source": [
    "Follow the same instructions as before, but change the mode to all_vs_all. I will leave the code used to generate the images."
   ]
  },
  {
   "cell_type": "code",
   "execution_count": null,
   "metadata": {},
   "outputs": [],
   "source": [
    "data_svd_all_vs_all = torch.load(\"/path/to/results/svd_results.pt\")"
   ]
  },
  {
   "cell_type": "markdown",
   "metadata": {},
   "source": [
    "The description for the keys is the same, except now we don't have the keys for the reference maps (as there is none)"
   ]
  },
  {
   "cell_type": "code",
   "execution_count": null,
   "metadata": {},
   "outputs": [],
   "source": [
    "data_svd_all_vs_all.keys()"
   ]
  },
  {
   "cell_type": "markdown",
   "metadata": {},
   "source": [
    "We also need to compute the weights for each volume, as we will use this for the plot (we do weighted KDE)"
   ]
  },
  {
   "cell_type": "code",
   "execution_count": null,
   "metadata": {},
   "outputs": [],
   "source": [
    "weights = []\n",
    "for i, id in enumerate(data_svd_all_vs_all[\"metadata\"].keys()):\n",
    "    populations = data_svd_vs_gt[\"metadata\"][id][\"populations\"]\n",
    "    weights += populations.numpy().tolist()\n",
    "\n",
    "weights = np.array(weights)\n",
    "weights = weights / weights.sum()"
   ]
  },
  {
   "cell_type": "code",
   "execution_count": null,
   "metadata": {},
   "outputs": [],
   "source": [
    "fig, ax = plt.subplots(3, 4, figsize=(4 * 5, 3 * 5))\n",
    "# fig.suptitle(\"KDEPlots for UMAP Embedding of SVD Coefficients for Set 2 with GT as reference\")\n",
    "\n",
    "for i, id in enumerate(data_svd_all_vs_all[\"metadata\"].keys()):\n",
    "    sns.kdeplot(\n",
    "        x=data_svd_all_vs_all[\"coeffs\"][:, 0],\n",
    "        y=data_svd_all_vs_all[\"coeffs\"][:, 1],\n",
    "        cmap=\"viridis\",\n",
    "        fill=True,\n",
    "        cbar=False,\n",
    "        ax=ax.flatten()[i],\n",
    "        weights=weights,\n",
    "    )\n",
    "\n",
    "    idx_0, idx_1 = data_svd_vs_gt[\"metadata\"][id][\"indices\"]\n",
    "    populations = data_svd_vs_gt[\"metadata\"][id][\"populations\"]\n",
    "\n",
    "    ax.flatten()[i].scatter(\n",
    "        x=data_svd_vs_gt[\"coeffs\"][idx_0:idx_1, 0],\n",
    "        y=data_svd_vs_gt[\"coeffs\"][idx_0:idx_1, 1],\n",
    "        color=\"red\",\n",
    "        s=populations / populations.max() * 200,\n",
    "        marker=\"o\",\n",
    "        linewidth=0.3,\n",
    "        edgecolor=\"white\",\n",
    "        label=id,\n",
    "    )\n",
    "\n",
    "    ax.flatten()[i].set_xlabel(\"SVD 1\", fontsize=12)\n",
    "    ax.flatten()[i].set_ylabel(\"SVD 2\", fontsize=12)\n",
    "    ax.flatten()[i].legend(fontsize=12)\n",
    "\n",
    "\n",
    "# adjust horizontal space\n",
    "plt.subplots_adjust(wspace=0.5, hspace=0.5)\n",
    "fig.suptitle(\n",
    "    \"Set2: 1st and 2nd SVD coefficient for each submission vs. distribution of all coefficients\",\n",
    "    fontsize=16,\n",
    "    y=0.92,\n",
    ")"
   ]
  },
  {
   "cell_type": "code",
   "execution_count": null,
   "metadata": {},
   "outputs": [],
   "source": []
  }
 ],
 "metadata": {
  "kernelspec": {
   "display_name": "cryo-challenge-kernel",
   "language": "python",
   "name": "cryo-challenge-kernel"
  },
  "language_info": {
   "codemirror_mode": {
    "name": "ipython",
    "version": 3
   },
   "file_extension": ".py",
   "mimetype": "text/x-python",
   "name": "python",
   "nbconvert_exporter": "python",
   "pygments_lexer": "ipython3",
   "version": "3.10.10"
  }
 },
 "nbformat": 4,
 "nbformat_minor": 2
}
