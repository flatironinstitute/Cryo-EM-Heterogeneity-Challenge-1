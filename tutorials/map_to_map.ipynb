{
 "cells": [
  {
   "cell_type": "markdown",
   "metadata": {},
   "source": [
    "After you preprocess your data (submission_*.pt), you can compute a map to map distance matrix, for various distance functions, by the following steps\n",
    "\n",
    "1. Create a the config file `config_files/map_to_map_distance_matrix_config.yaml`\n",
    "This config file has information about how to read the preprocessed submission and ground truth data, and how to perform the map to map distance analysis. This is validated in `cryo_challenge.data._validation.config_validators.validate_input_config_mtm`.\n",
    "\n",
    "2. Run `python -m cryo_challenge._map_to_map.map_to_map_distance_matrix --config config_files/map_to_map_distance_matrix_config.yaml`"
   ]
  }
 ],
 "metadata": {
  "language_info": {
   "name": "python"
  }
 },
 "nbformat": 4,
 "nbformat_minor": 2
}
