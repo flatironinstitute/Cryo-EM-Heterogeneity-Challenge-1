{
 "cells": [
  {
   "cell_type": "code",
   "execution_count": null,
   "metadata": {
    "ExecuteTime": {
     "end_time": "2024-06-17T15:40:12.854854Z",
     "start_time": "2024-06-17T15:40:12.829426Z"
    }
   },
   "outputs": [],
   "source": [
    "%load_ext autoreload\n",
    "%autoreload 2"
   ]
  },
  {
   "cell_type": "code",
   "execution_count": null,
   "metadata": {
    "ExecuteTime": {
     "end_time": "2024-06-17T15:40:20.557563Z",
     "start_time": "2024-06-17T15:40:18.847242Z"
    }
   },
   "outputs": [],
   "source": [
    "import json\n",
    "import os\n",
    "import torch\n",
    "import matplotlib.pyplot as plt\n",
    "import yaml\n",
    "from ipyfilechooser import FileChooser"
   ]
  },
  {
   "cell_type": "markdown",
   "metadata": {},
   "source": [
    "# Creating your submission_config file\n",
    "\n",
    "This file will tell the preprocessing pipeline how each submission should be processed. I will show two examples of possible submissions and explain how different parameters affect the pipeline.\n",
    "\n",
    "Note that the submission directories need maps numbered 01.mrc to 80.mrc and a populations.txt file that has the corresponding populations weights (no header) each separated by a newline (so 80 rows in total), such that the total sums to 1."
   ]
  },
  {
   "cell_type": "code",
   "execution_count": null,
   "metadata": {
    "ExecuteTime": {
     "end_time": "2024-06-17T15:40:28.587603Z",
     "start_time": "2024-06-17T15:40:28.496607Z"
    }
   },
   "outputs": [],
   "source": [
    "# Select path to submissions\n",
    "path_to_sub_set = FileChooser(os.path.expanduser(\"~\"))\n",
    "path_to_sub_set.show_only_dirs = True\n",
    "display(path_to_sub_set)"
   ]
  },
  {
   "cell_type": "code",
   "execution_count": null,
   "metadata": {
    "ExecuteTime": {
     "end_time": "2024-06-13T07:40:21.422797Z",
     "start_time": "2024-06-13T07:40:21.365912Z"
    }
   },
   "outputs": [],
   "source": [
    "# Select path to submissions (submission 1)\n",
    "submission1_path = FileChooser(path_to_sub_set.selected_path)\n",
    "submission1_path.show_only_dirs = True\n",
    "display(submission1_path)"
   ]
  },
  {
   "cell_type": "code",
   "execution_count": null,
   "metadata": {},
   "outputs": [],
   "source": [
    "# Select path to populations (submission 1)\n",
    "submission1_pop_path = FileChooser(path_to_sub_set.selected_path)\n",
    "display(submission1_pop_path)"
   ]
  },
  {
   "cell_type": "code",
   "execution_count": null,
   "metadata": {
    "ExecuteTime": {
     "end_time": "2024-06-13T07:40:31.706352Z",
     "start_time": "2024-06-13T07:40:31.645910Z"
    }
   },
   "outputs": [],
   "source": [
    "# Select path to submissions (submission 2)\n",
    "submission2_path = FileChooser(path_to_sub_set.selected_path)\n",
    "submission2_path.show_only_dirs = True\n",
    "display(submission2_path)"
   ]
  },
  {
   "cell_type": "code",
   "execution_count": null,
   "metadata": {},
   "outputs": [],
   "source": [
    "# Select path to populations (submission 2)\n",
    "submission2_pop_path = FileChooser(path_to_sub_set.selected_path)\n",
    "display(submission2_pop_path)"
   ]
  },
  {
   "cell_type": "code",
   "execution_count": null,
   "metadata": {},
   "outputs": [],
   "source": [
    "submission2_pop_path.selected"
   ]
  },
  {
   "cell_type": "code",
   "execution_count": null,
   "metadata": {
    "ExecuteTime": {
     "end_time": "2024-06-13T07:40:40.403450Z",
     "start_time": "2024-06-13T07:40:40.335296Z"
    }
   },
   "outputs": [],
   "source": [
    "# Select path to Ground Truth\n",
    "path_gt = FileChooser(os.path.expanduser(\"~\"))\n",
    "path_gt.show_only_dirs = True\n",
    "display(path_gt)"
   ]
  },
  {
   "cell_type": "code",
   "execution_count": null,
   "metadata": {
    "ExecuteTime": {
     "end_time": "2024-06-13T07:40:59.387306Z",
     "start_time": "2024-06-13T07:40:59.348942Z"
    }
   },
   "outputs": [],
   "source": [
    "submission_config = {\n",
    "    \"gt\": {\n",
    "        \"name\": \"gt\",\n",
    "        \"path\": path_gt.selected_path,\n",
    "        \"box_size\": 224,\n",
    "        \"pixel_size\": 1.073 * 2,\n",
    "        \"ref_align_fname\": \"1.mrc\",\n",
    "    },\n",
    "    0: {\n",
    "        \"path\": submission1_path.selected_path,\n",
    "        \"populations_file\": submission1_pop_path.selected,\n",
    "        \"name\": \"submission1\",\n",
    "        \"submission_version\": 0,  # does not change the submission id\n",
    "        \"box_size\": 144,\n",
    "        \"pixel_size\": 1.073 * 2,\n",
    "        \"flip\": 0,\n",
    "        \"align\": 0,\n",
    "    },\n",
    "    1: {\n",
    "        \"path\": submission2_path.selected_path,\n",
    "        \"populations_file\": submission2_pop_path.selected,\n",
    "        \"name\": \"submission2\",\n",
    "        \"submission_version\": 1,  # makes the id \"ice cream name 1\"\n",
    "        \"box_size\": 288,\n",
    "        \"pixel_size\": 1.073,\n",
    "        \"flip\": 1,  # flip the z axis. DO AN ALIGN if you set this to 1\n",
    "        \"align\": 1,\n",
    "    },\n",
    "}"
   ]
  },
  {
   "cell_type": "code",
   "execution_count": null,
   "metadata": {
    "ExecuteTime": {
     "end_time": "2024-06-13T07:41:01.194466Z",
     "start_time": "2024-06-13T07:41:01.153354Z"
    }
   },
   "outputs": [],
   "source": [
    "# create submission config\n",
    "with open(\"submission_config.json\", \"w\") as f:\n",
    "    json.dump(submission_config, f, indent=4)\n",
    "\n",
    "# load submission_config from json\n",
    "with open(\"submission_config.json\", \"r\") as f:\n",
    "    submission_config = json.load(f)"
   ]
  },
  {
   "cell_type": "markdown",
   "metadata": {},
   "source": [
    "Lastly, to run the preprocessing pipeline follow these steps\n",
    "\n",
    "0. Make sure to activate your environment and have the package installed!\n",
    "\n",
    "1. Grab a copy of the file `config_preproc.yaml`from our config file templates.\n",
    "\n",
    "2. In the copied config file, update the value of `submission_config_file` to match the path to the file we created in the last cell.\n",
    "\n",
    "3. Optionally, change the other parameters. \n",
    "    * Most of the parameters (BOT_* and thresh_percentile) are for the alignment. For details on how they work, please see the publication \"Singer, A., & Yang, R. (2024). Alignment of density maps in Wasserstein distance. Biological Imaging, 4, e5\" for more details. \n",
    "\n",
    "    * The other parameters are self explanatory, \"seed_flavor_assignment\" changes which submission gets assigned which ice cream flavor, keep this if you want to revert anonymity.\n",
    "\n",
    "4. Run the command: `cryo_challenge run_preprocessing --config /path/to/config_preproc.yaml`\n",
    "\n",
    "You can run the following cell to visualize your volumes (more precisely, a projection of them)\n"
   ]
  },
  {
   "cell_type": "code",
   "execution_count": null,
   "metadata": {
    "ExecuteTime": {
     "end_time": "2024-06-13T07:43:02.295840Z",
     "start_time": "2024-06-13T07:43:02.231814Z"
    }
   },
   "outputs": [],
   "source": [
    "# Select path to Config file\n",
    "# An example of this file is available in the path ../config_files/config_preproc.yaml\n",
    "config_preproc_path = FileChooser(os.path.expanduser(\"~\"))\n",
    "config_preproc_path.filter_pattern = '*.yaml'\n",
    "display(config_preproc_path)"
   ]
  },
  {
   "cell_type": "code",
   "execution_count": null,
   "metadata": {
    "ExecuteTime": {
     "end_time": "2024-06-13T07:43:16.259106Z",
     "start_time": "2024-06-13T07:43:16.215287Z"
    }
   },
   "outputs": [],
   "source": [
    "# Get output path from config file\n",
    "with open(config_preproc_path.value, \"r\") as f:\n",
    "    config_preproc = yaml.safe_load(f)\n",
    "output_path = config_preproc[\"output_path\"]\n",
    "\n",
    "if os.path.isabs(output_path):\n",
    "    full_output_path = output_path\n",
    "else:\n",
    "    full_output_path = os.path.join(os.getcwd(), '..', output_path)"
   ]
  },
  {
   "cell_type": "code",
   "execution_count": null,
   "metadata": {
    "ExecuteTime": {
     "end_time": "2024-06-13T07:43:22.054839Z",
     "start_time": "2024-06-13T07:43:18.169467Z"
    }
   },
   "outputs": [],
   "source": [
    "n_submissions = 2  # change this to however many submissions you preprocessed\n",
    "\n",
    "fig, ax = plt.subplots(1, 2, figsize=(10, 4))  # change values here too\n",
    "\n",
    "for i in range(n_submissions):\n",
    "    idx = 0\n",
    "\n",
    "    submission = torch.load(os.path.join(full_output_path, f\"submission_{i}.pt\"))\n",
    "    print(submission[\"volumes\"].shape, submission[\"id\"])\n",
    "    ax.flatten()[i].imshow(submission[\"volumes\"][idx].sum(axis=0))\n",
    "    ax.flatten()[i].set_title(submission[\"id\"])"
   ]
  }
 ],
 "metadata": {
  "kernelspec": {
   "display_name": "cryo-challenge-kernel",
   "language": "python",
   "name": "cryo-challenge-kernel"
  },
  "language_info": {
   "codemirror_mode": {
    "name": "ipython",
    "version": 3
   },
   "file_extension": ".py",
   "mimetype": "text/x-python",
   "name": "python",
   "nbconvert_exporter": "python",
   "pygments_lexer": "ipython3",
   "version": "3.10.10"
  }
 },
 "nbformat": 4,
 "nbformat_minor": 2
}
