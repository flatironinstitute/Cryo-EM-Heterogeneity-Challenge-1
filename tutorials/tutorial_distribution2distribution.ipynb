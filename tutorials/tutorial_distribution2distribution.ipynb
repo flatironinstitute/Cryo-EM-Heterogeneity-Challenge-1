{
 "cells": [
  {
   "cell_type": "code",
   "execution_count": 1,
   "metadata": {},
   "outputs": [],
   "source": [
    "%load_ext autoreload\n",
    "%autoreload 2"
   ]
  },
  {
   "metadata": {},
   "cell_type": "code",
   "outputs": [],
   "execution_count": null,
   "source": [
    "import os\n",
    "import yaml\n",
    "import pickle\n",
    "from ipyfilechooser import FileChooser\n",
    "\n",
    "from cryo_challenge.data import validate_input_config_disttodist, validate_config_dtd_optimal_q_kl\n",
    "from cryo_challenge.data import DistributionToDistributionResultsValidator\n",
    "\n",
    "# from cryo_challenge.data._validation.config_validators import validate_input_config_disttodist, validate_config_dtd_optimal_q_kl"
   ]
  },
  {
   "cell_type": "markdown",
   "metadata": {},
   "source": [
    "After you compute the map to map distances between ground truth and your submission, you can quantify the similarity between the distributions, taking into account the population weights."
   ]
  },
  {
   "cell_type": "markdown",
   "metadata": {},
   "source": [
    "# 1. Create a config file\n",
    "The config file (e.g. `config_files/config_distribution_to_distribution.yaml`) has information about how compare the distributions, including how to pool nearby ground truth states hypermarameters for optimizing the submitted population weights."
   ]
  },
  {
   "cell_type": "markdown",
   "metadata": {},
   "source": [
    "Here is an example of the config file"
   ]
  },
  {
   "metadata": {},
   "cell_type": "code",
   "outputs": [],
   "execution_count": null,
   "source": [
    "# Select path to Distribution to Distribution config file\n",
    "# An example of this file is available in the path ../config_files/config_distribution_to_distribution.yaml\n",
    "config_d2d_path = FileChooser(os.path.expanduser(\"~\"))\n",
    "config_d2d_path.filter_pattern = '*.yaml'\n",
    "display(config_d2d_path)"
   ]
  },
  {
   "cell_type": "code",
   "execution_count": 2,
   "metadata": {},
   "outputs": [
    {
     "data": {
      "text/plain": [
       "{'input_fname': 'results/map_to_map_distance_matrix_submission_0.pkl',\n",
       " 'metrics': ['l2', 'corr', 'bioem', 'fsc'],\n",
       " 'gt_metadata_fname': 'data/metadata.csv',\n",
       " 'n_replicates': 30,\n",
       " 'n_pool_microstate': 5,\n",
       " 'replicate_fraction': 0.9,\n",
       " 'cvxpy_solver': 'ECOS',\n",
       " 'optimal_q_kl': {'n_iter': 100000, 'break_atol': 0.0001},\n",
       " 'output_fname': 'results/distribution_to_distribution_submission_0.pkl'}"
      ]
     },
     "execution_count": 2,
     "metadata": {},
     "output_type": "execute_result"
    }
   ],
   "source": [
    "with open(config_d2d_path.selected_filename, \"r\") as file:\n",
    "    config = yaml.safe_load(file)\n",
    "\n",
    "config"
   ]
  },
  {
   "cell_type": "markdown",
   "metadata": {},
   "source": [
    "These docstrings explain what the config file entries are"
   ]
  },
  {
   "cell_type": "code",
   "execution_count": 4,
   "metadata": {},
   "outputs": [
    {
     "name": "stdout",
     "output_type": "stream",
     "text": [
      "\u001B[0;31mSignature:\u001B[0m \u001B[0mvalidate_input_config_disttodist\u001B[0m\u001B[0;34m(\u001B[0m\u001B[0mconfig\u001B[0m\u001B[0;34m:\u001B[0m \u001B[0mdict\u001B[0m\u001B[0;34m)\u001B[0m \u001B[0;34m->\u001B[0m \u001B[0;32mNone\u001B[0m\u001B[0;34m\u001B[0m\u001B[0;34m\u001B[0m\u001B[0m\n",
      "\u001B[0;31mDocstring:\u001B[0m\n",
      "Validate the config dictionary.\n",
      "\n",
      "input_fname: str, is the path to the map to map distance matrix (output from map2map_pipeline).\n",
      "metrics: list, is a list of metrics to compute.\n",
      "gt_metadata_fname: str, is the path to the ground truth metadata (.csv) file.\n",
      "n_replicates: int, is the number of replicates to compute.\n",
      "n_pool_microstate: int, is the number of microstates to pool (low values less than 3-5 can cause problems for optimization convergence in CVXPY numerical solvers).\n",
      "replicate_fraction: float, is the fraction of the data to use for replicates.\n",
      "cvxpy_solver: str, is the solver to use for CVXPY optimization.\n",
      "optimal_q_kl: dict, is the optimal_q_kl part of the config.\n",
      "\u001B[0;31mFile:\u001B[0m      /mnt/ceph/users/gwoollard/repos/Cryo-EM-Heterogeneity-Challenge-1/src/cryo_challenge/data/_validation/config_validators.py\n",
      "\u001B[0;31mType:\u001B[0m      function"
     ]
    }
   ],
   "source": [
    "validate_input_config_disttodist?"
   ]
  },
  {
   "cell_type": "code",
   "execution_count": 5,
   "metadata": {},
   "outputs": [
    {
     "name": "stdout",
     "output_type": "stream",
     "text": [
      "\u001B[0;31mSignature:\u001B[0m \u001B[0mvalidate_config_dtd_optimal_q_kl\u001B[0m\u001B[0;34m(\u001B[0m\u001B[0mconfig_optimal_q_kl\u001B[0m\u001B[0;34m:\u001B[0m \u001B[0mdict\u001B[0m\u001B[0;34m)\u001B[0m \u001B[0;34m->\u001B[0m \u001B[0;32mNone\u001B[0m\u001B[0;34m\u001B[0m\u001B[0;34m\u001B[0m\u001B[0m\n",
      "\u001B[0;31mDocstring:\u001B[0m\n",
      "Validate the optimal_q_kl part of the config dictionary for the DistributionToDistribution config.\n",
      "\n",
      "n_iter: int, is the number of iterations for the optimization.\n",
      "break_atol: float, is the absolute tolerance for the optimization.\n",
      "\u001B[0;31mFile:\u001B[0m      /mnt/ceph/users/gwoollard/repos/Cryo-EM-Heterogeneity-Challenge-1/src/cryo_challenge/data/_validation/config_validators.py\n",
      "\u001B[0;31mType:\u001B[0m      function"
     ]
    }
   ],
   "source": [
    "validate_config_dtd_optimal_q_kl?"
   ]
  },
  {
   "cell_type": "markdown",
   "metadata": {},
   "source": [
    "The whole config is validated in `cryo_challenge.data._validation.config_validators.validate_input_config_disttodist`."
   ]
  },
  {
   "cell_type": "code",
   "execution_count": 6,
   "metadata": {},
   "outputs": [],
   "source": [
    "validate_input_config_disttodist(config)"
   ]
  },
  {
   "cell_type": "markdown",
   "metadata": {},
   "source": [
    "# 2. Run `run_distribution2distribution_pipeline`\n",
    "\n",
    "`cryo_challenge run_distribution2distribution_pipeline --config config_files/config_distribution_to_distribution.yaml`"
   ]
  },
  {
   "cell_type": "markdown",
   "metadata": {},
   "source": [
    "The output (of step #1) is validated with `cryo_challenge.data._validation.output_validators.DistributionToDistributionResultsValidator` (automatically, this is just explained below to serve as documentation)"
   ]
  },
  {
   "cell_type": "code",
   "execution_count": 8,
   "metadata": {},
   "outputs": [],
   "source": [
    "with open(os.path.join('../',config[\"output_fname\"]), \"rb\") as f:\n",
    "    results_dict = pickle.load(f)\n"
   ]
  },
  {
   "cell_type": "code",
   "execution_count": 9,
   "metadata": {},
   "outputs": [],
   "source": "_ = DistributionToDistributionResultsValidator.from_dict(results_dict)"
  },
  {
   "cell_type": "markdown",
   "metadata": {},
   "source": [
    "The fields of the output are explained below:"
   ]
  },
  {
   "cell_type": "code",
   "execution_count": 11,
   "metadata": {},
   "outputs": [
    {
     "name": "stdout",
     "output_type": "stream",
     "text": [
      "\u001B[0;31mInit signature:\u001B[0m\n",
      "\u001B[0mDistributionToDistributionResultsValidator\u001B[0m\u001B[0;34m(\u001B[0m\u001B[0;34m\u001B[0m\n",
      "\u001B[0;34m\u001B[0m    \u001B[0mconfig\u001B[0m\u001B[0;34m:\u001B[0m \u001B[0mdict\u001B[0m\u001B[0;34m,\u001B[0m\u001B[0;34m\u001B[0m\n",
      "\u001B[0;34m\u001B[0m    \u001B[0muser_submitted_populations\u001B[0m\u001B[0;34m:\u001B[0m \u001B[0mtorch\u001B[0m\u001B[0;34m.\u001B[0m\u001B[0mTensor\u001B[0m\u001B[0;34m,\u001B[0m\u001B[0;34m\u001B[0m\n",
      "\u001B[0;34m\u001B[0m    \u001B[0mid\u001B[0m\u001B[0;34m:\u001B[0m \u001B[0mstr\u001B[0m\u001B[0;34m,\u001B[0m\u001B[0;34m\u001B[0m\n",
      "\u001B[0;34m\u001B[0m    \u001B[0mfsc\u001B[0m\u001B[0;34m:\u001B[0m \u001B[0mUnion\u001B[0m\u001B[0;34m[\u001B[0m\u001B[0mdict\u001B[0m\u001B[0;34m,\u001B[0m \u001B[0mNoneType\u001B[0m\u001B[0;34m]\u001B[0m \u001B[0;34m=\u001B[0m \u001B[0;32mNone\u001B[0m\u001B[0;34m,\u001B[0m\u001B[0;34m\u001B[0m\n",
      "\u001B[0;34m\u001B[0m    \u001B[0mbioem\u001B[0m\u001B[0;34m:\u001B[0m \u001B[0mUnion\u001B[0m\u001B[0;34m[\u001B[0m\u001B[0mdict\u001B[0m\u001B[0;34m,\u001B[0m \u001B[0mNoneType\u001B[0m\u001B[0;34m]\u001B[0m \u001B[0;34m=\u001B[0m \u001B[0;32mNone\u001B[0m\u001B[0;34m,\u001B[0m\u001B[0;34m\u001B[0m\n",
      "\u001B[0;34m\u001B[0m    \u001B[0ml2\u001B[0m\u001B[0;34m:\u001B[0m \u001B[0mUnion\u001B[0m\u001B[0;34m[\u001B[0m\u001B[0mdict\u001B[0m\u001B[0;34m,\u001B[0m \u001B[0mNoneType\u001B[0m\u001B[0;34m]\u001B[0m \u001B[0;34m=\u001B[0m \u001B[0;32mNone\u001B[0m\u001B[0;34m,\u001B[0m\u001B[0;34m\u001B[0m\n",
      "\u001B[0;34m\u001B[0m    \u001B[0mcorr\u001B[0m\u001B[0;34m:\u001B[0m \u001B[0mUnion\u001B[0m\u001B[0;34m[\u001B[0m\u001B[0mdict\u001B[0m\u001B[0;34m,\u001B[0m \u001B[0mNoneType\u001B[0m\u001B[0;34m]\u001B[0m \u001B[0;34m=\u001B[0m \u001B[0;32mNone\u001B[0m\u001B[0;34m,\u001B[0m\u001B[0;34m\u001B[0m\n",
      "\u001B[0;34m\u001B[0m\u001B[0;34m)\u001B[0m \u001B[0;34m->\u001B[0m \u001B[0;32mNone\u001B[0m\u001B[0;34m\u001B[0m\u001B[0;34m\u001B[0m\u001B[0m\n",
      "\u001B[0;31mDocstring:\u001B[0m     \n",
      "Validate the output dictionary of the distribution-to-distribution pipeline.\n",
      "\n",
      "config: dict, input config dictionary.\n",
      "user_submitted_populations: torch.Tensor, user submitted populations, which sum to 1.\n",
      "id: str, submission id.\n",
      "fsc: dict, FSC distance results.\n",
      "bioem: dict, BioEM distance results.\n",
      "l2: dict, L2 distance results.\n",
      "corr: dict, correlation distance results.\n",
      "\u001B[0;31mFile:\u001B[0m           /mnt/ceph/users/gwoollard/repos/Cryo-EM-Heterogeneity-Challenge-1/src/cryo_challenge/data/_validation/output_validators.py\n",
      "\u001B[0;31mType:\u001B[0m           type\n",
      "\u001B[0;31mSubclasses:\u001B[0m     "
     ]
    }
   ],
   "source": [
    "DistributionToDistributionResultsValidator?"
   ]
  },
  {
   "cell_type": "markdown",
   "metadata": {},
   "source": [
    "For each map to map distance, there is a dictionary of replicates"
   ]
  },
  {
   "cell_type": "code",
   "execution_count": 10,
   "metadata": {},
   "outputs": [
    {
     "name": "stdout",
     "output_type": "stream",
     "text": [
      "\u001B[0;31mInit signature:\u001B[0m \u001B[0mMetricDistToDistValidator\u001B[0m\u001B[0;34m(\u001B[0m\u001B[0mreplicates\u001B[0m\u001B[0;34m:\u001B[0m \u001B[0mdict\u001B[0m\u001B[0;34m)\u001B[0m \u001B[0;34m->\u001B[0m \u001B[0;32mNone\u001B[0m\u001B[0;34m\u001B[0m\u001B[0;34m\u001B[0m\u001B[0m\n",
      "\u001B[0;31mDocstring:\u001B[0m     \n",
      "Validate the output dictionary of one map to map metric in the the distribution-to-distribution pipeline.\n",
      "\n",
      "replicates: dict, dictionary of replicates.\n",
      "\u001B[0;31mFile:\u001B[0m           /mnt/ceph/users/gwoollard/repos/Cryo-EM-Heterogeneity-Challenge-1/src/cryo_challenge/data/_validation/output_validators.py\n",
      "\u001B[0;31mType:\u001B[0m           type\n",
      "\u001B[0;31mSubclasses:\u001B[0m     "
     ]
    }
   ],
   "source": [
    "from cryo_challenge.data import MetricDistToDistValidator\n",
    "MetricDistToDistValidator?"
   ]
  },
  {
   "cell_type": "markdown",
   "metadata": {},
   "source": [
    "For each replicate (subsampling the ground truth distribution), there is a separate dict of results containing: "
   ]
  },
  {
   "cell_type": "code",
   "execution_count": 11,
   "metadata": {},
   "outputs": [],
   "source": [
    "from cryo_challenge.data import ReplicateValidatorEMD, ReplicateValidatorKL"
   ]
  },
  {
   "cell_type": "code",
   "execution_count": 12,
   "metadata": {},
   "outputs": [
    {
     "name": "stdout",
     "output_type": "stream",
     "text": [
      "\u001B[0;31mInit signature:\u001B[0m\n",
      "\u001B[0mReplicateValidatorEMD\u001B[0m\u001B[0;34m(\u001B[0m\u001B[0;34m\u001B[0m\n",
      "\u001B[0;34m\u001B[0m    \u001B[0mq_opt\u001B[0m\u001B[0;34m:\u001B[0m \u001B[0mList\u001B[0m\u001B[0;34m[\u001B[0m\u001B[0mfloat\u001B[0m\u001B[0;34m]\u001B[0m\u001B[0;34m,\u001B[0m\u001B[0;34m\u001B[0m\n",
      "\u001B[0;34m\u001B[0m    \u001B[0mEMD_opt\u001B[0m\u001B[0;34m:\u001B[0m \u001B[0mfloat\u001B[0m\u001B[0;34m,\u001B[0m\u001B[0;34m\u001B[0m\n",
      "\u001B[0;34m\u001B[0m    \u001B[0mtransport_plan_opt\u001B[0m\u001B[0;34m:\u001B[0m \u001B[0mList\u001B[0m\u001B[0;34m[\u001B[0m\u001B[0mList\u001B[0m\u001B[0;34m[\u001B[0m\u001B[0mfloat\u001B[0m\u001B[0;34m]\u001B[0m\u001B[0;34m]\u001B[0m\u001B[0;34m,\u001B[0m\u001B[0;34m\u001B[0m\n",
      "\u001B[0;34m\u001B[0m    \u001B[0mflow_opt\u001B[0m\u001B[0;34m:\u001B[0m \u001B[0mAny\u001B[0m\u001B[0;34m,\u001B[0m\u001B[0;34m\u001B[0m\n",
      "\u001B[0;34m\u001B[0m    \u001B[0mprob_opt\u001B[0m\u001B[0;34m:\u001B[0m \u001B[0mAny\u001B[0m\u001B[0;34m,\u001B[0m\u001B[0;34m\u001B[0m\n",
      "\u001B[0;34m\u001B[0m    \u001B[0mruntime_opt\u001B[0m\u001B[0;34m:\u001B[0m \u001B[0mfloat\u001B[0m\u001B[0;34m,\u001B[0m\u001B[0;34m\u001B[0m\n",
      "\u001B[0;34m\u001B[0m    \u001B[0mEMD_submitted\u001B[0m\u001B[0;34m:\u001B[0m \u001B[0mfloat\u001B[0m\u001B[0;34m,\u001B[0m\u001B[0;34m\u001B[0m\n",
      "\u001B[0;34m\u001B[0m    \u001B[0mtransport_plan_submitted\u001B[0m\u001B[0;34m:\u001B[0m \u001B[0mList\u001B[0m\u001B[0;34m[\u001B[0m\u001B[0mList\u001B[0m\u001B[0;34m[\u001B[0m\u001B[0mfloat\u001B[0m\u001B[0;34m]\u001B[0m\u001B[0;34m]\u001B[0m\u001B[0;34m,\u001B[0m\u001B[0;34m\u001B[0m\n",
      "\u001B[0;34m\u001B[0m\u001B[0;34m)\u001B[0m \u001B[0;34m->\u001B[0m \u001B[0;32mNone\u001B[0m\u001B[0;34m\u001B[0m\u001B[0;34m\u001B[0m\u001B[0m\n",
      "\u001B[0;31mDocstring:\u001B[0m     \n",
      "Validate the output dictionary of one EMD in the the distribution-to-distribution pipeline.\n",
      "\n",
      "q_opt: List[float], optimal user submitted distribution, which sums to 1.\n",
      "EMD_opt: float, EMD between the ground truth distribution (p) and the (optimized) user submitted distribution (q_opt). \n",
      "    The transport plan is a joint distribution, such that:\n",
      "    summing over the rows gives the (optimized) user submitted distribution, and summing over the columns gives the ground truth distribution.\n",
      "transport_plan_opt: List[List[float]], transport plan between the ground truth distribution (p, rows) and the (optimized) user submitted distribution (q_opt, columns).\n",
      "flow_opt: cvx output, optimization output (problem is formulated as a network flow problem).\n",
      "prob_opt: cvx output, optimization 'problem' output.\n",
      "runtime_opt: float, runtime of the optimization.\n",
      "EMD_submitted: float, EMD between the ground truth distribution (p) and the user submitted distribution (q).\n",
      "transport_plan_submitted: List[List[float]], transport plan between the ground truth distribution (p, rows) and the user submitted distribution (q, columns).\n",
      "    The transport plan is a joint distribution, such that:\n",
      "    summing over the rows gives the user submitted distribution, and summing over the columns gives the ground truth distribution.\n",
      "\u001B[0;31mFile:\u001B[0m           /mnt/ceph/users/gwoollard/repos/Cryo-EM-Heterogeneity-Challenge-1/src/cryo_challenge/data/_validation/output_validators.py\n",
      "\u001B[0;31mType:\u001B[0m           type\n",
      "\u001B[0;31mSubclasses:\u001B[0m     "
     ]
    }
   ],
   "source": [
    "ReplicateValidatorEMD?"
   ]
  },
  {
   "cell_type": "code",
   "execution_count": 13,
   "metadata": {},
   "outputs": [
    {
     "name": "stdout",
     "output_type": "stream",
     "text": [
      "\u001B[0;31mInit signature:\u001B[0m\n",
      "\u001B[0mReplicateValidatorKL\u001B[0m\u001B[0;34m(\u001B[0m\u001B[0;34m\u001B[0m\n",
      "\u001B[0;34m\u001B[0m    \u001B[0mq_opt\u001B[0m\u001B[0;34m:\u001B[0m \u001B[0mList\u001B[0m\u001B[0;34m[\u001B[0m\u001B[0mfloat\u001B[0m\u001B[0;34m]\u001B[0m\u001B[0;34m,\u001B[0m\u001B[0;34m\u001B[0m\n",
      "\u001B[0;34m\u001B[0m    \u001B[0mklpq_opt\u001B[0m\u001B[0;34m:\u001B[0m \u001B[0mfloat\u001B[0m\u001B[0;34m,\u001B[0m\u001B[0;34m\u001B[0m\n",
      "\u001B[0;34m\u001B[0m    \u001B[0mklqp_opt\u001B[0m\u001B[0;34m:\u001B[0m \u001B[0mfloat\u001B[0m\u001B[0;34m,\u001B[0m\u001B[0;34m\u001B[0m\n",
      "\u001B[0;34m\u001B[0m    \u001B[0mA\u001B[0m\u001B[0;34m:\u001B[0m \u001B[0mList\u001B[0m\u001B[0;34m[\u001B[0m\u001B[0mList\u001B[0m\u001B[0;34m[\u001B[0m\u001B[0mfloat\u001B[0m\u001B[0;34m]\u001B[0m\u001B[0;34m]\u001B[0m\u001B[0;34m,\u001B[0m\u001B[0;34m\u001B[0m\n",
      "\u001B[0;34m\u001B[0m    \u001B[0miter_stop\u001B[0m\u001B[0;34m:\u001B[0m \u001B[0mint\u001B[0m\u001B[0;34m,\u001B[0m\u001B[0;34m\u001B[0m\n",
      "\u001B[0;34m\u001B[0m    \u001B[0meps_stop\u001B[0m\u001B[0;34m:\u001B[0m \u001B[0mfloat\u001B[0m\u001B[0;34m,\u001B[0m\u001B[0;34m\u001B[0m\n",
      "\u001B[0;34m\u001B[0m    \u001B[0mklpq_submitted\u001B[0m\u001B[0;34m:\u001B[0m \u001B[0mfloat\u001B[0m\u001B[0;34m,\u001B[0m\u001B[0;34m\u001B[0m\n",
      "\u001B[0;34m\u001B[0m    \u001B[0mklqp_submitted\u001B[0m\u001B[0;34m:\u001B[0m \u001B[0mfloat\u001B[0m\u001B[0;34m,\u001B[0m\u001B[0;34m\u001B[0m\n",
      "\u001B[0;34m\u001B[0m\u001B[0;34m)\u001B[0m \u001B[0;34m->\u001B[0m \u001B[0;32mNone\u001B[0m\u001B[0;34m\u001B[0m\u001B[0;34m\u001B[0m\u001B[0m\n",
      "\u001B[0;31mDocstring:\u001B[0m     \n",
      "Validate the output dictionary of one KL divergence in the the distribution-to-distribution pipeline.\n",
      "\n",
      "q_opt: List[float], optimal user submitted distribution, which sums to 1.\n",
      "klpq_opt: float, KL divergence between the ground truth distribution (p) and the (optimized) user submitted distribution (q_opt).\n",
      "klqp_opt: float, KL divergence between the (optimized) user submitted distribution and the ground truth distribution (p).\n",
      "A: List[List[float]], assignment matrix.\n",
      "iter_stop: int, number of iterations until convergence.\n",
      "eps_stop: float, stopping criterion.\n",
      "klpq_submitted: float, KL divergence between the ground truth distribution (p) and the user submitted distribution (q).\n",
      "klqp_submitted: float, KL divergence between the user submitted distribution (q) and the ground truth distribution (p).    \n",
      "\u001B[0;31mFile:\u001B[0m           /mnt/ceph/users/gwoollard/repos/Cryo-EM-Heterogeneity-Challenge-1/src/cryo_challenge/data/_validation/output_validators.py\n",
      "\u001B[0;31mType:\u001B[0m           type\n",
      "\u001B[0;31mSubclasses:\u001B[0m     "
     ]
    }
   ],
   "source": [
    "ReplicateValidatorKL?"
   ]
  },
  {
   "cell_type": "code",
   "execution_count": null,
   "metadata": {},
   "outputs": [],
   "source": []
  }
 ],
 "metadata": {
  "kernelspec": {
   "display_name": "gpucryonerf",
   "language": "python",
   "name": "python3"
  },
  "language_info": {
   "codemirror_mode": {
    "name": "ipython",
    "version": 3
   },
   "file_extension": ".py",
   "mimetype": "text/x-python",
   "name": "python",
   "nbconvert_exporter": "python",
   "pygments_lexer": "ipython3",
   "version": "3.8.17"
  }
 },
 "nbformat": 4,
 "nbformat_minor": 2
}
