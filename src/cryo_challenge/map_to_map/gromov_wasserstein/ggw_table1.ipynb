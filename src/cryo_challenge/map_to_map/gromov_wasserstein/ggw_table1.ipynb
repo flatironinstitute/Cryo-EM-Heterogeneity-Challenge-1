{
 "cells": [
  {
   "cell_type": "code",
   "execution_count": 4,
   "id": "ec67d663",
   "metadata": {},
   "outputs": [],
   "source": [
    "import torch\n",
    "import torch.distributions as dist"
   ]
  },
  {
   "cell_type": "markdown",
   "id": "ade8d71b",
   "metadata": {},
   "source": [
    "# Uniform"
   ]
  },
  {
   "cell_type": "code",
   "execution_count": 8,
   "id": "3239ad60",
   "metadata": {},
   "outputs": [],
   "source": [
    "lx = ly = 2\n",
    "\n",
    "torch.manual_seed(0)\n",
    "U_x = U_y = dist.Uniform(torch.zeros(lx), torch.ones(lx))\n",
    "\n",
    "n = 10\n",
    "\n",
    "X = U_x.sample(\n",
    "    (\n",
    "        lx,\n",
    "        n,\n",
    "    )\n",
    ")\n",
    "Y = U_y.sample(\n",
    "    (\n",
    "        ly,\n",
    "        n,\n",
    "    )\n",
    ")"
   ]
  },
  {
   "cell_type": "markdown",
   "id": "8e057271",
   "metadata": {},
   "source": [
    "# Numpy"
   ]
  },
  {
   "cell_type": "code",
   "execution_count": null,
   "id": "26ff5c7f",
   "metadata": {},
   "outputs": [],
   "source": [
    "N_1 = dist.MultivariateNormal(\n",
    "    loc=torch.zeros(lx),\n",
    "    covariance_matrix=torch.eye(lx),\n",
    ")"
   ]
  },
  {
   "cell_type": "code",
   "execution_count": null,
   "id": "9c937e70",
   "metadata": {},
   "outputs": [],
   "source": [
    "assert ly == lx == 3\n",
    "\n",
    "c2 = torch.eye(3)\n",
    "c2[-1, -1] = 1 / 10\n",
    "\n",
    "c3 = torch.eye(3)\n",
    "c3[-1, -1] = 1 / 10\n",
    "c2[1, 1] = 1 / 2\n",
    "\n",
    "N_2 = dist.MultivariateNormal(\n",
    "    loc=torch.zeros(ly),\n",
    "    covariance_matrix=c2,\n",
    ")\n",
    "\n",
    "N_3 = dist.MultivariateNormal(\n",
    "    loc=torch.zeros(ly),\n",
    "    covariance_matrix=c3,\n",
    ")"
   ]
  }
 ],
 "metadata": {
  "kernelspec": {
   "display_name": "cryo_challenge",
   "language": "python",
   "name": "python3"
  },
  "language_info": {
   "codemirror_mode": {
    "name": "ipython",
    "version": 3
   },
   "file_extension": ".py",
   "mimetype": "text/x-python",
   "name": "python",
   "nbconvert_exporter": "python",
   "pygments_lexer": "ipython3",
   "version": "3.11.9"
  }
 },
 "nbformat": 4,
 "nbformat_minor": 5
}
