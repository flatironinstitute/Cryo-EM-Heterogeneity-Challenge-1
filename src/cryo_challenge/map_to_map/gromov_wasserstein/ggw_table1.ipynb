{
 "cells": [
  {
   "cell_type": "code",
   "execution_count": 1,
   "id": "ec67d663",
   "metadata": {},
   "outputs": [],
   "source": [
    "import torch\n",
    "import torch.distributions as dist"
   ]
  },
  {
   "cell_type": "markdown",
   "id": "ade8d71b",
   "metadata": {},
   "source": [
    "# Uniform"
   ]
  },
  {
   "cell_type": "code",
   "execution_count": 2,
   "id": "3239ad60",
   "metadata": {},
   "outputs": [],
   "source": [
    "lx = ly = 3\n",
    "\n",
    "torch.manual_seed(0)\n",
    "U_x = U_y = dist.Uniform(torch.zeros(lx), torch.ones(lx))\n",
    "\n",
    "n = 10\n",
    "\n",
    "X = U_x.sample(\n",
    "    (\n",
    "        lx,\n",
    "        n,\n",
    "    )\n",
    ")\n",
    "Y = U_y.sample(\n",
    "    (\n",
    "        ly,\n",
    "        n,\n",
    "    )\n",
    ")"
   ]
  },
  {
   "cell_type": "markdown",
   "id": "8e057271",
   "metadata": {},
   "source": [
    "# Numpy"
   ]
  },
  {
   "cell_type": "code",
   "execution_count": 3,
   "id": "26ff5c7f",
   "metadata": {},
   "outputs": [],
   "source": [
    "N_1 = dist.MultivariateNormal(\n",
    "    loc=torch.zeros(lx),\n",
    "    covariance_matrix=torch.eye(lx),\n",
    ")"
   ]
  },
  {
   "cell_type": "code",
   "execution_count": 4,
   "id": "9c937e70",
   "metadata": {},
   "outputs": [],
   "source": [
    "assert ly == lx == 3\n",
    "\n",
    "c2 = torch.eye(3)\n",
    "c2[-1, -1] = (1 / 10) ** 2\n",
    "\n",
    "c3 = torch.eye(3)\n",
    "c3[1, 1] = (1 / 2) ** 2\n",
    "c3[-1, -1] = (1 / 10) ** 2\n",
    "\n",
    "N_2 = dist.MultivariateNormal(\n",
    "    loc=torch.zeros(ly),\n",
    "    covariance_matrix=c2,\n",
    ")\n",
    "\n",
    "N_3 = dist.MultivariateNormal(\n",
    "    loc=torch.zeros(ly),\n",
    "    covariance_matrix=c3,\n",
    ")"
   ]
  },
  {
   "cell_type": "markdown",
   "id": "049f9380",
   "metadata": {},
   "source": [
    "# global gw"
   ]
  },
  {
   "cell_type": "code",
   "execution_count": 5,
   "id": "d108190c",
   "metadata": {},
   "outputs": [],
   "source": [
    "from cryo_challenge.map_to_map.gromov_wasserstein.global_gw import gw_global"
   ]
  },
  {
   "cell_type": "markdown",
   "id": "497039e1",
   "metadata": {},
   "source": [
    "## 6 1d points"
   ]
  },
  {
   "cell_type": "code",
   "execution_count": 6,
   "id": "524c5af0",
   "metadata": {},
   "outputs": [],
   "source": [
    "import numpy as np\n",
    "\n",
    "n_points = 6\n",
    "X = np.random.rand(n_points, 1)\n",
    "np.random.seed(0)\n",
    "noise = 0.01 * np.random.randn(n_points)\n",
    "Y = X + noise"
   ]
  },
  {
   "cell_type": "code",
   "execution_count": 7,
   "id": "0c4751cf",
   "metadata": {},
   "outputs": [
    {
     "name": "stdout",
     "output_type": "stream",
     "text": [
      "do_optimize_with_sparse False\n",
      "Iter |Bound gap\n",
      "----------------------\n",
      "    0|5.438691e+00\n",
      "    1|2.081324e+00\n",
      "    2|1.932792e+00\n",
      "    3|4.704649e-03\n",
      "    4|1.897541e-03\n",
      "    5|0.000000e+00\n"
     ]
    }
   ],
   "source": [
    "transport_plan_normalized, logs = gw_global(\n",
    "    X, Y, IterMax=20, log=True, do_optimize_with_sparse=False, verbose=True\n",
    ")"
   ]
  },
  {
   "cell_type": "code",
   "execution_count": 8,
   "id": "5c47a105",
   "metadata": {},
   "outputs": [
    {
     "data": {
      "text/plain": [
       "array([[1., 0., 0., 0., 0., 0.],\n",
       "       [0., 1., 0., 0., 0., 0.],\n",
       "       [0., 0., 1., 0., 0., 0.],\n",
       "       [0., 0., 0., 1., 0., 0.],\n",
       "       [0., 0., 0., 0., 1., 0.],\n",
       "       [0., 0., 0., 0., 0., 1.]])"
      ]
     },
     "execution_count": 8,
     "metadata": {},
     "output_type": "execute_result"
    }
   ],
   "source": [
    "transport_plan_normalized * n_points"
   ]
  },
  {
   "cell_type": "markdown",
   "id": "2513de51",
   "metadata": {},
   "source": [
    "## N3"
   ]
  },
  {
   "cell_type": "code",
   "execution_count": 19,
   "id": "53f7ea46",
   "metadata": {},
   "outputs": [],
   "source": [
    "n_points = 300\n",
    "\n",
    "torch.manual_seed(0)\n",
    "X = N_3.sample((n_points,))\n",
    "Y = N_3.sample((n_points,))\n",
    "\n",
    "# noise_level = 0.01\n",
    "\n",
    "# noise = 0.01 * N_3.sample((n_points,))\n",
    "# Y = X + noise"
   ]
  },
  {
   "cell_type": "code",
   "execution_count": 20,
   "id": "994cb2b2",
   "metadata": {},
   "outputs": [
    {
     "name": "stdout",
     "output_type": "stream",
     "text": [
      "do_optimize_with_sparse True\n",
      "Iter |Bound gap\n",
      "----------------------\n",
      "    0|2.272398e+05\n",
      "    1|2.271654e+05\n",
      "    2|2.268146e+05\n",
      "    3|2.267639e+05\n",
      "    4|2.264206e+05\n",
      "    5|2.253235e+05\n",
      "    6|2.250026e+05\n",
      "    7|2.142872e+05\n",
      "    8|7.026240e+04\n",
      "    9|6.983631e+04\n",
      "   10|6.442906e+04\n",
      "   11|5.887060e+04\n",
      "   12|5.052449e+04\n",
      "   13|4.779783e+04\n",
      "   14|4.492473e+04\n",
      "   15|4.237846e+04\n",
      "   16|3.283231e+04\n",
      "   17|3.218363e+04\n",
      "   18|2.755369e+04\n",
      "   19|2.634179e+04\n",
      "   20|2.011572e+04\n",
      "   21|1.920572e+04\n",
      "   22|1.836656e+04\n",
      "   23|1.687362e+04\n",
      "   24|1.679705e+04\n",
      "   25|1.676905e+04\n",
      "   26|1.670450e+04\n",
      "   27|1.600120e+04\n",
      "   28|1.535170e+04\n",
      "   29|1.496941e+04\n",
      "   30|1.411362e+04\n",
      "   31|1.374033e+04\n",
      "   32|1.334262e+04\n",
      "   33|1.233532e+04\n",
      "   34|1.227521e+04\n",
      "   35|1.216696e+04\n",
      "   36|1.048445e+04\n",
      "   37|9.868544e+03\n",
      "   38|9.534319e+03\n",
      "   39|8.920476e+03\n",
      "   40|8.668986e+03\n",
      "   41|8.652804e+03\n",
      "   42|8.569905e+03\n",
      "   43|8.282840e+03\n",
      "   44|7.894350e+03\n",
      "   45|7.398217e+03\n",
      "   46|7.014508e+03\n",
      "   47|6.260786e+03\n",
      "   48|4.136922e+03\n",
      "   49|3.845455e+03\n",
      "   50|3.558529e+03\n",
      "   51|3.242292e+03\n",
      "   52|3.122886e+03\n",
      "   53|2.900873e+03\n",
      "   54|2.667986e+03\n",
      "   55|2.651319e+03\n",
      "   56|2.575113e+03\n",
      "   57|2.483552e+03\n",
      "   58|2.241427e+03\n",
      "   59|1.981289e+03\n",
      "   60|1.946899e+03\n",
      "   61|1.923881e+03\n",
      "   62|1.723549e+03\n",
      "   63|1.662853e+03\n",
      "   64|9.490142e+02\n",
      "   65|7.628990e+02\n",
      "   66|6.709187e+02\n",
      "   67|6.299345e+02\n",
      "   68|6.096249e+02\n",
      "   69|6.076762e+02\n",
      "   70|5.569496e+02\n",
      "   71|5.456854e+02\n",
      "   72|4.651437e+02\n",
      "   73|4.639467e+02\n",
      "   74|4.404147e+02\n",
      "   75|3.826357e+02\n",
      "   76|3.755244e+02\n",
      "   77|3.592235e+02\n",
      "   78|3.362170e+02\n",
      "   79|3.086242e+02\n",
      "   80|3.008257e+02\n",
      "   81|2.798311e+02\n",
      "   82|2.294827e+02\n",
      "   83|2.246304e+02\n",
      "   84|2.166568e+02\n",
      "   85|1.764566e+02\n",
      "   86|1.154081e+02\n",
      "   87|1.042205e+02\n",
      "   88|1.036569e+02\n",
      "   89|9.109625e+01\n",
      "   90|8.414608e+01\n",
      "   91|7.609030e+01\n",
      "   92|6.205986e+01\n",
      "   93|5.580032e+01\n",
      "   94|5.079840e+01\n",
      "   95|3.554266e+01\n",
      "   96|3.424236e+01\n",
      "   97|3.190410e+01\n",
      "   98|2.495376e+01\n",
      "   99|1.927322e+01\n",
      "  100|1.531640e+01\n",
      "  101|1.523680e+01\n",
      "  102|9.853914e+00\n",
      "  103|9.700366e+00\n",
      "  104|6.932220e+00\n",
      "  105|6.891793e+00\n",
      "  106|5.087666e+00\n",
      "  107|3.669022e+00\n",
      "  108|2.113768e+00\n",
      "  109|1.840426e+00\n",
      "  110|1.530285e+00\n",
      "  111|1.450508e+00\n",
      "  112|1.380290e+00\n",
      "  113|1.267847e+00\n",
      "  114|6.094482e-01\n",
      "  115|5.086265e-01\n",
      "  116|4.447699e-01\n",
      "  117|3.496212e-01\n",
      "  118|3.428064e-01\n",
      "  119|1.564288e-01\n",
      "  120|1.208768e-01\n",
      "  121|1.018579e-01\n",
      "  122|6.485787e-02\n",
      "  123|5.277890e-02\n",
      "  124|4.524399e-02\n",
      "  125|3.521316e-02\n",
      "  126|9.915839e-03\n"
     ]
    }
   ],
   "source": [
    "transport_plan_normalized = gw_global(\n",
    "    X.numpy(),\n",
    "    Y.numpy(),\n",
    "    IterMax=200,\n",
    "    log=False,\n",
    "    do_optimize_with_sparse=True,\n",
    "    verbose=True,\n",
    "    epsilon=1e-2,\n",
    ")"
   ]
  },
  {
   "cell_type": "code",
   "execution_count": null,
   "id": "508022e6",
   "metadata": {},
   "outputs": [],
   "source": []
  },
  {
   "cell_type": "code",
   "execution_count": null,
   "id": "dc103e9b",
   "metadata": {},
   "outputs": [],
   "source": []
  }
 ],
 "metadata": {
  "kernelspec": {
   "display_name": "cryo_challenge",
   "language": "python",
   "name": "python3"
  },
  "language_info": {
   "codemirror_mode": {
    "name": "ipython",
    "version": 3
   },
   "file_extension": ".py",
   "mimetype": "text/x-python",
   "name": "python",
   "nbconvert_exporter": "python",
   "pygments_lexer": "ipython3",
   "version": "3.11.9"
  }
 },
 "nbformat": 4,
 "nbformat_minor": 5
}
