{
 "cells": [
  {
   "cell_type": "code",
   "execution_count": 1,
   "metadata": {},
   "outputs": [],
   "source": [
    "from gurobipy import Model, GRB\n",
    "import numpy as np\n",
    "import torch\n",
    "import matplotlib.pyplot as plt"
   ]
  },
  {
   "cell_type": "markdown",
   "metadata": {},
   "source": [
    "# Toy problem in gurobi"
   ]
  },
  {
   "cell_type": "code",
   "execution_count": 55,
   "metadata": {},
   "outputs": [],
   "source": [
    "def solve_gromov_wasserstein(mu, nu, dx, dy):\n",
    "    \"\"\"\n",
    "    Solves the Gromov-Wasserstein quadratic program using Gurobi.\n",
    "\n",
    "    Parameters:\n",
    "        mu (numpy.ndarray): Source distribution, shape (n,).\n",
    "        nu (numpy.ndarray): Target distribution, shape (m,).\n",
    "        G (numpy.ndarray): Quadratic cost matrix, shape (nm, nm).\n",
    "\n",
    "    Returns:\n",
    "        numpy.ndarray: Optimal transport matrix T, shape (n, m).\n",
    "    \"\"\"\n",
    "    # Dimensions\n",
    "    n = len(mu)\n",
    "    m = len(nu)\n",
    "\n",
    "    # Create a Gurobi model\n",
    "    model = Model(\"Gromov-Wasserstein\")\n",
    "\n",
    "    # Add variables for T (n x m), flattened as a single vector\n",
    "    T = model.addVars(n, m, lb=0, vtype=GRB.CONTINUOUS, name=\"T\")\n",
    "\n",
    "    # Flatten T for indexing consistency\n",
    "    # T_vec = T.flatten()\n",
    "\n",
    "    # Add marginal constraints\n",
    "    # Row marginal: sum_j T[i, j] = mu[i]\n",
    "    for i in range(n):\n",
    "        model.addConstr(sum(T[i, j] for j in range(m)) == mu[i])\n",
    "\n",
    "    # Column marginal: sum_i T[i, j] = nu[j]\n",
    "    for j in range(m):\n",
    "        model.addConstr(sum(T[i, j] for i in range(n)) == nu[j])\n",
    "\n",
    "    obj = 0\n",
    "    for i in range(n):\n",
    "        for j in range(m):\n",
    "            for k in range(n):\n",
    "                for el in range(m):\n",
    "                    # obj += -2*(Cx[i,j] * Cy[k,el]) * T[i, k] * T[j,el]\n",
    "                    obj += n*n*0.5*(dx[i, j]**2 - dy[k, el]**2) ** 2 * T[i, k] * T[j, el]\n",
    "    # obj = 0.5 * sum(\n",
    "    #     G[i, j] * T_vec[i] * T_vec[j] for i in range(n * m) for j in range(n * m)\n",
    "    # )\n",
    "    model.setObjective(obj, GRB.MINIMIZE)\n",
    "\n",
    "    # Optimize the model\n",
    "    model.optimize()\n",
    "\n",
    "    # Extract solution\n",
    "    if model.Status == GRB.OPTIMAL:\n",
    "        T_opt = np.array([[T[i, j].X for j in range(m)] for i in range(n)])\n",
    "        # T_opt = T\n",
    "        return T_opt, model\n",
    "    else:\n",
    "        print(\"Optimization failed!\")\n",
    "        return None, None\n",
    "\n",
    "np.random.seed(0)\n",
    "# Example usage\n",
    "n = m = 14\n",
    "mu = np.ones(n) #np.random.rand(n)\n",
    "mu /= mu.sum()  # Normalize to sum to 1\n",
    "nu = np.ones(m) #np.random.rand(m)\n",
    "nu /= nu.sum()  # Normalize to sum to 1\n",
    "points_x = np.random.randn(n, 2) # 2*np.stack([np.arange(n), np.zeros(n)]).T #3*(np.arange(2*n)**2).reshape((n,2)) #\n",
    "scale = 0.1\n",
    "points_y = np.random.normal(points_x, scale)\n",
    "# points_y = points_x.copy()  #np.stack([np.arange(n)+1, np.zeros(n)]).T\n",
    "# points_y[0,0] += 1\n",
    "\n",
    "def cdist(x, y):\n",
    "    return np.sum((x[:, None] - y[None, :]) ** 2, axis=-1)\n",
    "\n",
    "\n",
    "dx = np.sqrt(cdist(points_x, points_x)) # papers dx is dx**2\n",
    "dy = np.sqrt(cdist(points_y, points_y))\n",
    "\n",
    "Cx = dx**2\n",
    "Cy = dy**2\n"
   ]
  },
  {
   "cell_type": "code",
   "execution_count": 56,
   "metadata": {},
   "outputs": [],
   "source": [
    "T_optimal = np.eye(n)\n",
    "\n",
    "mx = np.linalg.norm(points_x, axis=1)**2\n",
    "my = np.linalg.norm(points_y, axis=1)**2\n",
    "vec_1x = np.ones(n) \n",
    "vec_1y = np.ones(m)"
   ]
  },
  {
   "cell_type": "code",
   "execution_count": 57,
   "metadata": {},
   "outputs": [],
   "source": [
    "assert np.allclose(Cx,  np.outer(vec_1x,mx) - 2*points_x @ points_x.T + np.outer(mx,vec_1x))\n",
    "assert np.allclose(Cy, np.outer(vec_1y,my) - 2*points_y @ points_y.T + np.outer(my,vec_1y))"
   ]
  },
  {
   "cell_type": "code",
   "execution_count": 58,
   "metadata": {},
   "outputs": [
    {
     "data": {
      "text/plain": [
       "9493.57931988761"
      ]
     },
     "execution_count": 58,
     "metadata": {},
     "output_type": "execute_result"
    }
   ],
   "source": [
    "L = 2*n*np.outer(mx,my) \n",
    "L -= 4*np.outer(mx,vec_1x) @ (points_y @ points_y.T) \n",
    "L -= 4*(points_x @ points_x.T) @ np.outer(vec_1y,my) \n",
    "cross = ((2*points_x.T @ T_optimal @ points_y)**2).sum() + (L*T_optimal).sum() + 2*vec_1y.dot(my)*vec_1x.dot(mx)\n",
    "\n",
    "assert np.allclose(((Cx@T_optimal)*(T_optimal@Cy)).sum(),cross)\n",
    "\n",
    "cross"
   ]
  },
  {
   "cell_type": "code",
   "execution_count": 59,
   "metadata": {},
   "outputs": [],
   "source": [
    "assert np.allclose(((Cx@T_optimal)*(T_optimal@Cy)).sum(), np.trace(((Cx@T_optimal).T@(T_optimal@Cy))))"
   ]
  },
  {
   "cell_type": "code",
   "execution_count": 60,
   "metadata": {},
   "outputs": [],
   "source": [
    "assert np.allclose(2*vec_1y.dot(my)*vec_1x.dot(mx), 2*vec_1y.dot(np.outer(my,vec_1x)).dot(mx))"
   ]
  },
  {
   "cell_type": "code",
   "execution_count": 61,
   "metadata": {},
   "outputs": [
    {
     "data": {
      "image/png": "[encoded data removed]",
      "text/plain": [
       "<Figure size 640x480 with 1 Axes>"
      ]
     },
     "metadata": {},
     "output_type": "display_data"
    }
   ],
   "source": [
    "# show x and y points\n",
    "plt.scatter(points_x[:, 0], points_x[:, 1], c=\"r\", label=\"x\")\n",
    "plt.scatter(points_y[:, 0], points_y[:, 1], c=\"b\", label=\"y\")\n",
    "\n",
    "# connect pairs\n",
    "for i in range(n):\n",
    "        plt.plot(\n",
    "        [points_x[i, 0], points_y[i, 0]],\n",
    "        [points_x[i, 1], points_y[i, 1]],\n",
    "        \"k-\",\n",
    "    )"
   ]
  },
  {
   "cell_type": "code",
   "execution_count": 62,
   "metadata": {},
   "outputs": [],
   "source": [
    "# k = 7\n",
    "# points = np.zeros((k,2))\n",
    "# points[:,0] = np.arange(k)\n",
    "\n",
    "# cdist(points,points)"
   ]
  },
  {
   "cell_type": "code",
   "execution_count": 64,
   "metadata": {},
   "outputs": [
    {
     "data": {
      "text/plain": [
       "2.011326748528923"
      ]
     },
     "execution_count": 64,
     "metadata": {},
     "output_type": "execute_result"
    }
   ],
   "source": [
    "((dx - dy)**2).sum() / 2 # assuming diagonal transport matrix (upper bound)"
   ]
  },
  {
   "cell_type": "code",
   "execution_count": 65,
   "metadata": {},
   "outputs": [
    {
     "data": {
      "text/plain": [
       "37.974920252699306"
      ]
     },
     "execution_count": 65,
     "metadata": {},
     "output_type": "execute_result"
    }
   ],
   "source": [
    "((dx**2 - dy**2)**2).sum() / 2 # assuming diagonal transport matrix (upper bound)"
   ]
  },
  {
   "cell_type": "code",
   "execution_count": 66,
   "metadata": {},
   "outputs": [
    {
     "name": "stdout",
     "output_type": "stream",
     "text": [
      "Gurobi Optimizer version 12.0.0 build v12.0.0rc1 (linux64 - \"Rocky Linux 9.5 (Blue Onyx)\")\n",
      "\n",
      "CPU model: Intel(R) Xeon(R) Silver 4110 CPU @ 2.10GHz, instruction set [SSE2|AVX|AVX2|AVX512]\n",
      "Thread count: 16 physical cores, 16 logical processors, using up to 16 threads\n",
      "\n",
      "Optimize a model with 28 rows, 196 columns and 392 nonzeros\n",
      "Model fingerprint: 0x006566c4\n",
      "Model has 19110 quadratic objective terms\n",
      "Coefficient statistics:\n",
      "  Matrix range     [1e+00, 1e+00]\n",
      "  Objective range  [0e+00, 0e+00]\n",
      "  QObjective range [9e-05, 3e+05]\n",
      "  Bounds range     [0e+00, 0e+00]\n",
      "  RHS range        [7e-02, 7e-02]\n",
      "Presolve removed 1 rows and 0 columns\n",
      "\n",
      "Continuous model is non-convex -- solving as a MIP\n",
      "\n",
      "Presolve time: 0.04s\n",
      "Presolved: 38249 rows, 19308 columns, 95943 nonzeros\n",
      "Presolved model has 19110 bilinear constraint(s)\n",
      "Variable types: 19308 continuous, 0 integer (0 binary)\n",
      "Found heuristic solution: objective 37.9749203\n",
      "\n",
      "Root relaxation: objective 0.000000e+00, 934 iterations, 0.20 seconds (0.15 work units)\n",
      "\n",
      "    Nodes    |    Current Node    |     Objective Bounds      |     Work\n",
      " Expl Unexpl |  Obj  Depth IntInf | Incumbent    BestBd   Gap | It/Node Time\n",
      "\n",
      "     0     0    0.00000    0  378   37.97492    0.00000   100%     -    0s\n",
      "     0     0    0.00000    0  378   37.97492    0.00000   100%     -    1s\n",
      "     0     0    0.00000    0  378   37.97492    0.00000   100%     -    1s\n",
      "     0     0    0.00000    0  378   37.97492    0.00000   100%     -    1s\n",
      "     0     0    0.00000    0  666   37.97492    0.00000   100%     -    3s\n",
      "     0     2    0.00000    0  666   37.97492    0.00000   100%     -    6s\n",
      "     9     2    0.00000    5  528   37.97492    0.00000   100%   391   10s\n",
      "    31     8    0.00000   12  528   37.97492    0.00000   100%   439   15s\n",
      "    54    12    2.66048   15  629   37.97492    0.00000   100%   378   20s\n",
      "   192   153   13.00765   21  935   37.97492    0.00000   100%   209   25s\n",
      "   987   801    3.29562   38 1219   37.97492    0.00000   100%  70.9   30s\n",
      "  1590  1246 infeasible   54        37.97492    0.00000   100%  66.1   35s\n",
      "  2123  1482     cutoff   65        37.97492    0.00000   100%  69.5   40s\n",
      "  2505  1599    0.72425   74 1595   37.97492    0.00115   100%  80.2   45s\n",
      "  2870  1637   36.49197   43 1073   37.97492    0.03437   100%  88.6   50s\n",
      "  3406  1726 infeasible   57        37.97492    0.12389   100%  94.0   56s\n",
      "  3728  1738     cutoff   64        37.97492    0.14724   100%   101   60s\n",
      "  4050  1797   34.40031   72 4707   37.97492    0.27596  99.3%   109   65s\n",
      "  4636  1769     cutoff   96        37.97492    0.53132  98.6%   116   70s\n",
      "  5058  1606     cutoff   61        37.97492    0.79621  97.9%   122   76s\n",
      "  5591  1681     cutoff   44        37.97492    1.49380  96.1%   122   80s\n",
      "  6049  1554     cutoff   57        37.97492    1.90515  95.0%   125   85s\n",
      "  6639  1539     cutoff   82        37.97492    3.73295  90.2%   125   90s\n",
      "  7271  1425     cutoff   32        37.97492    4.93732  87.0%   124   96s\n",
      "  7983  1159   24.36394   42 2984   37.97492    9.47125  75.1%   123  102s\n",
      "  8350   957     cutoff   44        37.97492   15.72834  58.6%   123  106s\n",
      "  9258   435     cutoff   81        37.97492   18.81441  50.5%   120  113s\n",
      "  9818   231 infeasible   71        37.97492   30.69805  19.2%   116  116s\n",
      " 10276    93 infeasible   67        37.97492   33.18288  12.6%   113  120s\n",
      "\n",
      "Cutting planes:\n",
      "  RLT: 1556\n",
      "  BQP: 9\n",
      "\n",
      "Explored 10647 nodes (1176570 simplex iterations) in 122.12 seconds (69.28 work units)\n",
      "Thread count was 16 (of 16 available processors)\n",
      "\n",
      "Solution count 1: 37.9749 \n",
      "\n",
      "Optimal solution found (tolerance 1.00e-04)\n",
      "Best objective 3.797492025270e+01, best bound 3.797492025270e+01, gap 0.0000%\n",
      "Optimal Transport Matrix:\n",
      " [[0.07142857 0.         0.         0.         0.         0.\n",
      "  0.         0.         0.         0.         0.         0.\n",
      "  0.         0.        ]\n",
      " [0.         0.07142857 0.         0.         0.         0.\n",
      "  0.         0.         0.         0.         0.         0.\n",
      "  0.         0.        ]\n",
      " [0.         0.         0.07142857 0.         0.         0.\n",
      "  0.         0.         0.         0.         0.         0.\n",
      "  0.         0.        ]\n",
      " [0.         0.         0.         0.07142857 0.         0.\n",
      "  0.         0.         0.         0.         0.         0.\n",
      "  0.         0.        ]\n",
      " [0.         0.         0.         0.         0.07142857 0.\n",
      "  0.         0.         0.         0.         0.         0.\n",
      "  0.         0.        ]\n",
      " [0.         0.         0.         0.         0.         0.07142857\n",
      "  0.         0.         0.         0.         0.         0.\n",
      "  0.         0.        ]\n",
      " [0.         0.         0.         0.         0.         0.\n",
      "  0.07142857 0.         0.         0.         0.         0.\n",
      "  0.         0.        ]\n",
      " [0.         0.         0.         0.         0.         0.\n",
      "  0.         0.07142857 0.         0.         0.         0.\n",
      "  0.         0.        ]\n",
      " [0.         0.         0.         0.         0.         0.\n",
      "  0.         0.         0.07142857 0.         0.         0.\n",
      "  0.         0.        ]\n",
      " [0.         0.         0.         0.         0.         0.\n",
      "  0.         0.         0.         0.07142857 0.         0.\n",
      "  0.         0.        ]\n",
      " [0.         0.         0.         0.         0.         0.\n",
      "  0.         0.         0.         0.         0.07142857 0.\n",
      "  0.         0.        ]\n",
      " [0.         0.         0.         0.         0.         0.\n",
      "  0.         0.         0.         0.         0.         0.07142857\n",
      "  0.         0.        ]\n",
      " [0.         0.         0.         0.         0.         0.\n",
      "  0.         0.         0.         0.         0.         0.\n",
      "  0.07142857 0.        ]\n",
      " [0.         0.         0.         0.         0.         0.\n",
      "  0.         0.         0.         0.         0.         0.\n",
      "  0.         0.07142857]]\n"
     ]
    }
   ],
   "source": [
    "T_optimal, model = solve_gromov_wasserstein(mu, nu, dx, dy)\n",
    "print(\"Optimal Transport Matrix:\\n\", T_optimal)"
   ]
  },
  {
   "cell_type": "code",
   "execution_count": 67,
   "metadata": {},
   "outputs": [
    {
     "data": {
      "text/plain": [
       "37.97492025269929"
      ]
     },
     "execution_count": 67,
     "metadata": {},
     "output_type": "execute_result"
    }
   ],
   "source": [
    "model.objVal"
   ]
  },
  {
   "cell_type": "code",
   "execution_count": 68,
   "metadata": {},
   "outputs": [
    {
     "data": {
      "image/png": "[encoded data removed]",
      "text/plain": [
       "<Figure size 640x480 with 1 Axes>"
      ]
     },
     "metadata": {},
     "output_type": "display_data"
    }
   ],
   "source": [
    "# show x and y points\n",
    "plt.scatter(points_x[:, 0], points_x[:, 1], c=\"r\", label=\"x\")\n",
    "plt.scatter(points_y[:, 0], points_y[:, 1], c=\"b\", label=\"y\")\n",
    "\n",
    "\n",
    "# connect pairs\n",
    "for i in range(n):\n",
    "    for j in range(m):\n",
    "        if T_optimal[i, j] > 1e-3:\n",
    "            plt.plot(\n",
    "                [points_x[i, 0], points_y[j, 0]],\n",
    "                [points_x[i, 1], points_y[j, 1]],\n",
    "                \"k-\",\n",
    "                alpha=T_optimal[i, j]/T_optimal.max(),\n",
    "            )"
   ]
  },
  {
   "cell_type": "code",
   "execution_count": 69,
   "metadata": {},
   "outputs": [
    {
     "data": {
      "text/plain": [
       "array([[1., 0., 0., 0., 0., 0., 0., 0., 0., 0., 0., 0., 0., 0.],\n",
       "       [0., 1., 0., 0., 0., 0., 0., 0., 0., 0., 0., 0., 0., 0.],\n",
       "       [0., 0., 1., 0., 0., 0., 0., 0., 0., 0., 0., 0., 0., 0.],\n",
       "       [0., 0., 0., 1., 0., 0., 0., 0., 0., 0., 0., 0., 0., 0.],\n",
       "       [0., 0., 0., 0., 1., 0., 0., 0., 0., 0., 0., 0., 0., 0.],\n",
       "       [0., 0., 0., 0., 0., 1., 0., 0., 0., 0., 0., 0., 0., 0.],\n",
       "       [0., 0., 0., 0., 0., 0., 1., 0., 0., 0., 0., 0., 0., 0.],\n",
       "       [0., 0., 0., 0., 0., 0., 0., 1., 0., 0., 0., 0., 0., 0.],\n",
       "       [0., 0., 0., 0., 0., 0., 0., 0., 1., 0., 0., 0., 0., 0.],\n",
       "       [0., 0., 0., 0., 0., 0., 0., 0., 0., 1., 0., 0., 0., 0.],\n",
       "       [0., 0., 0., 0., 0., 0., 0., 0., 0., 0., 1., 0., 0., 0.],\n",
       "       [0., 0., 0., 0., 0., 0., 0., 0., 0., 0., 0., 1., 0., 0.],\n",
       "       [0., 0., 0., 0., 0., 0., 0., 0., 0., 0., 0., 0., 1., 0.],\n",
       "       [0., 0., 0., 0., 0., 0., 0., 0., 0., 0., 0., 0., 0., 1.]])"
      ]
     },
     "execution_count": 69,
     "metadata": {},
     "output_type": "execute_result"
    }
   ],
   "source": [
    "T_optimal*n"
   ]
  },
  {
   "cell_type": "code",
   "execution_count": 70,
   "metadata": {},
   "outputs": [
    {
     "data": {
      "text/plain": [
       "37.97492025270003"
      ]
     },
     "execution_count": 70,
     "metadata": {},
     "output_type": "execute_result"
    }
   ],
   "source": [
    "T = T_optimal*n\n",
    "(-((dx**2 @ T) * (T @ dy**2)).sum() + 0.5*(np.linalg.norm(dx**2,'fro')**2 + np.linalg.norm(dy**2,'fro')**2)) "
   ]
  },
  {
   "cell_type": "code",
   "execution_count": 71,
   "metadata": {},
   "outputs": [
    {
     "data": {
      "text/plain": [
       "37.97492025270094"
      ]
     },
     "execution_count": 71,
     "metadata": {},
     "output_type": "execute_result"
    }
   ],
   "source": [
    "T = T_optimal*n \n",
    "\n",
    "mx = np.linalg.norm(points_x, axis=1)**2\n",
    "my = np.linalg.norm(points_y, axis=1)**2\n",
    "vec_1x = np.ones(n) \n",
    "vec_1y = np.ones(m)\n",
    "\n",
    "L = 2*n*np.outer(mx,my) \n",
    "L -= 4*np.outer(mx,vec_1x) @ (points_y @ points_y.T) \n",
    "L -= 4*(points_x @ points_x.T) @ np.outer(vec_1y,my) \n",
    "diag = ((Cx**2).sum() + (Cy**2).sum())/2 \n",
    "c0 = diag - 2*vec_1y.dot(my)*vec_1x.dot(mx)\n",
    "obj = - np.linalg.norm((2*points_x.T @ T @ points_y),'fro')**2 - (L*T).sum() + c0\n",
    "obj"
   ]
  },
  {
   "cell_type": "code",
   "execution_count": 72,
   "metadata": {},
   "outputs": [
    {
     "data": {
      "text/plain": [
       "37.97492025270003"
      ]
     },
     "execution_count": 72,
     "metadata": {},
     "output_type": "execute_result"
    }
   ],
   "source": [
    "X = points_x.T\n",
    "Y = points_y.T\n",
    "mx = mx.reshape(-1, 1)\n",
    "my = my.reshape(-1, 1)\n",
    "vec_1y = np.ones((m, 1))\n",
    "vec_1x = np.ones((n, 1))\n",
    "L_ = (\n",
    "    (n + m) * mx @ my.T\n",
    "    - 4 * mx @ vec_1y.T @ Y.T @ Y\n",
    "    - 4 * X.T @ X @ vec_1x @ my.T\n",
    ")\n",
    "\n",
    "c0_ = (np.sum(Cx**2) + np.sum(Cy**2))/2 - 2 * np.sum(mx) * np.sum(my)\n",
    "\n",
    "(-np.sum((2 * X @ T @ Y.T) ** 2) - np.sum(L * T) + c0_).item()"
   ]
  },
  {
   "cell_type": "markdown",
   "metadata": {},
   "source": [
    " # exploit structure of Cx, Cy"
   ]
  },
  {
   "cell_type": "code",
   "execution_count": 121,
   "metadata": {},
   "outputs": [],
   "source": [
    "def solve_gromov_wasserstein(mu, nu, Cx, Cy):\n",
    "    \"\"\"\n",
    "    Solves the Gromov-Wasserstein quadratic program using Gurobi.\n",
    "\n",
    "    Parameters:\n",
    "        mu (numpy.ndarray): Source distribution, shape (n,).\n",
    "        nu (numpy.ndarray): Target distribution, shape (m,).\n",
    "        G (numpy.ndarray): Quadratic cost matrix, shape (nm, nm).\n",
    "\n",
    "    Returns:\n",
    "        numpy.ndarray: Optimal transport matrix T, shape (n, m).\n",
    "    \"\"\"\n",
    "    # Dimensions\n",
    "    n = len(mu)\n",
    "    m = len(nu)\n",
    "\n",
    "    # Create a Gurobi model\n",
    "    model = Model(\"Gromov-Wasserstein\")\n",
    "\n",
    "    # Add variables for T (n x m), flattened as a single vector\n",
    "    T = model.addVars(n, m, lb=0, vtype=GRB.CONTINUOUS, name=\"T\")\n",
    "\n",
    "    # Flatten T for indexing consistency\n",
    "    # T_vec = T.flatten()\n",
    "\n",
    "    # Add marginal constraints\n",
    "    # Row marginal: sum_j T[i, j] = mu[i]\n",
    "    for i in range(n):\n",
    "        model.addConstr(sum(T[i, j] for j in range(m)) == mu[i])\n",
    "\n",
    "    # Column marginal: sum_i T[i, j] = nu[j]\n",
    "    for j in range(m):\n",
    "        model.addConstr(sum(T[i, j] for i in range(n)) == nu[j])\n",
    "\n",
    "    obj = 0\n",
    "    for i in range(n):\n",
    "        for j in range(m):\n",
    "            for k in range(n):\n",
    "                for el in range(m):\n",
    "                    # obj += -2*(Cx[i,j] * Cy[k,el]) * T[i, k] * T[j,el]\n",
    "                    obj += (Cx[i, j] - Cy[k, el]) ** 2 * T[i, k] * T[j, el]\n",
    "    # obj = 0.5 * sum(\n",
    "    #     G[i, j] * T_vec[i] * T_vec[j] for i in range(n * m) for j in range(n * m)\n",
    "    # )\n",
    "    model.setObjective(obj, GRB.MINIMIZE)\n",
    "\n",
    "    # Optimize the model\n",
    "    model.optimize()\n",
    "\n",
    "    # Extract solution\n",
    "    if model.Status == GRB.OPTIMAL:\n",
    "        T_opt = np.array([[T[i, j].X for j in range(m)] for i in range(n)])\n",
    "        # T_opt = T\n",
    "        return T_opt, model\n",
    "    else:\n",
    "        print(\"Optimization failed!\")\n",
    "        return None, None\n",
    "\n",
    "\n",
    "# Example usage\n",
    "n = m = 3\n",
    "mu = np.ones(n) #np.random.rand(n)\n",
    "mu /= mu.sum()  # Normalize to sum to 1\n",
    "nu = np.ones(m) #np.random.rand(m)\n",
    "nu /= nu.sum()  # Normalize to sum to 1\n",
    "points_x = np.random.randn(n, 2)\n",
    "scale = 0.1\n",
    "points_y = np.random.normal(points_x, scale)\n",
    "\n",
    "\n",
    "def cdist(x, y):\n",
    "    return np.sum((x[:, None] - y[None, :]) ** 2, axis=-1)\n",
    "\n",
    "\n",
    "Cx = cdist(points_x, points_x)\n",
    "Cy = cdist(points_y, points_y)\n"
   ]
  },
  {
   "cell_type": "code",
   "execution_count": null,
   "metadata": {},
   "outputs": [
    {
     "ename": "ValueError",
     "evalue": "matmul: Input operand 1 has a mismatch in its core dimension 0, with gufunc signature (n?,k),(k,m?)->(n?,m?) (size 10 is different from 3)",
     "output_type": "error",
     "traceback": [
      "\u001b[0;31m---------------------------------------------------------------------------\u001b[0m",
      "\u001b[0;31mValueError\u001b[0m                                Traceback (most recent call last)",
      "Cell \u001b[0;32mIn[122], line 10\u001b[0m\n\u001b[1;32m      8\u001b[0m L \u001b[38;5;241m-\u001b[39m\u001b[38;5;241m=\u001b[39m \u001b[38;5;241m4\u001b[39m\u001b[38;5;241m*\u001b[39m(points_x \u001b[38;5;241m@\u001b[39m points_x\u001b[38;5;241m.\u001b[39mT) \u001b[38;5;241m@\u001b[39m np\u001b[38;5;241m.\u001b[39mouter(my,vec_y) \n\u001b[1;32m      9\u001b[0m c0 \u001b[38;5;241m=\u001b[39m (Cx\u001b[38;5;241m*\u001b[39m\u001b[38;5;241m*\u001b[39m\u001b[38;5;241m2\u001b[39m)\u001b[38;5;241m.\u001b[39msum() \u001b[38;5;241m+\u001b[39m (Cy\u001b[38;5;241m*\u001b[39m\u001b[38;5;241m*\u001b[39m\u001b[38;5;241m2\u001b[39m)\u001b[38;5;241m.\u001b[39msum() \u001b[38;5;241m-\u001b[39m \u001b[38;5;241m2\u001b[39m\u001b[38;5;241m*\u001b[39mvec_y\u001b[38;5;241m.\u001b[39mdot(my)\u001b[38;5;241m*\u001b[39mvec_x\u001b[38;5;241m.\u001b[39mdot(mx)\n\u001b[0;32m---> 10\u001b[0m \u001b[38;5;241m-\u001b[39m \u001b[38;5;241m4\u001b[39m\u001b[38;5;241m*\u001b[39mnp\u001b[38;5;241m.\u001b[39mlinalg\u001b[38;5;241m.\u001b[39mnorm((\u001b[43mpoints_x\u001b[49m\u001b[38;5;241;43m.\u001b[39;49m\u001b[43mT\u001b[49m\u001b[43m \u001b[49m\u001b[38;5;241;43m@\u001b[39;49m\u001b[43m \u001b[49m\u001b[43mT_optimal\u001b[49m \u001b[38;5;241m@\u001b[39m points_y),\u001b[38;5;124m'\u001b[39m\u001b[38;5;124mfro\u001b[39m\u001b[38;5;124m'\u001b[39m)\u001b[38;5;241m*\u001b[39m\u001b[38;5;241m*\u001b[39m\u001b[38;5;241m2\u001b[39m\u001b[38;5;241m-\u001b[39m (L\u001b[38;5;241m*\u001b[39mT_optimal)\u001b[38;5;241m.\u001b[39msum() \u001b[38;5;241m+\u001b[39m c0\n",
      "\u001b[0;31mValueError\u001b[0m: matmul: Input operand 1 has a mismatch in its core dimension 0, with gufunc signature (n?,k),(k,m?)->(n?,m?) (size 10 is different from 3)"
     ]
    }
   ],
   "source": []
  },
  {
   "cell_type": "code",
   "execution_count": 120,
   "metadata": {},
   "outputs": [
    {
     "data": {
      "text/plain": [
       "2022.5260258121903"
      ]
     },
     "execution_count": 120,
     "metadata": {},
     "output_type": "execute_result"
    }
   ],
   "source": [
    "model.objVal*n**4"
   ]
  },
  {
   "cell_type": "code",
   "execution_count": 118,
   "metadata": {},
   "outputs": [
    {
     "data": {
      "text/plain": [
       "9.0"
      ]
     },
     "execution_count": 118,
     "metadata": {},
     "output_type": "execute_result"
    }
   ],
   "source": [
    "np.linalg.norm(np.ones((3,3)), 'fro')**2"
   ]
  },
  {
   "cell_type": "code",
   "execution_count": null,
   "metadata": {},
   "outputs": [],
   "source": []
  },
  {
   "cell_type": "code",
   "execution_count": null,
   "metadata": {},
   "outputs": [],
   "source": []
  },
  {
   "cell_type": "markdown",
   "metadata": {},
   "source": [
    "Verify objective"
   ]
  },
  {
   "cell_type": "markdown",
   "metadata": {},
   "source": [
    "# Problem formulations: GW as QP"
   ]
  },
  {
   "cell_type": "code",
   "execution_count": 15,
   "metadata": {},
   "outputs": [],
   "source": [
    "class Args:\n",
    "    n_i = 1\n",
    "    n_j = 4\n",
    "    n_downsample_pix = 20\n",
    "    top_k = 3\n",
    "    exponent = 1\n",
    "    scheduler = \"none\"\n",
    "    element_wise = False\n",
    "    cost_scale_factor = 1.0\n",
    "\n",
    "\n",
    "args = Args()\n",
    "torch_dtype = torch.float32\n",
    "\n",
    "n_downsample_pix = args.n_downsample_pix\n",
    "top_k = args.top_k\n",
    "exponent = args.exponent\n",
    "scheduler = args.scheduler\n",
    "element_wise = args.element_wise\n",
    "cost_scale_factor = args.cost_scale_factor\n",
    "normalize = True"
   ]
  },
  {
   "cell_type": "code",
   "execution_count": 17,
   "metadata": {},
   "outputs": [],
   "source": [
    "fname = \"/mnt/home/smbp/ceph/smbpchallenge/round2/set2/processed_submissions/submission_23.pt\"\n",
    "submission = torch.load(fname, weights_only=False)\n",
    "volumes = submission[\"volumes\"].to(torch_dtype)"
   ]
  },
  {
   "cell_type": "code",
   "execution_count": 18,
   "metadata": {},
   "outputs": [],
   "source": [
    "volumes_i = volumes[: args.n_i]\n",
    "volumes_j = volumes[: args.n_j]"
   ]
  },
  {
   "cell_type": "code",
   "execution_count": 19,
   "metadata": {},
   "outputs": [],
   "source": [
    "from gw_weighted_voxels import prepare_volume_and_distance\n",
    "\n",
    "marginals_i = np.empty((len(volumes_i), top_k))\n",
    "marginals_j = np.empty((len(volumes_j), top_k))\n",
    "pairwise_distances_i = np.empty((len(volumes_i), top_k, top_k))\n",
    "pairwise_distances_j = np.empty((len(volumes_j), top_k, top_k))\n",
    "\n",
    "for i in range(len(volumes_i)):\n",
    "    volume_i, pairwise_distance_i = prepare_volume_and_distance(\n",
    "        volumes_i[i], top_k, n_downsample_pix, exponent, cost_scale_factor, normalize\n",
    "    )\n",
    "    marginals_i[i] = volume_i\n",
    "    pairwise_distances_i[i] = pairwise_distance_i\n",
    "for j in range(len(volumes_j)):\n",
    "    volume_j, pairwise_distance_j = prepare_volume_and_distance(\n",
    "        volumes_j[j], top_k, n_downsample_pix, exponent, cost_scale_factor, normalize\n",
    "    )\n",
    "    marginals_j[j] = volume_j\n",
    "    pairwise_distances_j[j] = pairwise_distance_j"
   ]
  },
  {
   "cell_type": "code",
   "execution_count": null,
   "metadata": {},
   "outputs": [],
   "source": [
    "# def generate_G(Cx, Cy):\n",
    "#     \"\"\"\n",
    "#     Generate the quadratic cost matrix G for the Gromov-Wasserstein problem.\n",
    "\n",
    "#     Parameters:\n",
    "#         Cx (numpy.ndarray): Distance matrix for the source space, shape (n, n).\n",
    "#         Cy (numpy.ndarray): Distance matrix for the target space, shape (m, m).\n",
    "\n",
    "#     Returns:\n",
    "#         numpy.ndarray: Quadratic cost matrix G, shape (nm, nm).\n",
    "#     \"\"\"\n",
    "#     n, m = Cx.shape[0], Cy.shape[0]\n",
    "\n",
    "#     # Initialize the G matrix with zeros\n",
    "#     G = np.zeros((n * m, n * m))\n",
    "\n",
    "#     # Fill in G using the formula\n",
    "#     for i in range(n):\n",
    "#         for j in range(m):\n",
    "#             for k in range(n):\n",
    "#                 for el in range(m):\n",
    "#                     idx1 = i * m + j  # Flattened index for (i, j)\n",
    "#                     idx2 = k * m + el  # Flattened index for (k, l)\n",
    "#                     G[idx1, idx2] = -2*Cx[i, j]*Cy[k,el]\n",
    "#                     # G[idx1, idx2] = (Cx[i, j] - Cy[k,el])**2\n",
    "\n",
    "#     return G\n",
    "\n",
    "\n",
    "gw_distance = np.zeros((len(volumes_i), len(volumes_j)))\n",
    "transport_plans = np.zeros((len(volumes_i), len(volumes_j), top_k, top_k))\n",
    "for idx_i in range(len(volumes_i)):\n",
    "    for idx_j in range(len(volumes_j)):\n",
    "        print(f\"between {idx_i} and {idx_j}...\")\n",
    "        if idx_i <= idx_j:\n",
    "            print(f\"Computing GW distance between {idx_i} and {idx_j}...\")\n",
    "\n",
    "            n = m = top_k\n",
    "            Cx = pairwise_distances_i[idx_i]\n",
    "            Cy = pairwise_distances_j[idx_j]\n",
    "\n",
    "            # Ensure the distance matrices are symmetric and non-negative\n",
    "            Cx = 0.5 * (Cx + Cx.T)\n",
    "            Cy = 0.5 * (Cy + Cy.T)\n",
    "            Cx[Cx < 0] = 0\n",
    "            Cy[Cy < 0] = 0\n",
    "\n",
    "            # G = generate_G(Cx, Cy)\n",
    "            mu = marginals_i[idx_i]\n",
    "            nu = marginals_j[idx_j]\n",
    "            T_optimal, model = solve_gromov_wasserstein(mu, nu, Cx, Cy)\n",
    "            # gw_distance[idx_i, idx_j] = gw_distance[idx_j, idx_i] = model.ObjVal\n",
    "            gw_distance[idx_i, idx_j] = model.ObjVal\n",
    "            # gw_distance[idx_i, idx_j] += (np.outer(mu,mu) * Cx**2).sum() + (np.outer(nu,nu) * Cy**2).sum()\n",
    "            transport_plans[idx_i, idx_j] = T_optimal"
   ]
  },
  {
   "cell_type": "code",
   "execution_count": null,
   "metadata": {},
   "outputs": [],
   "source": [
    "transport_plans"
   ]
  },
  {
   "cell_type": "code",
   "execution_count": null,
   "metadata": {},
   "outputs": [],
   "source": [
    "transport_plans"
   ]
  },
  {
   "cell_type": "code",
   "execution_count": null,
   "metadata": {},
   "outputs": [],
   "source": [
    "transport_plans"
   ]
  },
  {
   "cell_type": "code",
   "execution_count": null,
   "metadata": {},
   "outputs": [],
   "source": [
    "plt.imshow(gw_distance)\n",
    "plt.colorbar()\n",
    "gw_distance"
   ]
  },
  {
   "cell_type": "code",
   "execution_count": null,
   "metadata": {},
   "outputs": [],
   "source": [
    "plt.imshow(gw_distance)\n",
    "plt.colorbar()\n",
    "gw_distance"
   ]
  },
  {
   "cell_type": "markdown",
   "metadata": {},
   "source": [
    "# verify Gurobi solver works"
   ]
  },
  {
   "cell_type": "markdown",
   "metadata": {},
   "source": [
    "# nlopt"
   ]
  },
  {
   "cell_type": "code",
   "execution_count": null,
   "metadata": {},
   "outputs": [],
   "source": [
    "import nlopt\n",
    "import numpy as np\n",
    "\n",
    "\n",
    "# Define the objective function\n",
    "def objective_function(x, grad):\n",
    "    \"\"\"\n",
    "    f(x) = (x - 3)^2\n",
    "    The gradient is optional; NLopt computes it automatically if not provided.\n",
    "    \"\"\"\n",
    "\n",
    "    return x.T @ np.eye(2) @ x\n",
    "\n",
    "\n",
    "# Set up the optimizer\n",
    "opt = nlopt.opt(nlopt.LD_MMA, 2)  # Use COBYLA algorithm with 1 variable\n",
    "opt.set_min_objective(objective_function)  # Set the objective function\n",
    "opt.set_lower_bounds([-10, -10])  # Set lower bound for x\n",
    "opt.set_upper_bounds([10, 10])  # Set upper bound for x\n",
    "opt.set_xtol_rel(1e-6)  # Set tolerance for convergence\n",
    "\n",
    "# Initial guess for x\n",
    "x0 = np.array([0.1, 0.2])\n",
    "\n",
    "# Run the optimization\n",
    "try:\n",
    "    x_optimal = opt.optimize(x0)\n",
    "    min_value = opt.last_optimum_value()  # Minimum value of the objective function\n",
    "    print(\"Optimal x:\", x_optimal)\n",
    "    print(\"Optimal f(x):\", min_value)\n",
    "except RuntimeError as e:\n",
    "    print(\"NLopt failed:\", e)"
   ]
  },
  {
   "cell_type": "code",
   "execution_count": null,
   "metadata": {},
   "outputs": [],
   "source": [
    "import nlopt\n",
    "import numpy as np\n",
    "\n",
    "\n",
    "# Define the objective function\n",
    "def objective_function(x, grad):\n",
    "    \"\"\"\n",
    "    f(x) = x^T I x\n",
    "    The gradient is optional; NLopt computes it automatically if not provided.\n",
    "    \"\"\"\n",
    "    # if grad.size > 0:\n",
    "    #     grad[:] = 2 * x  # Gradient of x^T I x is 2x\n",
    "    return x.T @ np.eye(len(x)) @ x\n",
    "\n",
    "\n",
    "# Set up the optimizer\n",
    "opt = nlopt.opt(nlopt.LD_MMA, 2)  # Use MMA algorithm with 2 variables\n",
    "opt.set_min_objective(objective_function)  # Set the objective function\n",
    "opt.set_lower_bounds([-10, -10])  # Set lower bounds for x\n",
    "opt.set_upper_bounds([10, 10])  # Set upper bounds for x\n",
    "opt.set_xtol_rel(1e-6)  # Set tolerance for convergence\n",
    "\n",
    "# Initial guess for x\n",
    "x0 = np.array([1, 1])\n",
    "\n",
    "# Run the optimization\n",
    "try:\n",
    "    x_optimal = opt.optimize(x0)\n",
    "    min_value = opt.last_optimum_value()  # Minimum value of the objective function\n",
    "    print(\"Optimal x:\", x_optimal)\n",
    "    print(\"Optimal f(x):\", min_value)\n",
    "except RuntimeError as e:\n",
    "    print(\"NLopt failed:\", e)"
   ]
  },
  {
   "cell_type": "code",
   "execution_count": null,
   "metadata": {},
   "outputs": [],
   "source": [
    "import numpy as np\n",
    "import nlopt\n",
    "\n",
    "\n",
    "# Define the objective function\n",
    "def objective_function(x, grad):\n",
    "    \"\"\"\n",
    "    The objective function for the non-convex QP problem.\n",
    "    \"\"\"\n",
    "    # Here, x is a flattened version of the optimal transport matrix\n",
    "    # Let's assume the quadratic form for simplicity\n",
    "    G = np.array([[1, 2], [3, 4]])  # Example quadratic cost matrix (should be larger)\n",
    "    c = np.zeros_like(x)  # Linear term is zero\n",
    "    return 0.5 * np.dot(x.T, np.dot(G, x)) + np.dot(c.T, x)  # 0.5 x^T G x + c^T x\n",
    "\n",
    "\n",
    "# Define constraints (row and column marginals)\n",
    "def constraint_function(x, grad, mu, nu, n, m):\n",
    "    \"\"\"\n",
    "    Constraints for the row and column marginals.\n",
    "    \"\"\"\n",
    "    constraint = np.zeros(n + m)\n",
    "    # Row constraints: sum_j T[i, j] = mu[i]\n",
    "    for i in range(n):\n",
    "        constraint[i] = np.sum(x[i * m : (i + 1) * m]) - mu[i]\n",
    "\n",
    "    # Column constraints: sum_i T[i, j] = nu[j]\n",
    "    for j in range(m):\n",
    "        constraint[n + j] = np.sum(x[j::m]) - nu[j]\n",
    "\n",
    "    return constraint\n",
    "\n",
    "\n",
    "# Set up the problem\n",
    "def solve_non_convex_qp(mu, nu, n, m):\n",
    "    \"\"\"\n",
    "    Solves the Gromov-Wasserstein problem using NLopt for non-convex QP.\n",
    "    \"\"\"\n",
    "    # Initialize the optimization variable (flattened transport matrix T)\n",
    "    x0 = np.zeros(n * m)  # Initial guess: zero matrix\n",
    "    lower_bounds = np.zeros_like(x0)  # T[i, j] >= 0\n",
    "\n",
    "    # Define the optimizer and objective\n",
    "    opt = nlopt.opt(\n",
    "        nlopt.LD_MMA, n * m\n",
    "    )  # LD_MMA is a popular algorithm for non-convex problems\n",
    "    opt.set_min_objective(objective_function)\n",
    "    opt.set_lower_bounds(lower_bounds)\n",
    "\n",
    "    # Set constraints: row and column marginals\n",
    "    opt.add_inequality_constraint(\n",
    "        lambda x, grad: constraint_function(x, grad, mu, nu, n, m), 1e-8\n",
    "    )\n",
    "\n",
    "    # Solve the problem\n",
    "    try:\n",
    "        optimal_transport = opt.optimize(x0)\n",
    "        return optimal_transport.reshape((n, m))  # Reshape to the transport matrix\n",
    "    except RuntimeError as e:\n",
    "        print(f\"NLopt error: {e}\")\n",
    "        return None\n",
    "\n",
    "\n",
    "# Example usage\n",
    "n, m = 4, 4\n",
    "mu = np.random.rand(n)\n",
    "mu /= mu.sum()  # Normalize to sum to 1\n",
    "nu = np.random.rand(m)\n",
    "nu /= nu.sum()  # Normalize to sum to 1\n",
    "\n",
    "# Solve the non-convex QP\n",
    "T_optimal = solve_non_convex_qp(mu, nu, n, m)\n",
    "print(\"Optimal Transport Matrix (T):\\n\", T_optimal)"
   ]
  },
  {
   "cell_type": "code",
   "execution_count": null,
   "metadata": {},
   "outputs": [],
   "source": [
    "# import numpy as np\n",
    "# import nlopt\n",
    "\n",
    "\n",
    "# # Define the Gromov-Wasserstein objective function\n",
    "# def gromov_wasserstein_objective(T_flat, G_x, G_y, n, m):\n",
    "#     \"\"\"\n",
    "#     Objective function for the Gromov-Wasserstein problem.\n",
    "#     T_flat is the flattened transport matrix.\n",
    "#     \"\"\"\n",
    "#     p = 2\n",
    "#     T = T_flat.reshape((n, m))\n",
    "#     obj_value = 0\n",
    "#     # Compute the GW cost\n",
    "#     for i in range(n):\n",
    "#         for j in range(m):\n",
    "#             for k in range(n):\n",
    "#                 for el in range(m):\n",
    "#                     obj_value += T[i, k] * T[j, el] * (G_x[i, j] - G_y[k, el]) ** p\n",
    "\n",
    "#     return obj_value\n",
    "\n",
    "\n",
    "# # Define the constraint function for row and column marginals\n",
    "# def constraint_function(T_flat, mu, nu, n, m):\n",
    "#     \"\"\"\n",
    "#     Constraints for the row and column marginals.\n",
    "#     Ensures that row sums are mu and column sums are nu.\n",
    "#     \"\"\"\n",
    "#     T = T_flat.reshape((n, m))\n",
    "#     row_constraints = np.zeros(n)\n",
    "#     col_constraints = np.zeros(m)\n",
    "\n",
    "#     # Row constraints: sum_j T[i, j] = mu[i]\n",
    "#     for i in range(n):\n",
    "#         row_constraints[i] = np.sum(T[i, :]) - mu[i]\n",
    "\n",
    "#     # Column constraints: sum_i T[i, j] = nu[j]\n",
    "#     for j in range(m):\n",
    "#         col_constraints[j] = np.sum(T[:, j]) - nu[j]\n",
    "\n",
    "#     # Combine row and column constraints\n",
    "#     return np.concatenate([row_constraints, col_constraints])\n",
    "\n",
    "\n",
    "# # Set up and solve the Gromov-Wasserstein problem\n",
    "# def solve_gw_problem(G_x, G_y, mu, nu):\n",
    "#     n, m = G_x.shape  # Sizes of the two sets\n",
    "#     x0 = np.ones(n * m) / (n * m)  # Initial guess: uniform distribution\n",
    "#     lower_bounds = np.zeros_like(x0)  # Ensure T[i, j] >= 0\n",
    "\n",
    "#     # Set up the optimizer\n",
    "#     opt = nlopt.opt(nlopt.LD_MMA, n * m)  # MMA is a good choice for non-convex problems\n",
    "#     opt.set_min_objective(\n",
    "#         lambda T_flat: gromov_wasserstein_objective(T_flat, G_x, G_y, n, m)\n",
    "#     )\n",
    "#     opt.set_lower_bounds(lower_bounds)\n",
    "\n",
    "#     # Add row and column marginal constraints\n",
    "#     opt.add_inequality_constraint(\n",
    "#         lambda T_flat: constraint_function(T_flat, mu, nu, n, m), 1e-8\n",
    "#     )\n",
    "\n",
    "#     # Solve the problem\n",
    "#     try:\n",
    "#         optimal_T_flat = opt.optimize(x0)\n",
    "#         optimal_T = optimal_T_flat.reshape((n, m))  # Reshape to the transport matrix\n",
    "#         return optimal_T\n",
    "#     except RuntimeError as e:\n",
    "#         print(f\"NLopt error: {e}\")\n",
    "#         return None\n",
    "\n",
    "\n",
    "# # Example usage\n",
    "# n, m = 4, 4  # Size of the two sets (you can change this)\n",
    "# # Random distance matrices (G_x and G_y)\n",
    "# G_x = np.random.rand(n, n)\n",
    "# G_y = np.random.rand(m, m)\n",
    "\n",
    "# # Normalize the distance matrices (optional)\n",
    "# G_x = (G_x + G_x.T) / 2  # Ensure symmetric distance matrix\n",
    "# G_y = (G_y + G_y.T) / 2  # Ensure symmetric distance matrix\n",
    "\n",
    "# # Marginals (mu and nu)\n",
    "# mu = np.random.rand(n)\n",
    "# mu /= mu.sum()  # Normalize to sum to 1\n",
    "# nu = np.random.rand(m)\n",
    "# nu /= nu.sum()  # Normalize to sum to 1\n",
    "\n",
    "# # Solve the Gromov-Wasserstein problem\n",
    "# T_optimal = solve_gw_problem(G_x, G_y, mu, nu)\n",
    "# print(\"Optimal Transport Matrix (T):\\n\", T_optimal)"
   ]
  },
  {
   "cell_type": "code",
   "execution_count": null,
   "metadata": {},
   "outputs": [],
   "source": [
    "# import numpy as np\n",
    "# import nlopt\n",
    "\n",
    "\n",
    "# # Define the Gromov-Wasserstein objective function\n",
    "# def gromov_wasserstein_objective_nlopt(T_flat, G_x, G_y, n, m):\n",
    "#     T = T_flat.reshape((n, m))\n",
    "#     obj_value = 0\n",
    "#     # Compute the GW cost\n",
    "#     for i in range(n):\n",
    "#         for j in range(m):\n",
    "#             for k in range(n):\n",
    "#                 for el in range(m):\n",
    "#                     obj_value += T[i, k] * T[j, el] * (G_x[i, j] - G_y[k, el]) ** 2\n",
    "#     return obj_value\n",
    "\n",
    "\n",
    "# # Define the constraint function for row and column marginals\n",
    "# def constraint_function(T_flat, mu, nu, n, m):\n",
    "#     T = T_flat.reshape((n, m))\n",
    "#     row_constraints = np.zeros(n)\n",
    "#     col_constraints = np.zeros(m)\n",
    "\n",
    "#     # Row constraints: sum_j T[i, j] = mu[i]\n",
    "#     for i in range(n):\n",
    "#         row_constraints[i] = np.sum(T[i, :]) - mu[i]\n",
    "\n",
    "#     # Column constraints: sum_i T[i, j] = nu[j]\n",
    "#     for j in range(m):\n",
    "#         col_constraints[j] = np.sum(T[:, j]) - nu[j]\n",
    "\n",
    "#     # Combine row and column constraints\n",
    "#     return np.concatenate([row_constraints, col_constraints])\n",
    "\n",
    "\n",
    "# # Set up and solve the Gromov-Wasserstein problem\n",
    "# def solve_gw_problem(G_x, G_y, mu, nu):\n",
    "#     n, m = G_x.shape  # Sizes of the two sets\n",
    "#     x0 = np.outer(mu, nu).flatten()  # Initial guess: outer product of mu and nu\n",
    "#     lower_bounds = np.zeros_like(x0)  # Ensure T[i, j] >= 0\n",
    "\n",
    "#     # Set up the optimizer\n",
    "#     opt = nlopt.opt(nlopt.LD_MMA, n * m)  # MMA is a good choice for non-convex problems\n",
    "#     opt.set_min_objective(\n",
    "#         lambda T_flat, grad: gromov_wasserstein_objective_nlopt(T_flat, G_x, G_y, n, m)\n",
    "#     )\n",
    "#     opt.set_lower_bounds(lower_bounds)\n",
    "\n",
    "#     # Add row and column marginal constraints\n",
    "#     opt.add_inequality_constraint(\n",
    "#         lambda T_flat, grad: constraint_function(T_flat, mu, nu, n, m), 1e-8\n",
    "#     )\n",
    "\n",
    "#     # Solve the problem\n",
    "#     try:\n",
    "#         optimal_T_flat = opt.optimize(x0)\n",
    "#         optimal_T = optimal_T_flat.reshape((n, m))  # Reshape to the transport matrix\n",
    "#         return optimal_T\n",
    "#     except RuntimeError as e:\n",
    "#         print(f\"NLopt error: {e}\")\n",
    "#         return None\n",
    "\n",
    "\n",
    "# # Example usage\n",
    "# n, m = 4, 4  # Size of the two sets (you can change this)\n",
    "# # Random distance matrices (G_x and G_y)\n",
    "# points_x = np.random.rand(n, 2)\n",
    "# scale = 0\n",
    "# points_y = points_x + scale * np.random.rand(m, 2)\n",
    "# G_x = np.linalg.norm(points_x[:, None] - points_x, axis=-1)\n",
    "# G_y = np.linalg.norm(points_y[:, None] - points_y, axis=-1)\n",
    "\n",
    "# # Normalize the distance matrices (optional)\n",
    "# G_x = (G_x + G_x.T) / 2  # Ensure symmetric distance matrix\n",
    "# G_y = (G_y + G_y.T) / 2  # Ensure symmetric distance matrix\n",
    "\n",
    "# # Marginals (mu and nu)\n",
    "# mu = np.ones(n) / n\n",
    "# mu /= mu.sum()  # Normalize to sum to 1\n",
    "# nu = np.ones(m) / m\n",
    "# nu /= nu.sum()  # Normalize to sum to 1\n",
    "\n",
    "# # Solve the Gromov-Wasserstein problem\n",
    "# T_optimal = solve_gw_problem(G_x, G_y, mu, nu)\n",
    "# print(\"Optimal Transport Matrix (T):\\n\", T_optimal)"
   ]
  },
  {
   "cell_type": "code",
   "execution_count": null,
   "metadata": {},
   "outputs": [],
   "source": [
    "# import nlopt\n",
    "# import numpy as np\n",
    "\n",
    "\n",
    "# # Define the Gromov-Wasserstein objective function with gradient\n",
    "# def gromov_wasserstein_objective(T_flat, grad, G_x, G_y, n, m):\n",
    "#     T = T_flat.reshape((n, m))\n",
    "#     obj_value = 0\n",
    "#     if grad.size > 0:\n",
    "#         grad[:] = 0  # Initialize gradient to zero\n",
    "#     # Compute the GW cost\n",
    "#     for i in range(n):\n",
    "#         for j in range(m):\n",
    "#             for k in range(n):\n",
    "#                 for el in range(m):\n",
    "#                     cost = (G_x[i, j] - G_y[k, l]) ** 2\n",
    "#                     obj_value += T[i, k] * T[j, l] * cost\n",
    "#                     if grad.size > 0:\n",
    "#                         grad[i * m + k] += T[j, el] * cost\n",
    "#                         grad[j * m + el] += T[i, k] * cost\n",
    "#                         grad[i * m + el] -= T[j, el] * cost\n",
    "#                         grad[j * m + k] -= T[i, k] * cost\n",
    "#     return obj_value\n",
    "\n",
    "\n",
    "# # Example usage\n",
    "# n, m = 4, 4  # Size of the two sets (you can change this)\n",
    "# # Random distance matrices (G_x and G_y)\n",
    "# points_x = np.random.rand(n, 2)\n",
    "# scale = 0\n",
    "# points_y = points_x + scale * np.random.rand(m, 2)\n",
    "# G_x = np.linalg.norm(points_x[:, None] - points_x, axis=-1)\n",
    "# G_y = np.linalg.norm(points_y[:, None] - points_y, axis=-1)\n",
    "\n",
    "# # Normalize the distance matrices (optional)\n",
    "# G_x = (G_x + G_x.T) / 2  # Ensure symmetric distance matrix\n",
    "# G_y = (G_y + G_y.T) / 2  # Ensure symmetric distance matrix\n",
    "\n",
    "# # Marginals (mu and nu)\n",
    "# mu = np.ones(n) / n\n",
    "# mu /= mu.sum()  # Normalize to sum to 1\n",
    "# nu = np.ones(m) / m\n",
    "# nu /= nu.sum()  # Normalize to sum to 1\n",
    "\n",
    "# x0 = np.ones(n * m) / (n * m)  # Initial guess\n",
    "\n",
    "# opt = nlopt.opt(nlopt.LD_MMA, n * m)  # MMA is a good choice for non-convex problems\n",
    "# opt.set_min_objective(\n",
    "#     lambda T_flat, grad: gromov_wasserstein_objective(T_flat, grad, G_x, G_y, n, m)\n",
    "# )\n",
    "\n",
    "# # Set lower bounds and other constraints if needed\n",
    "# opt.set_lower_bounds(0)\n",
    "\n",
    "# # Solve the problem\n",
    "# try:\n",
    "#     optimal_T_flat = opt.optimize(x0)\n",
    "#     optimal_T = optimal_T_flat.reshape((n, m))  # Reshape to the transport matrix\n",
    "#     print(\"Optimal Transport Matrix (T):\\n\", optimal_T)\n",
    "# except RuntimeError as e:\n",
    "#     print(f\"NLopt error: {e}\")"
   ]
  },
  {
   "cell_type": "code",
   "execution_count": null,
   "metadata": {},
   "outputs": [],
   "source": []
  }
 ],
 "metadata": {
  "kernelspec": {
   "display_name": "gurobi",
   "language": "python",
   "name": "python3"
  },
  "language_info": {
   "codemirror_mode": {
    "name": "ipython",
    "version": 3
   },
   "file_extension": ".py",
   "mimetype": "text/x-python",
   "name": "python",
   "nbconvert_exporter": "python",
   "pygments_lexer": "ipython3",
   "version": "3.11.11"
  }
 },
 "nbformat": 4,
 "nbformat_minor": 2
}
