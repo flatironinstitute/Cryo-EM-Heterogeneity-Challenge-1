{
 "cells": [
  {
   "cell_type": "markdown",
   "metadata": {},
   "source": [
    "# Goal\n",
    "* gm on voxel intensities\n",
    "* downsample and use voxel intensities for weight\n",
    "* use top k values as weighted points (contains 95% of mass?)\n",
    "* develop on mint chocolate chip"
   ]
  },
  {
   "cell_type": "markdown",
   "metadata": {},
   "source": [
    "# Setup"
   ]
  },
  {
   "cell_type": "code",
   "execution_count": 1,
   "metadata": {},
   "outputs": [],
   "source": [
    "import torch\n",
    "import pandas as pd\n",
    "import ot\n",
    "import numpy as np\n",
    "import matplotlib.pyplot as plt\n",
    "\n",
    "from ot.gromov._utils import init_matrix, gwloss\n",
    "from ot.backend import get_backend"
   ]
  },
  {
   "cell_type": "markdown",
   "metadata": {},
   "source": [
    "# Import maps"
   ]
  },
  {
   "cell_type": "code",
   "execution_count": 25,
   "metadata": {},
   "outputs": [],
   "source": [
    "fname = \"/mnt/home/smbp/ceph/smbpchallenge/round2/set2/processed_submissions/submission_23.pt\""
   ]
  },
  {
   "cell_type": "code",
   "execution_count": 69,
   "metadata": {},
   "outputs": [
    {
     "name": "stderr",
     "output_type": "stream",
     "text": [
      "/tmp/ipykernel_549466/1569191833.py:1: FutureWarning: You are using `torch.load` with `weights_only=False` (the current default value), which uses the default pickle module implicitly. It is possible to construct malicious pickle data which will execute arbitrary code during unpickling (See https://github.com/pytorch/pytorch/blob/main/SECURITY.md#untrusted-models for more details). In a future release, the default value for `weights_only` will be flipped to `True`. This limits the functions that could be executed during unpickling. Arbitrary objects will no longer be allowed to be loaded via this mode unless they are explicitly allowlisted by the user via `torch.serialization.add_safe_globals`. We recommend you start setting `weights_only=True` for any use case where you don't have full control of the loaded file. Please open an issue on GitHub for any issues related to this experimental feature.\n",
      "  submission = torch.load(fname)\n"
     ]
    }
   ],
   "source": [
    "submission = torch.load(fname)"
   ]
  },
  {
   "cell_type": "code",
   "execution_count": 70,
   "metadata": {},
   "outputs": [
    {
     "data": {
      "text/plain": [
       "torch.Size([80, 224, 224, 224])"
      ]
     },
     "execution_count": 70,
     "metadata": {},
     "output_type": "execute_result"
    }
   ],
   "source": [
    "volumes = submission[\"volumes\"].double()\n",
    "volumes.shape"
   ]
  },
  {
   "cell_type": "code",
   "execution_count": 28,
   "metadata": {},
   "outputs": [
    {
     "data": {
      "text/plain": [
       "<Axes: ylabel='Frequency'>"
      ]
     },
     "execution_count": 28,
     "metadata": {},
     "output_type": "execute_result"
    },
    {
     "data": {
      "image/png": "[encoded data removed]",
      "text/plain": [
       "<Figure size 640x480 with 1 Axes>"
      ]
     },
     "metadata": {},
     "output_type": "display_data"
    }
   ],
   "source": [
    "idx = 0\n",
    "pd.Series(volumes[idx].numpy().flatten()).plot.hist(bins=100, logy=True)"
   ]
  },
  {
   "cell_type": "code",
   "execution_count": 29,
   "metadata": {},
   "outputs": [
    {
     "data": {
      "text/plain": [
       "<Axes: ylabel='Frequency'>"
      ]
     },
     "execution_count": 29,
     "metadata": {},
     "output_type": "execute_result"
    },
    {
     "data": {
      "image/png": "[encoded data removed]",
      "text/plain": [
       "<Figure size 640x480 with 1 Axes>"
      ]
     },
     "metadata": {},
     "output_type": "display_data"
    }
   ],
   "source": [
    "from cryo_challenge._preprocessing.fourier_utils import downsample_volume\n",
    "\n",
    "n_downsample_pix = 20\n",
    "volume = downsample_volume(volumes[idx], n_downsample_pix)\n",
    "volume -= volume.min()\n",
    "volume /= volume.sum()\n",
    "pd.Series(volume.numpy().flatten()).plot.hist(logy=True, bins=100)\n",
    "# volume = volumes[idx]\n",
    "# n_downsampled = len(volume)"
   ]
  },
  {
   "cell_type": "code",
   "execution_count": 30,
   "metadata": {},
   "outputs": [
    {
     "name": "stdout",
     "output_type": "stream",
     "text": [
      "0.00 | 7999 | 1.00\n",
      "0.00 | 7999 | 1.00\n",
      "0.00 | 7999 | 1.00\n",
      "0.00 | 7999 | 1.00\n",
      "0.00 | 7999 | 1.00\n",
      "0.00 | 7999 | 1.00\n",
      "0.00 | 7999 | 1.00\n",
      "0.00 | 7999 | 1.00\n",
      "0.00 | 7999 | 1.00\n",
      "0.00 | 7998 | 1.00\n",
      "0.00 | 7998 | 1.00\n",
      "0.00 | 7998 | 1.00\n",
      "0.00 | 7998 | 1.00\n",
      "0.00 | 7998 | 1.00\n",
      "0.00 | 7998 | 1.00\n",
      "0.00 | 7998 | 1.00\n",
      "0.00 | 7998 | 1.00\n",
      "0.00 | 7997 | 1.00\n",
      "0.00 | 7997 | 1.00\n",
      "0.00 | 7997 | 1.00\n",
      "0.00 | 7997 | 1.00\n",
      "0.00 | 7997 | 1.00\n",
      "0.00 | 7997 | 1.00\n",
      "0.00 | 7997 | 1.00\n",
      "0.00 | 7997 | 1.00\n",
      "0.00 | 7997 | 1.00\n",
      "0.00 | 7996 | 1.00\n",
      "0.00 | 7996 | 1.00\n",
      "0.00 | 7995 | 1.00\n",
      "0.00 | 7995 | 1.00\n",
      "0.00 | 7995 | 1.00\n",
      "0.00 | 7995 | 1.00\n",
      "0.00 | 7995 | 1.00\n",
      "0.00 | 7995 | 1.00\n",
      "0.00 | 7995 | 1.00\n",
      "0.00 | 7994 | 1.00\n",
      "0.00 | 7993 | 1.00\n",
      "0.00 | 7992 | 1.00\n",
      "0.00 | 7991 | 1.00\n",
      "0.00 | 7989 | 1.00\n",
      "0.00 | 7987 | 1.00\n",
      "0.00 | 7987 | 1.00\n",
      "0.00 | 7986 | 1.00\n",
      "0.00 | 7986 | 1.00\n",
      "0.00 | 7986 | 1.00\n",
      "0.00 | 7985 | 1.00\n",
      "0.00 | 7984 | 1.00\n",
      "0.00 | 7984 | 1.00\n",
      "0.00 | 7983 | 1.00\n",
      "0.00 | 7982 | 1.00\n",
      "0.00 | 7981 | 1.00\n",
      "0.00 | 7979 | 1.00\n",
      "0.00 | 7979 | 1.00\n",
      "0.00 | 7979 | 1.00\n",
      "0.00 | 7976 | 1.00\n",
      "0.00 | 7975 | 1.00\n",
      "0.00 | 7973 | 1.00\n",
      "0.00 | 7971 | 1.00\n",
      "0.00 | 7968 | 1.00\n",
      "0.00 | 7965 | 1.00\n",
      "0.00 | 7964 | 1.00\n",
      "0.00 | 7960 | 1.00\n",
      "0.00 | 7959 | 1.00\n",
      "0.00 | 7953 | 1.00\n",
      "0.00 | 7952 | 1.00\n",
      "0.00 | 7949 | 1.00\n",
      "0.00 | 7948 | 1.00\n",
      "0.00 | 7948 | 1.00\n",
      "0.00 | 7944 | 1.00\n",
      "0.00 | 7941 | 1.00\n",
      "0.00 | 7940 | 1.00\n",
      "0.00 | 7939 | 1.00\n",
      "0.00 | 7932 | 1.00\n",
      "0.00 | 7927 | 1.00\n",
      "0.00 | 7925 | 0.99\n",
      "0.00 | 7920 | 0.99\n",
      "0.00 | 7915 | 0.99\n",
      "0.00 | 7909 | 0.99\n",
      "0.00 | 7901 | 0.99\n",
      "0.00 | 7894 | 0.99\n",
      "0.00 | 7883 | 0.99\n",
      "0.00 | 7877 | 0.99\n",
      "0.00 | 7870 | 0.99\n",
      "0.00 | 7862 | 0.99\n",
      "0.00 | 7852 | 0.99\n",
      "0.00 | 7841 | 0.99\n",
      "0.00 | 7823 | 0.98\n",
      "0.00 | 7805 | 0.98\n",
      "0.00 | 7780 | 0.98\n",
      "0.00 | 7754 | 0.98\n",
      "0.00 | 7734 | 0.98\n",
      "0.00 | 7712 | 0.97\n",
      "0.00 | 7664 | 0.97\n",
      "0.00 | 7605 | 0.96\n",
      "0.00 | 7531 | 0.95\n",
      "0.00 | 7423 | 0.94\n",
      "0.00 | 7223 | 0.92\n",
      "0.00 | 6502 | 0.83\n",
      "0.00 | 2201 | 0.32\n",
      "0.00 | 1066 | 0.19\n",
      "0.00 | 791 | 0.16\n",
      "0.00 | 656 | 0.14\n",
      "0.00 | 560 | 0.13\n",
      "0.00 | 503 | 0.12\n",
      "0.00 | 463 | 0.12\n",
      "0.00 | 423 | 0.11\n",
      "0.00 | 389 | 0.11\n",
      "0.00 | 358 | 0.10\n",
      "0.00 | 336 | 0.10\n",
      "0.00 | 319 | 0.10\n",
      "0.00 | 301 | 0.10\n",
      "0.00 | 294 | 0.09\n",
      "0.00 | 279 | 0.09\n",
      "0.00 | 263 | 0.09\n",
      "0.00 | 246 | 0.09\n",
      "0.00 | 238 | 0.09\n",
      "0.00 | 232 | 0.09\n",
      "0.00 | 222 | 0.08\n",
      "0.00 | 218 | 0.08\n",
      "0.00 | 212 | 0.08\n",
      "0.00 | 204 | 0.08\n",
      "0.00 | 199 | 0.08\n",
      "0.00 | 198 | 0.08\n",
      "0.00 | 196 | 0.08\n",
      "0.00 | 192 | 0.08\n",
      "0.00 | 191 | 0.08\n",
      "0.00 | 188 | 0.08\n",
      "0.00 | 183 | 0.08\n",
      "0.00 | 177 | 0.08\n",
      "0.00 | 173 | 0.08\n",
      "0.00 | 171 | 0.08\n",
      "0.00 | 170 | 0.08\n",
      "0.00 | 166 | 0.08\n",
      "0.00 | 163 | 0.08\n",
      "0.00 | 162 | 0.08\n",
      "0.00 | 162 | 0.08\n",
      "0.00 | 160 | 0.08\n",
      "0.00 | 159 | 0.08\n",
      "0.00 | 157 | 0.07\n",
      "0.00 | 156 | 0.07\n",
      "0.00 | 156 | 0.07\n",
      "0.00 | 154 | 0.07\n",
      "0.00 | 154 | 0.07\n",
      "0.00 | 153 | 0.07\n",
      "0.00 | 153 | 0.07\n",
      "0.00 | 152 | 0.07\n",
      "0.00 | 152 | 0.07\n",
      "0.00 | 151 | 0.07\n",
      "0.00 | 151 | 0.07\n",
      "0.00 | 151 | 0.07\n",
      "0.00 | 151 | 0.07\n",
      "0.00 | 148 | 0.07\n",
      "0.00 | 147 | 0.07\n",
      "0.00 | 147 | 0.07\n",
      "0.00 | 146 | 0.07\n",
      "0.00 | 146 | 0.07\n",
      "0.00 | 146 | 0.07\n",
      "0.00 | 143 | 0.07\n",
      "0.00 | 143 | 0.07\n",
      "0.00 | 142 | 0.07\n",
      "0.00 | 142 | 0.07\n",
      "0.00 | 141 | 0.07\n",
      "0.00 | 141 | 0.07\n",
      "0.00 | 141 | 0.07\n",
      "0.00 | 140 | 0.07\n",
      "0.00 | 140 | 0.07\n",
      "0.00 | 139 | 0.07\n",
      "0.00 | 138 | 0.07\n",
      "0.00 | 137 | 0.07\n",
      "0.00 | 136 | 0.07\n",
      "0.00 | 136 | 0.07\n",
      "0.00 | 136 | 0.07\n",
      "0.00 | 134 | 0.07\n",
      "0.00 | 134 | 0.07\n",
      "0.00 | 134 | 0.07\n",
      "0.00 | 134 | 0.07\n",
      "0.00 | 134 | 0.07\n",
      "0.00 | 134 | 0.07\n",
      "0.00 | 133 | 0.07\n",
      "0.00 | 133 | 0.07\n",
      "0.00 | 133 | 0.07\n",
      "0.00 | 133 | 0.07\n",
      "0.00 | 133 | 0.07\n",
      "0.00 | 133 | 0.07\n",
      "0.00 | 133 | 0.07\n",
      "0.00 | 133 | 0.07\n",
      "0.00 | 132 | 0.07\n",
      "0.00 | 131 | 0.07\n",
      "0.00 | 131 | 0.07\n",
      "0.00 | 130 | 0.07\n",
      "0.00 | 130 | 0.07\n",
      "0.00 | 130 | 0.07\n",
      "0.00 | 130 | 0.07\n",
      "0.00 | 130 | 0.07\n",
      "0.00 | 130 | 0.07\n",
      "0.00 | 130 | 0.07\n",
      "0.00 | 129 | 0.07\n",
      "0.00 | 128 | 0.07\n",
      "0.00 | 128 | 0.07\n",
      "0.00 | 128 | 0.07\n",
      "0.00 | 128 | 0.07\n",
      "0.00 | 128 | 0.07\n",
      "0.00 | 128 | 0.07\n",
      "0.00 | 128 | 0.07\n",
      "0.00 | 128 | 0.07\n",
      "0.00 | 128 | 0.07\n",
      "0.00 | 128 | 0.07\n",
      "0.00 | 127 | 0.07\n",
      "0.00 | 126 | 0.07\n",
      "0.00 | 126 | 0.07\n",
      "0.00 | 126 | 0.07\n",
      "0.00 | 125 | 0.07\n",
      "0.00 | 124 | 0.07\n",
      "0.00 | 124 | 0.07\n",
      "0.00 | 124 | 0.07\n",
      "0.00 | 123 | 0.07\n",
      "0.00 | 123 | 0.07\n",
      "0.00 | 123 | 0.07\n",
      "0.00 | 122 | 0.07\n",
      "0.00 | 122 | 0.07\n",
      "0.00 | 120 | 0.07\n",
      "0.00 | 120 | 0.07\n",
      "0.00 | 120 | 0.07\n",
      "0.00 | 120 | 0.07\n",
      "0.00 | 120 | 0.07\n",
      "0.00 | 120 | 0.07\n",
      "0.00 | 120 | 0.07\n",
      "0.00 | 119 | 0.07\n",
      "0.00 | 117 | 0.07\n",
      "0.00 | 117 | 0.07\n",
      "0.00 | 117 | 0.07\n",
      "0.00 | 117 | 0.07\n",
      "0.00 | 115 | 0.07\n",
      "0.00 | 112 | 0.06\n",
      "0.00 | 112 | 0.06\n",
      "0.00 | 112 | 0.06\n",
      "0.00 | 112 | 0.06\n",
      "0.00 | 110 | 0.06\n",
      "0.00 | 110 | 0.06\n",
      "0.00 | 110 | 0.06\n",
      "0.00 | 110 | 0.06\n",
      "0.00 | 110 | 0.06\n",
      "0.00 | 110 | 0.06\n",
      "0.00 | 109 | 0.06\n",
      "0.00 | 109 | 0.06\n",
      "0.00 | 109 | 0.06\n",
      "0.00 | 109 | 0.06\n",
      "0.00 | 108 | 0.06\n",
      "0.00 | 108 | 0.06\n",
      "0.00 | 108 | 0.06\n",
      "0.00 | 108 | 0.06\n",
      "0.00 | 107 | 0.06\n",
      "0.00 | 107 | 0.06\n",
      "0.00 | 107 | 0.06\n",
      "0.00 | 107 | 0.06\n",
      "0.00 | 107 | 0.06\n",
      "0.00 | 107 | 0.06\n",
      "0.00 | 107 | 0.06\n",
      "0.00 | 106 | 0.06\n",
      "0.00 | 105 | 0.06\n",
      "0.00 | 105 | 0.06\n",
      "0.00 | 104 | 0.06\n",
      "0.00 | 104 | 0.06\n",
      "0.00 | 103 | 0.06\n",
      "0.00 | 102 | 0.06\n",
      "0.00 | 102 | 0.06\n",
      "0.00 | 102 | 0.06\n",
      "0.00 | 101 | 0.06\n",
      "0.00 | 100 | 0.06\n",
      "0.00 | 98 | 0.06\n",
      "0.00 | 98 | 0.06\n",
      "0.00 | 98 | 0.06\n",
      "0.00 | 98 | 0.06\n",
      "0.00 | 98 | 0.06\n",
      "0.00 | 98 | 0.06\n",
      "0.00 | 98 | 0.06\n",
      "0.00 | 98 | 0.06\n",
      "0.00 | 98 | 0.06\n",
      "0.00 | 98 | 0.06\n",
      "0.00 | 98 | 0.06\n",
      "0.00 | 97 | 0.06\n",
      "0.00 | 97 | 0.06\n",
      "0.00 | 97 | 0.06\n",
      "0.00 | 97 | 0.06\n",
      "0.00 | 97 | 0.06\n",
      "0.00 | 97 | 0.06\n",
      "0.00 | 97 | 0.06\n",
      "0.00 | 97 | 0.06\n",
      "0.00 | 96 | 0.06\n",
      "0.00 | 96 | 0.06\n",
      "0.00 | 96 | 0.06\n",
      "0.00 | 96 | 0.06\n",
      "0.00 | 96 | 0.06\n",
      "0.00 | 96 | 0.06\n",
      "0.00 | 96 | 0.06\n",
      "0.00 | 96 | 0.06\n",
      "0.00 | 95 | 0.06\n",
      "0.00 | 95 | 0.06\n",
      "0.00 | 95 | 0.06\n",
      "0.00 | 95 | 0.06\n",
      "0.00 | 94 | 0.06\n",
      "0.00 | 93 | 0.06\n",
      "0.00 | 93 | 0.06\n",
      "0.00 | 93 | 0.06\n",
      "0.00 | 93 | 0.06\n",
      "0.00 | 93 | 0.06\n",
      "0.00 | 93 | 0.06\n",
      "0.00 | 91 | 0.06\n",
      "0.00 | 91 | 0.06\n",
      "0.00 | 91 | 0.06\n",
      "0.00 | 91 | 0.06\n",
      "0.00 | 91 | 0.06\n",
      "0.00 | 91 | 0.06\n",
      "0.00 | 90 | 0.06\n",
      "0.00 | 90 | 0.06\n",
      "0.00 | 90 | 0.06\n",
      "0.00 | 90 | 0.06\n",
      "0.00 | 90 | 0.06\n",
      "0.00 | 90 | 0.06\n",
      "0.00 | 90 | 0.06\n",
      "0.00 | 89 | 0.06\n",
      "0.00 | 89 | 0.06\n",
      "0.00 | 89 | 0.06\n",
      "0.00 | 89 | 0.06\n",
      "0.00 | 89 | 0.06\n",
      "0.00 | 89 | 0.06\n",
      "0.00 | 89 | 0.06\n",
      "0.00 | 88 | 0.06\n",
      "0.00 | 88 | 0.06\n",
      "0.00 | 87 | 0.06\n",
      "0.00 | 86 | 0.06\n",
      "0.00 | 86 | 0.06\n",
      "0.00 | 86 | 0.06\n",
      "0.00 | 86 | 0.06\n",
      "0.00 | 86 | 0.06\n",
      "0.00 | 86 | 0.06\n",
      "0.00 | 86 | 0.06\n",
      "0.00 | 86 | 0.06\n",
      "0.00 | 86 | 0.06\n",
      "0.00 | 86 | 0.06\n",
      "0.00 | 86 | 0.06\n",
      "0.00 | 85 | 0.06\n",
      "0.00 | 85 | 0.06\n",
      "0.00 | 85 | 0.06\n",
      "0.00 | 85 | 0.06\n",
      "0.00 | 85 | 0.06\n",
      "0.00 | 85 | 0.06\n",
      "0.00 | 85 | 0.06\n",
      "0.00 | 85 | 0.06\n",
      "0.00 | 85 | 0.06\n",
      "0.00 | 84 | 0.06\n",
      "0.00 | 84 | 0.06\n",
      "0.00 | 84 | 0.06\n",
      "0.00 | 84 | 0.06\n",
      "0.00 | 84 | 0.06\n",
      "0.00 | 83 | 0.05\n",
      "0.00 | 82 | 0.05\n",
      "0.00 | 82 | 0.05\n",
      "0.00 | 81 | 0.05\n",
      "0.00 | 81 | 0.05\n",
      "0.00 | 81 | 0.05\n",
      "0.00 | 81 | 0.05\n",
      "0.00 | 81 | 0.05\n",
      "0.00 | 81 | 0.05\n",
      "0.00 | 81 | 0.05\n",
      "0.00 | 81 | 0.05\n",
      "0.00 | 81 | 0.05\n",
      "0.00 | 81 | 0.05\n",
      "0.00 | 81 | 0.05\n",
      "0.00 | 80 | 0.05\n",
      "0.00 | 80 | 0.05\n",
      "0.00 | 80 | 0.05\n",
      "0.00 | 80 | 0.05\n",
      "0.00 | 79 | 0.05\n",
      "0.00 | 78 | 0.05\n",
      "0.00 | 78 | 0.05\n",
      "0.00 | 77 | 0.05\n",
      "0.00 | 75 | 0.05\n",
      "0.00 | 74 | 0.05\n",
      "0.00 | 74 | 0.05\n",
      "0.00 | 74 | 0.05\n",
      "0.00 | 74 | 0.05\n",
      "0.00 | 74 | 0.05\n",
      "0.00 | 74 | 0.05\n",
      "0.00 | 72 | 0.05\n",
      "0.00 | 72 | 0.05\n",
      "0.00 | 72 | 0.05\n",
      "0.00 | 72 | 0.05\n",
      "0.00 | 72 | 0.05\n",
      "0.00 | 72 | 0.05\n",
      "0.00 | 70 | 0.05\n",
      "0.00 | 69 | 0.05\n",
      "0.00 | 69 | 0.05\n",
      "0.00 | 68 | 0.05\n",
      "0.00 | 68 | 0.05\n",
      "0.00 | 66 | 0.05\n",
      "0.00 | 66 | 0.05\n",
      "0.00 | 66 | 0.05\n",
      "0.00 | 66 | 0.05\n",
      "0.00 | 66 | 0.05\n",
      "0.00 | 66 | 0.05\n",
      "0.00 | 66 | 0.05\n",
      "0.00 | 66 | 0.05\n",
      "0.00 | 66 | 0.05\n",
      "0.00 | 66 | 0.05\n",
      "0.00 | 66 | 0.05\n",
      "0.00 | 66 | 0.05\n",
      "0.00 | 66 | 0.05\n",
      "0.00 | 66 | 0.05\n",
      "0.00 | 66 | 0.05\n",
      "0.00 | 66 | 0.05\n",
      "0.00 | 65 | 0.05\n",
      "0.00 | 65 | 0.05\n",
      "0.00 | 65 | 0.05\n",
      "0.00 | 65 | 0.05\n",
      "0.00 | 65 | 0.05\n",
      "0.00 | 65 | 0.05\n",
      "0.00 | 64 | 0.05\n",
      "0.00 | 64 | 0.05\n",
      "0.00 | 64 | 0.05\n",
      "0.00 | 64 | 0.05\n",
      "0.00 | 64 | 0.05\n",
      "0.00 | 64 | 0.05\n",
      "0.00 | 64 | 0.05\n",
      "0.00 | 64 | 0.05\n",
      "0.00 | 64 | 0.05\n",
      "0.00 | 64 | 0.05\n",
      "0.00 | 64 | 0.05\n",
      "0.00 | 64 | 0.05\n",
      "0.00 | 64 | 0.05\n",
      "0.00 | 64 | 0.05\n",
      "0.00 | 63 | 0.05\n",
      "0.00 | 63 | 0.05\n",
      "0.00 | 62 | 0.05\n",
      "0.00 | 62 | 0.05\n",
      "0.00 | 62 | 0.05\n",
      "0.00 | 62 | 0.05\n",
      "0.00 | 62 | 0.05\n",
      "0.00 | 62 | 0.05\n",
      "0.00 | 62 | 0.05\n",
      "0.00 | 62 | 0.05\n",
      "0.00 | 62 | 0.05\n",
      "0.00 | 62 | 0.05\n",
      "0.00 | 61 | 0.04\n",
      "0.00 | 61 | 0.04\n",
      "0.00 | 61 | 0.04\n",
      "0.00 | 61 | 0.04\n",
      "0.00 | 60 | 0.04\n",
      "0.00 | 60 | 0.04\n",
      "0.00 | 60 | 0.04\n",
      "0.00 | 57 | 0.04\n",
      "0.00 | 57 | 0.04\n",
      "0.00 | 57 | 0.04\n",
      "0.00 | 57 | 0.04\n",
      "0.00 | 57 | 0.04\n",
      "0.00 | 57 | 0.04\n",
      "0.00 | 57 | 0.04\n",
      "0.00 | 57 | 0.04\n",
      "0.00 | 57 | 0.04\n",
      "0.00 | 57 | 0.04\n",
      "0.00 | 57 | 0.04\n",
      "0.00 | 56 | 0.04\n",
      "0.00 | 56 | 0.04\n",
      "0.00 | 56 | 0.04\n",
      "0.00 | 56 | 0.04\n",
      "0.00 | 56 | 0.04\n",
      "0.00 | 56 | 0.04\n",
      "0.00 | 56 | 0.04\n",
      "0.00 | 56 | 0.04\n",
      "0.00 | 56 | 0.04\n",
      "0.00 | 56 | 0.04\n",
      "0.00 | 56 | 0.04\n",
      "0.00 | 56 | 0.04\n",
      "0.00 | 56 | 0.04\n",
      "0.00 | 54 | 0.04\n",
      "0.00 | 54 | 0.04\n",
      "0.00 | 54 | 0.04\n",
      "0.00 | 54 | 0.04\n",
      "0.00 | 54 | 0.04\n",
      "0.00 | 54 | 0.04\n",
      "0.00 | 54 | 0.04\n",
      "0.00 | 54 | 0.04\n",
      "0.00 | 53 | 0.04\n",
      "0.00 | 53 | 0.04\n",
      "0.00 | 53 | 0.04\n",
      "0.00 | 53 | 0.04\n",
      "0.00 | 53 | 0.04\n",
      "0.00 | 53 | 0.04\n",
      "0.00 | 53 | 0.04\n",
      "0.00 | 53 | 0.04\n",
      "0.00 | 52 | 0.04\n",
      "0.00 | 51 | 0.04\n",
      "0.00 | 50 | 0.04\n",
      "0.00 | 49 | 0.04\n",
      "0.00 | 49 | 0.04\n",
      "0.00 | 49 | 0.04\n",
      "0.00 | 49 | 0.04\n",
      "0.00 | 49 | 0.04\n",
      "0.00 | 48 | 0.04\n",
      "0.00 | 48 | 0.04\n",
      "0.00 | 48 | 0.04\n",
      "0.00 | 48 | 0.04\n",
      "0.00 | 48 | 0.04\n",
      "0.00 | 48 | 0.04\n",
      "0.00 | 48 | 0.04\n",
      "0.00 | 48 | 0.04\n",
      "0.00 | 48 | 0.04\n",
      "0.00 | 48 | 0.04\n",
      "0.00 | 48 | 0.04\n",
      "0.00 | 48 | 0.04\n",
      "0.00 | 46 | 0.04\n",
      "0.00 | 46 | 0.04\n",
      "0.00 | 46 | 0.04\n",
      "0.00 | 46 | 0.04\n",
      "0.00 | 46 | 0.04\n",
      "0.00 | 46 | 0.04\n",
      "0.00 | 46 | 0.04\n",
      "0.00 | 46 | 0.04\n",
      "0.00 | 46 | 0.04\n",
      "0.00 | 46 | 0.04\n",
      "0.00 | 46 | 0.04\n",
      "0.00 | 46 | 0.04\n",
      "0.00 | 45 | 0.04\n",
      "0.00 | 45 | 0.04\n",
      "0.00 | 44 | 0.03\n",
      "0.00 | 44 | 0.03\n",
      "0.00 | 44 | 0.03\n",
      "0.00 | 44 | 0.03\n",
      "0.00 | 44 | 0.03\n",
      "0.00 | 44 | 0.03\n",
      "0.00 | 44 | 0.03\n",
      "0.00 | 44 | 0.03\n",
      "0.00 | 43 | 0.03\n",
      "0.00 | 43 | 0.03\n",
      "0.00 | 43 | 0.03\n",
      "0.00 | 43 | 0.03\n",
      "0.00 | 43 | 0.03\n",
      "0.00 | 43 | 0.03\n",
      "0.00 | 42 | 0.03\n",
      "0.00 | 42 | 0.03\n",
      "0.00 | 42 | 0.03\n",
      "0.00 | 42 | 0.03\n",
      "0.00 | 42 | 0.03\n",
      "0.00 | 42 | 0.03\n",
      "0.00 | 42 | 0.03\n",
      "0.00 | 42 | 0.03\n",
      "0.00 | 41 | 0.03\n",
      "0.00 | 41 | 0.03\n",
      "0.00 | 41 | 0.03\n",
      "0.00 | 41 | 0.03\n",
      "0.00 | 41 | 0.03\n",
      "0.00 | 41 | 0.03\n",
      "0.00 | 40 | 0.03\n",
      "0.00 | 40 | 0.03\n",
      "0.00 | 40 | 0.03\n",
      "0.00 | 40 | 0.03\n",
      "0.00 | 40 | 0.03\n",
      "0.00 | 40 | 0.03\n",
      "0.00 | 39 | 0.03\n",
      "0.00 | 38 | 0.03\n",
      "0.00 | 38 | 0.03\n",
      "0.00 | 38 | 0.03\n",
      "0.00 | 38 | 0.03\n",
      "0.00 | 38 | 0.03\n",
      "0.00 | 38 | 0.03\n",
      "0.00 | 38 | 0.03\n",
      "0.00 | 38 | 0.03\n",
      "0.00 | 38 | 0.03\n",
      "0.00 | 37 | 0.03\n",
      "0.00 | 36 | 0.03\n",
      "0.00 | 36 | 0.03\n",
      "0.00 | 36 | 0.03\n",
      "0.00 | 36 | 0.03\n",
      "0.00 | 36 | 0.03\n",
      "0.00 | 36 | 0.03\n",
      "0.00 | 34 | 0.03\n",
      "0.00 | 33 | 0.03\n",
      "0.00 | 32 | 0.03\n",
      "0.00 | 32 | 0.03\n",
      "0.00 | 32 | 0.03\n",
      "0.00 | 31 | 0.03\n",
      "0.00 | 31 | 0.03\n",
      "0.00 | 29 | 0.02\n",
      "0.00 | 29 | 0.02\n",
      "0.00 | 28 | 0.02\n",
      "0.00 | 27 | 0.02\n",
      "0.00 | 27 | 0.02\n",
      "0.00 | 26 | 0.02\n",
      "0.00 | 26 | 0.02\n",
      "0.00 | 25 | 0.02\n",
      "0.00 | 25 | 0.02\n",
      "0.00 | 25 | 0.02\n",
      "0.00 | 24 | 0.02\n",
      "0.00 | 24 | 0.02\n",
      "0.00 | 24 | 0.02\n",
      "0.00 | 24 | 0.02\n",
      "0.00 | 24 | 0.02\n",
      "0.00 | 24 | 0.02\n",
      "0.00 | 24 | 0.02\n",
      "0.00 | 24 | 0.02\n",
      "0.00 | 24 | 0.02\n",
      "0.00 | 24 | 0.02\n",
      "0.00 | 24 | 0.02\n",
      "0.00 | 24 | 0.02\n",
      "0.00 | 24 | 0.02\n",
      "0.00 | 24 | 0.02\n",
      "0.00 | 24 | 0.02\n",
      "0.00 | 24 | 0.02\n",
      "0.00 | 24 | 0.02\n",
      "0.00 | 24 | 0.02\n",
      "0.00 | 24 | 0.02\n",
      "0.00 | 23 | 0.02\n",
      "0.00 | 23 | 0.02\n",
      "0.00 | 23 | 0.02\n",
      "0.00 | 23 | 0.02\n",
      "0.00 | 22 | 0.02\n",
      "0.00 | 22 | 0.02\n",
      "0.00 | 22 | 0.02\n",
      "0.00 | 22 | 0.02\n",
      "0.00 | 22 | 0.02\n",
      "0.00 | 22 | 0.02\n",
      "0.00 | 22 | 0.02\n",
      "0.00 | 22 | 0.02\n",
      "0.00 | 22 | 0.02\n",
      "0.00 | 22 | 0.02\n",
      "0.00 | 22 | 0.02\n",
      "0.00 | 22 | 0.02\n",
      "0.00 | 22 | 0.02\n",
      "0.00 | 22 | 0.02\n",
      "0.00 | 22 | 0.02\n",
      "0.00 | 22 | 0.02\n",
      "0.00 | 22 | 0.02\n",
      "0.00 | 22 | 0.02\n",
      "0.00 | 22 | 0.02\n",
      "0.00 | 22 | 0.02\n",
      "0.00 | 22 | 0.02\n",
      "0.00 | 21 | 0.02\n",
      "0.00 | 21 | 0.02\n",
      "0.00 | 21 | 0.02\n",
      "0.00 | 21 | 0.02\n",
      "0.00 | 21 | 0.02\n",
      "0.00 | 21 | 0.02\n",
      "0.00 | 21 | 0.02\n",
      "0.00 | 20 | 0.02\n",
      "0.00 | 20 | 0.02\n",
      "0.00 | 20 | 0.02\n",
      "0.00 | 18 | 0.02\n",
      "0.00 | 18 | 0.02\n",
      "0.00 | 18 | 0.02\n",
      "0.00 | 17 | 0.02\n",
      "0.00 | 17 | 0.02\n",
      "0.00 | 16 | 0.01\n",
      "0.00 | 16 | 0.01\n",
      "0.00 | 16 | 0.01\n",
      "0.00 | 16 | 0.01\n",
      "0.00 | 16 | 0.01\n",
      "0.00 | 16 | 0.01\n",
      "0.00 | 16 | 0.01\n",
      "0.00 | 16 | 0.01\n",
      "0.00 | 16 | 0.01\n",
      "0.00 | 15 | 0.01\n",
      "0.00 | 15 | 0.01\n",
      "0.00 | 15 | 0.01\n",
      "0.00 | 15 | 0.01\n",
      "0.00 | 15 | 0.01\n",
      "0.00 | 15 | 0.01\n",
      "0.00 | 15 | 0.01\n",
      "0.00 | 15 | 0.01\n",
      "0.00 | 14 | 0.01\n",
      "0.00 | 14 | 0.01\n",
      "0.00 | 14 | 0.01\n",
      "0.00 | 11 | 0.01\n",
      "0.00 | 11 | 0.01\n",
      "0.00 | 11 | 0.01\n",
      "0.00 | 11 | 0.01\n",
      "0.00 | 11 | 0.01\n",
      "0.00 | 11 | 0.01\n",
      "0.00 | 11 | 0.01\n",
      "0.00 | 11 | 0.01\n",
      "0.00 | 11 | 0.01\n",
      "0.00 | 10 | 0.01\n",
      "0.00 | 10 | 0.01\n",
      "0.00 | 10 | 0.01\n",
      "0.00 | 10 | 0.01\n",
      "0.00 | 10 | 0.01\n",
      "0.00 | 10 | 0.01\n",
      "0.00 | 10 | 0.01\n",
      "0.00 | 10 | 0.01\n",
      "0.00 | 10 | 0.01\n",
      "0.00 | 10 | 0.01\n",
      "0.00 | 10 | 0.01\n",
      "0.00 | 10 | 0.01\n",
      "0.00 | 10 | 0.01\n",
      "0.00 | 10 | 0.01\n",
      "0.00 | 10 | 0.01\n",
      "0.00 | 10 | 0.01\n",
      "0.00 | 10 | 0.01\n",
      "0.00 | 9 | 0.01\n",
      "0.00 | 9 | 0.01\n",
      "0.00 | 9 | 0.01\n",
      "0.00 | 9 | 0.01\n",
      "0.00 | 9 | 0.01\n",
      "0.00 | 9 | 0.01\n",
      "0.00 | 9 | 0.01\n",
      "0.00 | 8 | 0.01\n",
      "0.00 | 8 | 0.01\n",
      "0.00 | 8 | 0.01\n",
      "0.00 | 7 | 0.01\n",
      "0.00 | 7 | 0.01\n",
      "0.00 | 7 | 0.01\n",
      "0.00 | 7 | 0.01\n",
      "0.00 | 6 | 0.01\n",
      "0.00 | 6 | 0.01\n",
      "0.00 | 6 | 0.01\n",
      "0.00 | 6 | 0.01\n",
      "0.00 | 6 | 0.01\n",
      "0.00 | 6 | 0.01\n",
      "0.00 | 6 | 0.01\n",
      "0.00 | 6 | 0.01\n",
      "0.00 | 6 | 0.01\n",
      "0.00 | 6 | 0.01\n",
      "0.00 | 6 | 0.01\n",
      "0.00 | 6 | 0.01\n",
      "0.00 | 6 | 0.01\n",
      "0.00 | 6 | 0.01\n",
      "0.00 | 6 | 0.01\n",
      "0.00 | 6 | 0.01\n",
      "0.00 | 6 | 0.01\n",
      "0.00 | 6 | 0.01\n",
      "0.00 | 6 | 0.01\n",
      "0.00 | 6 | 0.01\n",
      "0.00 | 6 | 0.01\n",
      "0.00 | 6 | 0.01\n",
      "0.00 | 6 | 0.01\n",
      "0.00 | 6 | 0.01\n",
      "0.00 | 6 | 0.01\n",
      "0.00 | 6 | 0.01\n",
      "0.00 | 6 | 0.01\n",
      "0.00 | 6 | 0.01\n",
      "0.00 | 6 | 0.01\n",
      "0.00 | 6 | 0.01\n",
      "0.00 | 6 | 0.01\n",
      "0.00 | 6 | 0.01\n",
      "0.00 | 6 | 0.01\n",
      "0.00 | 6 | 0.01\n",
      "0.00 | 6 | 0.01\n",
      "0.00 | 6 | 0.01\n",
      "0.00 | 6 | 0.01\n",
      "0.00 | 6 | 0.01\n",
      "0.00 | 6 | 0.01\n",
      "0.00 | 6 | 0.01\n",
      "0.00 | 6 | 0.01\n",
      "0.00 | 6 | 0.01\n",
      "0.00 | 6 | 0.01\n",
      "0.00 | 6 | 0.01\n",
      "0.00 | 6 | 0.01\n",
      "0.00 | 6 | 0.01\n",
      "0.00 | 6 | 0.01\n",
      "0.00 | 6 | 0.01\n",
      "0.00 | 6 | 0.01\n",
      "0.00 | 6 | 0.01\n",
      "0.00 | 6 | 0.01\n",
      "0.00 | 6 | 0.01\n",
      "0.00 | 6 | 0.01\n",
      "0.00 | 6 | 0.01\n",
      "0.00 | 6 | 0.01\n",
      "0.00 | 6 | 0.01\n",
      "0.00 | 6 | 0.01\n",
      "0.00 | 6 | 0.01\n",
      "0.00 | 6 | 0.01\n",
      "0.00 | 6 | 0.01\n",
      "0.00 | 6 | 0.01\n",
      "0.00 | 6 | 0.01\n",
      "0.00 | 6 | 0.01\n",
      "0.00 | 6 | 0.01\n",
      "0.00 | 6 | 0.01\n",
      "0.00 | 6 | 0.01\n",
      "0.00 | 6 | 0.01\n",
      "0.00 | 6 | 0.01\n",
      "0.00 | 6 | 0.01\n",
      "0.00 | 6 | 0.01\n",
      "0.00 | 6 | 0.01\n",
      "0.00 | 6 | 0.01\n",
      "0.00 | 6 | 0.01\n",
      "0.00 | 5 | 0.01\n",
      "0.00 | 5 | 0.01\n",
      "0.00 | 5 | 0.01\n",
      "0.00 | 5 | 0.01\n",
      "0.00 | 4 | 0.00\n",
      "0.00 | 4 | 0.00\n",
      "0.00 | 4 | 0.00\n",
      "0.00 | 4 | 0.00\n",
      "0.00 | 4 | 0.00\n",
      "0.00 | 4 | 0.00\n",
      "0.00 | 4 | 0.00\n",
      "0.00 | 4 | 0.00\n",
      "0.00 | 4 | 0.00\n",
      "0.00 | 4 | 0.00\n",
      "0.00 | 4 | 0.00\n",
      "0.00 | 4 | 0.00\n",
      "0.00 | 4 | 0.00\n",
      "0.00 | 4 | 0.00\n",
      "0.00 | 4 | 0.00\n",
      "0.00 | 4 | 0.00\n",
      "0.00 | 4 | 0.00\n",
      "0.00 | 4 | 0.00\n",
      "0.00 | 4 | 0.00\n",
      "0.00 | 4 | 0.00\n",
      "0.00 | 4 | 0.00\n",
      "0.00 | 4 | 0.00\n",
      "0.00 | 4 | 0.00\n",
      "0.00 | 4 | 0.00\n",
      "0.00 | 4 | 0.00\n",
      "0.00 | 4 | 0.00\n",
      "0.00 | 4 | 0.00\n",
      "0.00 | 4 | 0.00\n",
      "0.00 | 4 | 0.00\n",
      "0.00 | 4 | 0.00\n",
      "0.00 | 4 | 0.00\n",
      "0.00 | 4 | 0.00\n",
      "0.00 | 4 | 0.00\n",
      "0.00 | 4 | 0.00\n",
      "0.00 | 4 | 0.00\n",
      "0.00 | 4 | 0.00\n",
      "0.00 | 4 | 0.00\n",
      "0.00 | 4 | 0.00\n",
      "0.00 | 4 | 0.00\n",
      "0.00 | 4 | 0.00\n",
      "0.00 | 4 | 0.00\n",
      "0.00 | 4 | 0.00\n",
      "0.00 | 4 | 0.00\n",
      "0.00 | 4 | 0.00\n",
      "0.00 | 4 | 0.00\n",
      "0.00 | 4 | 0.00\n",
      "0.00 | 4 | 0.00\n",
      "0.00 | 4 | 0.00\n",
      "0.00 | 4 | 0.00\n",
      "0.00 | 4 | 0.00\n",
      "0.00 | 4 | 0.00\n",
      "0.00 | 4 | 0.00\n",
      "0.00 | 4 | 0.00\n",
      "0.00 | 4 | 0.00\n",
      "0.00 | 4 | 0.00\n",
      "0.00 | 4 | 0.00\n",
      "0.00 | 3 | 0.00\n",
      "0.00 | 3 | 0.00\n",
      "0.00 | 3 | 0.00\n",
      "0.00 | 2 | 0.00\n",
      "0.00 | 2 | 0.00\n",
      "0.00 | 2 | 0.00\n",
      "0.00 | 2 | 0.00\n",
      "0.00 | 2 | 0.00\n",
      "0.00 | 2 | 0.00\n",
      "0.00 | 2 | 0.00\n",
      "0.00 | 2 | 0.00\n",
      "0.00 | 2 | 0.00\n",
      "0.00 | 2 | 0.00\n",
      "0.00 | 2 | 0.00\n",
      "0.00 | 2 | 0.00\n",
      "0.00 | 2 | 0.00\n",
      "0.00 | 2 | 0.00\n",
      "0.00 | 2 | 0.00\n",
      "0.00 | 2 | 0.00\n",
      "0.00 | 2 | 0.00\n",
      "0.00 | 2 | 0.00\n",
      "0.00 | 2 | 0.00\n",
      "0.00 | 2 | 0.00\n",
      "0.00 | 2 | 0.00\n",
      "0.00 | 2 | 0.00\n",
      "0.00 | 2 | 0.00\n",
      "0.00 | 2 | 0.00\n",
      "0.00 | 2 | 0.00\n",
      "0.00 | 2 | 0.00\n",
      "0.00 | 2 | 0.00\n",
      "0.00 | 2 | 0.00\n",
      "0.00 | 2 | 0.00\n",
      "0.00 | 2 | 0.00\n",
      "0.00 | 2 | 0.00\n",
      "0.00 | 2 | 0.00\n",
      "0.00 | 2 | 0.00\n",
      "0.00 | 2 | 0.00\n",
      "0.00 | 2 | 0.00\n",
      "0.00 | 2 | 0.00\n",
      "0.00 | 2 | 0.00\n",
      "0.00 | 2 | 0.00\n",
      "0.00 | 2 | 0.00\n",
      "0.00 | 2 | 0.00\n",
      "0.00 | 2 | 0.00\n",
      "0.00 | 2 | 0.00\n",
      "0.00 | 2 | 0.00\n",
      "0.00 | 2 | 0.00\n",
      "0.00 | 2 | 0.00\n",
      "0.00 | 2 | 0.00\n",
      "0.00 | 2 | 0.00\n",
      "0.00 | 2 | 0.00\n",
      "0.00 | 2 | 0.00\n",
      "0.00 | 2 | 0.00\n",
      "0.00 | 2 | 0.00\n",
      "0.00 | 2 | 0.00\n",
      "0.00 | 2 | 0.00\n",
      "0.00 | 2 | 0.00\n",
      "0.00 | 2 | 0.00\n",
      "0.00 | 2 | 0.00\n",
      "0.00 | 2 | 0.00\n",
      "0.00 | 2 | 0.00\n",
      "0.00 | 2 | 0.00\n",
      "0.00 | 2 | 0.00\n",
      "0.00 | 2 | 0.00\n",
      "0.00 | 2 | 0.00\n",
      "0.00 | 2 | 0.00\n",
      "0.00 | 2 | 0.00\n",
      "0.00 | 2 | 0.00\n",
      "0.00 | 2 | 0.00\n",
      "0.00 | 2 | 0.00\n",
      "0.00 | 2 | 0.00\n",
      "0.00 | 2 | 0.00\n",
      "0.00 | 2 | 0.00\n",
      "0.00 | 2 | 0.00\n",
      "0.00 | 2 | 0.00\n",
      "0.00 | 2 | 0.00\n",
      "0.00 | 2 | 0.00\n",
      "0.00 | 2 | 0.00\n",
      "0.00 | 2 | 0.00\n",
      "0.00 | 2 | 0.00\n",
      "0.00 | 2 | 0.00\n",
      "0.00 | 2 | 0.00\n",
      "0.00 | 2 | 0.00\n",
      "0.00 | 2 | 0.00\n",
      "0.00 | 2 | 0.00\n",
      "0.00 | 2 | 0.00\n",
      "0.00 | 2 | 0.00\n",
      "0.00 | 2 | 0.00\n",
      "0.00 | 2 | 0.00\n",
      "0.00 | 2 | 0.00\n",
      "0.00 | 2 | 0.00\n",
      "0.00 | 2 | 0.00\n",
      "0.00 | 2 | 0.00\n",
      "0.00 | 2 | 0.00\n",
      "0.00 | 2 | 0.00\n",
      "0.00 | 2 | 0.00\n",
      "0.00 | 2 | 0.00\n",
      "0.00 | 2 | 0.00\n",
      "0.00 | 2 | 0.00\n",
      "0.00 | 2 | 0.00\n",
      "0.00 | 2 | 0.00\n",
      "0.00 | 2 | 0.00\n",
      "0.00 | 2 | 0.00\n",
      "0.00 | 2 | 0.00\n",
      "0.00 | 2 | 0.00\n",
      "0.00 | 2 | 0.00\n",
      "0.00 | 2 | 0.00\n",
      "0.00 | 2 | 0.00\n",
      "0.00 | 2 | 0.00\n",
      "0.00 | 2 | 0.00\n",
      "0.00 | 2 | 0.00\n",
      "0.00 | 2 | 0.00\n",
      "0.00 | 2 | 0.00\n",
      "0.00 | 2 | 0.00\n",
      "0.00 | 2 | 0.00\n",
      "0.00 | 2 | 0.00\n",
      "0.00 | 2 | 0.00\n",
      "0.00 | 2 | 0.00\n",
      "0.00 | 2 | 0.00\n",
      "0.00 | 2 | 0.00\n",
      "0.00 | 2 | 0.00\n",
      "0.00 | 2 | 0.00\n",
      "0.00 | 2 | 0.00\n",
      "0.00 | 2 | 0.00\n",
      "0.00 | 2 | 0.00\n",
      "0.00 | 2 | 0.00\n",
      "0.00 | 2 | 0.00\n",
      "0.00 | 2 | 0.00\n",
      "0.00 | 2 | 0.00\n",
      "0.00 | 2 | 0.00\n",
      "0.00 | 2 | 0.00\n",
      "0.00 | 2 | 0.00\n",
      "0.00 | 2 | 0.00\n",
      "0.00 | 2 | 0.00\n",
      "0.00 | 2 | 0.00\n",
      "0.00 | 2 | 0.00\n",
      "0.00 | 2 | 0.00\n",
      "0.00 | 2 | 0.00\n",
      "0.00 | 2 | 0.00\n",
      "0.00 | 2 | 0.00\n",
      "0.00 | 2 | 0.00\n",
      "0.00 | 2 | 0.00\n",
      "0.00 | 2 | 0.00\n",
      "0.00 | 2 | 0.00\n",
      "0.00 | 2 | 0.00\n",
      "0.00 | 2 | 0.00\n",
      "0.00 | 2 | 0.00\n",
      "0.00 | 2 | 0.00\n",
      "0.00 | 2 | 0.00\n",
      "0.00 | 2 | 0.00\n",
      "0.00 | 2 | 0.00\n",
      "0.00 | 2 | 0.00\n",
      "0.00 | 2 | 0.00\n",
      "0.00 | 1 | 0.00\n",
      "0.00 | 1 | 0.00\n",
      "0.00 | 0 | 0.00\n"
     ]
    }
   ],
   "source": [
    "total_mass = volume.sum()\n",
    "total_voxel_count = volume.numel()\n",
    "n_pts = 1000\n",
    "mass = np.zeros(n_pts)\n",
    "voxel_count = np.zeros(n_pts)\n",
    "thresholds = np.linspace(0, volume.max(), n_pts)\n",
    "for idx_thresh, thresh in enumerate(thresholds):\n",
    "    idx_above_thresh = volume > thresh\n",
    "    voxel_count[idx_thresh] = number_of_voxels_above_thresh = idx_above_thresh.sum()\n",
    "    mass[idx_thresh] = mass_above_thresh = volume[idx_above_thresh].sum() / total_mass\n",
    "    print(\n",
    "        \"{:1.2f} | {:} | {:1.2f}\".format(\n",
    "            thresh, number_of_voxels_above_thresh, mass_above_thresh\n",
    "        )\n",
    "    )"
   ]
  },
  {
   "cell_type": "code",
   "execution_count": 31,
   "metadata": {},
   "outputs": [
    {
     "data": {
      "image/png": "[encoded data removed]",
      "text/plain": [
       "<Figure size 640x480 with 1 Axes>"
      ]
     },
     "metadata": {},
     "output_type": "display_data"
    },
    {
     "data": {
      "image/png": "[encoded data removed]",
      "text/plain": [
       "<Figure size 640x480 with 1 Axes>"
      ]
     },
     "metadata": {},
     "output_type": "display_data"
    }
   ],
   "source": [
    "sr = pd.Series(mass, index=voxel_count)\n",
    "sr.plot(logx=True)\n",
    "\n",
    "plt.show()\n",
    "\n",
    "sr = pd.Series(thresholds, index=voxel_count)\n",
    "sr.plot(logx=True, logy=True)\n",
    "plt.show()"
   ]
  },
  {
   "cell_type": "markdown",
   "metadata": {},
   "source": [
    "The top 100k voxels have almost all of the mass. So a good place for a threshold.\n",
    "\n",
    "Can also do some Fourier downsampling."
   ]
  },
  {
   "cell_type": "code",
   "execution_count": 32,
   "metadata": {},
   "outputs": [],
   "source": [
    "def return_top_k_voxel_idxs(volume, top_k):\n",
    "    thresh = np.sort(volume.flatten())[-top_k - 1]\n",
    "    idx_above_thresh = volume > thresh\n",
    "    return idx_above_thresh\n",
    "\n",
    "\n",
    "idx_above_thresh = return_top_k_voxel_idxs(volume, top_k=10**3)"
   ]
  },
  {
   "cell_type": "code",
   "execution_count": 33,
   "metadata": {},
   "outputs": [],
   "source": [
    "# n_downsample_pix = 50\n",
    "# n_pix = volumes.shape[1]\n",
    "# start_idx = n_pix//2 - n_downsample_pix//2\n",
    "# end_idx = n_pix//2 + n_downsample_pix//2\n",
    "# volumes_downsampled = volumes[:, start_idx:end_idx, start_idx:end_idx, start_idx:end_idx]"
   ]
  },
  {
   "cell_type": "code",
   "execution_count": 71,
   "metadata": {},
   "outputs": [],
   "source": [
    "def make_sparse_cost(idx_above_thresh):\n",
    "    n_downsample_pix = len(idx_above_thresh)\n",
    "    one_dim = torch.arange(n_downsample_pix).double()\n",
    "    coordinates = torch.meshgrid(\n",
    "        one_dim,\n",
    "        one_dim,\n",
    "        one_dim,\n",
    "    )\n",
    "    coordinates = torch.stack(coordinates, dim=-1)\n",
    "    coordinates = coordinates.reshape(-1, 3).float()\n",
    "    sparse_coordiantes = coordinates[idx_above_thresh.flatten()]\n",
    "    pairwise_distances = torch.cdist(sparse_coordiantes, sparse_coordiantes)\n",
    "    return pairwise_distances\n",
    "\n",
    "\n",
    "pairwise_distances = make_sparse_cost(idx_above_thresh)"
   ]
  },
  {
   "cell_type": "code",
   "execution_count": 72,
   "metadata": {},
   "outputs": [],
   "source": [
    "# pd.Series(volumes_downsampled[0].numpy().flatten()).hist(bins=100)"
   ]
  },
  {
   "cell_type": "code",
   "execution_count": 73,
   "metadata": {},
   "outputs": [],
   "source": [
    "def normalize_mass_to_one(p):\n",
    "    p = p - p.min()\n",
    "    return p / p.sum()\n",
    "\n",
    "\n",
    "top_k = 500\n",
    "n_downsample_pix = 20\n",
    "\n",
    "idx = 41  # 27\n",
    "volume_1 = downsample_volume(volumes[idx], n_downsample_pix)\n",
    "idx_above_thresh_1 = return_top_k_voxel_idxs(volume_1, top_k)\n",
    "pairwise_distances_1 = make_sparse_cost(idx_above_thresh_1)\n",
    "\n",
    "idx = 42\n",
    "volume_2 = downsample_volume(volumes[idx], n_downsample_pix)\n",
    "idx_above_thresh_2 = return_top_k_voxel_idxs(volume_2, top_k)\n",
    "pairwise_distances_2 = make_sparse_cost(idx_above_thresh_2)"
   ]
  },
  {
   "cell_type": "code",
   "execution_count": 74,
   "metadata": {},
   "outputs": [
    {
     "data": {
      "text/plain": [
       "torch.Size([20, 20, 20])"
      ]
     },
     "execution_count": 74,
     "metadata": {},
     "output_type": "execute_result"
    }
   ],
   "source": [
    "volume_1.shape"
   ]
  },
  {
   "cell_type": "code",
   "execution_count": 75,
   "metadata": {},
   "outputs": [
    {
     "data": {
      "image/png": "[encoded data removed]",
      "text/plain": [
       "<Figure size 640x480 with 2 Axes>"
      ]
     },
     "metadata": {},
     "output_type": "display_data"
    },
    {
     "data": {
      "image/png": "[encoded data removed]",
      "text/plain": [
       "<Figure size 640x480 with 2 Axes>"
      ]
     },
     "metadata": {},
     "output_type": "display_data"
    },
    {
     "data": {
      "image/png": "[encoded data removed]",
      "text/plain": [
       "<Figure size 640x480 with 2 Axes>"
      ]
     },
     "metadata": {},
     "output_type": "display_data"
    }
   ],
   "source": [
    "volume_1[~idx_above_thresh_1] = 0\n",
    "volume_2[~idx_above_thresh_2] = 0\n",
    "\n",
    "fig, axes = plt.subplots(1, 2)\n",
    "axes[0].imshow(volume_1.sum(0))\n",
    "axes[1].imshow(volume_2.sum(0))\n",
    "plt.show()\n",
    "\n",
    "fig, axes = plt.subplots(1, 2)\n",
    "axes[0].imshow(volume_1.sum(1))\n",
    "axes[1].imshow(volume_2.sum(1))\n",
    "plt.show()\n",
    "\n",
    "fig, axes = plt.subplots(1, 2)\n",
    "axes[0].imshow(volume_1.sum(2))\n",
    "axes[1].imshow(volume_2.sum(2))\n",
    "plt.show()"
   ]
  },
  {
   "cell_type": "code",
   "execution_count": 77,
   "metadata": {},
   "outputs": [
    {
     "data": {
      "text/plain": [
       "<Axes: ylabel='Frequency'>"
      ]
     },
     "execution_count": 77,
     "metadata": {},
     "output_type": "execute_result"
    },
    {
     "data": {
      "image/png": "[encoded data removed]",
      "text/plain": [
       "<Figure size 640x480 with 1 Axes>"
      ]
     },
     "metadata": {},
     "output_type": "display_data"
    }
   ],
   "source": [
    "# plt.imshow(pairwise_distances_1)\n",
    "pd.Series(pairwise_distances_1.flatten()).plot.hist(bins=100)"
   ]
  },
  {
   "cell_type": "code",
   "execution_count": 80,
   "metadata": {},
   "outputs": [
    {
     "name": "stdout",
     "output_type": "stream",
     "text": [
      "It.  |Loss        |Relative loss|Absolute loss\n",
      "------------------------------------------------\n",
      "    0|4.009037e-03|0.000000e+00|0.000000e+00\n",
      "    1|7.911339e-04|4.067457e+00|3.217903e-03\n",
      "    2|9.606263e-05|7.235605e+00|6.950712e-04\n",
      "    3|8.501627e-05|1.299324e-01|1.104636e-05\n",
      "    4|8.493580e-05|9.474306e-04|8.047078e-08\n",
      "    5|8.490836e-05|3.231750e-04|2.744026e-08\n",
      "    6|8.490643e-05|2.274163e-05|1.930911e-09\n",
      "    7|8.490643e-05|1.822652e-14|1.547549e-18\n"
     ]
    }
   ],
   "source": [
    "p = normalize_mass_to_one(\n",
    "    volume_1[idx_above_thresh_1].numpy().flatten().astype(np.float128)\n",
    ")\n",
    "q = normalize_mass_to_one(\n",
    "    volume_2[idx_above_thresh_2].numpy().flatten().astype(np.float128)\n",
    ")\n",
    "p /= p.sum()\n",
    "q /= q.sum()\n",
    "C1 = (pairwise_distances_1.numpy() / pairwise_distances_1.numpy().max()).astype(\n",
    "    np.float128\n",
    ")\n",
    "C2 = (pairwise_distances_2.numpy() / pairwise_distances_2.numpy().max()).astype(\n",
    "    np.float128\n",
    ")\n",
    "exponent = 2\n",
    "\n",
    "# C1=torch.from_numpy(C1\n",
    "# C2=torch.from_numpy(C2)\n",
    "# p=torch.from_numpy(p)\n",
    "# q=torch.from_numpy(q)\n",
    "\n",
    "gw_dist, log = ot.gromov.gromov_wasserstein2(\n",
    "    C1=C1**exponent,\n",
    "    C2=C2**exponent,\n",
    "    p=p,\n",
    "    q=q,\n",
    "    log=True,\n",
    "    verbose=True,\n",
    "    tol_abs=1e-14,\n",
    "    tol_rel=1e-14,\n",
    "    max_iter=1000,\n",
    "    symmetric=True,\n",
    "    loss_fun=\"square_loss\",\n",
    ")"
   ]
  },
  {
   "cell_type": "code",
   "execution_count": null,
   "metadata": {},
   "outputs": [],
   "source": [
    "# gw_dist, log = ot.gromov.BAPG_gromov_wasserstein2(\n",
    "#     C1=torch.from_numpy(C1)**exponent,\n",
    "#     C2=torch.from_numpy(C2)**exponent,\n",
    "#     p=torch.from_numpy(p),\n",
    "#     q=torch.from_numpy(q),\n",
    "#     log=True,\n",
    "#     verbose=True,\n",
    "#     tol=1e-13,\n",
    "#     max_iter=1000,\n",
    "#     symmetric=True,\n",
    "#     loss_fun=\"kl_loss\",\n",
    "#     epsilon=0.2,\n",
    "# )\n",
    "\n",
    "# def l2_loss_fun(x, y):\n",
    "#     return (x - y) ** 2\n",
    "\n",
    "# gw_dist, log = ot.gromov.pointwise_gromov_wasserstein(\n",
    "#     C1=(pairwise_distances_1.numpy() / pairwise_distances_1.numpy().max()).astype(\n",
    "#         np.float64\n",
    "#     ),\n",
    "#     C2=(pairwise_distances_2.numpy() / pairwise_distances_2.numpy().max()).astype(\n",
    "#         np.float64\n",
    "#     ),\n",
    "#     p=p,\n",
    "#     q=q,\n",
    "#     alpha=0.5,\n",
    "#     log=True,\n",
    "#     verbose=True,\n",
    "#     max_iter=1000,\n",
    "#     loss_fun=l2_loss_fun,\n",
    "# )"
   ]
  },
  {
   "cell_type": "code",
   "execution_count": 17,
   "metadata": {},
   "outputs": [],
   "source": [
    "def BAPG_torch(A, B, a=None, b=None, X=None, epoch=200, eps=1e-5, rho=1e-1):\n",
    "    if a is None:\n",
    "        a = torch.ones([A.shape[0], 1], dtype=A.dtype).cuda() / A.shape[0]\n",
    "    if b is None:\n",
    "        b = torch.ones([B.shape[0], 1], dtype=A.dtype).cuda() / B.shape[0]\n",
    "    if X is None:\n",
    "        X = a @ b.T\n",
    "    obj_list, _, _, gap_list = [], [], [], []\n",
    "    for ii in range(epoch):\n",
    "        X = X + 1e-10\n",
    "        X = torch.exp(A @ X @ B / rho) * X\n",
    "        pi = X * (a / (X @ torch.ones_like(b)))\n",
    "        X = torch.exp(A @ pi @ B / rho) * pi\n",
    "        X = X * (b.T / (X.T @ torch.ones_like(a)).T)\n",
    "        if (ii + 1) % 50 == 0:\n",
    "            objective = -torch.trace(A @ X @ B @ X.T).item()\n",
    "            X2 = (X + pi) / 2\n",
    "            gap = (X2.sum(0) - b.squeeze(-1)).norm() + (\n",
    "                X2.sum(1) - a.squeeze(-1)\n",
    "            ).norm()\n",
    "            gap_list.append(gap.item())\n",
    "            if (\n",
    "                len(obj_list) > 0\n",
    "                and np.abs((objective - obj_list[-1]) / obj_list[-1]) < eps\n",
    "            ):\n",
    "                print(\"iter:{}, smaller than eps\".format(ii))\n",
    "                break\n",
    "            obj_list.append(objective)\n",
    "    return X2, obj_list, gap_list\n",
    "\n",
    "\n",
    "def BAPG_wrap(C1, C2, p, q, rho=0.1, tol=1e-13, max_iter=1000):\n",
    "    A = C1\n",
    "    B = C2\n",
    "    a = p.unsqueeze(-1)\n",
    "    b = q.unsqueeze(-1)\n",
    "    T, obj_list, gap_list = BAPG_torch(A, B, a, b, epoch=max_iter, eps=tol, rho=rho)\n",
    "    nx = get_backend(A)\n",
    "    constC, hC1, hC2 = init_matrix(A, B, a, b, \"square_loss\", nx)\n",
    "    gw_dist = gwloss(constC, hC1, hC2, T, nx)\n",
    "    return T, gw_dist.item()"
   ]
  },
  {
   "cell_type": "code",
   "execution_count": 465,
   "metadata": {},
   "outputs": [
    {
     "ename": "TypeError",
     "evalue": "no numeric data to plot",
     "output_type": "error",
     "traceback": [
      "\u001b[0;31m---------------------------------------------------------------------------\u001b[0m",
      "\u001b[0;31mTypeError\u001b[0m                                 Traceback (most recent call last)",
      "Cell \u001b[0;32mIn[465], line 1\u001b[0m\n\u001b[0;32m----> 1\u001b[0m \u001b[43mpd\u001b[49m\u001b[38;5;241;43m.\u001b[39;49m\u001b[43mSeries\u001b[49m\u001b[43m(\u001b[49m\u001b[43mlog\u001b[49m\u001b[43m[\u001b[49m\u001b[38;5;124;43m\"\u001b[39;49m\u001b[38;5;124;43mloss\u001b[39;49m\u001b[38;5;124;43m\"\u001b[39;49m\u001b[43m]\u001b[49m\u001b[43m)\u001b[49m\u001b[38;5;241;43m.\u001b[39;49m\u001b[43mplot\u001b[49m\u001b[43m(\u001b[49m\u001b[43mlogy\u001b[49m\u001b[38;5;241;43m=\u001b[39;49m\u001b[38;5;28;43;01mTrue\u001b[39;49;00m\u001b[43m)\u001b[49m\n",
      "File \u001b[0;32m~/software/mambaforge/envs/cryo_challenge/lib/python3.11/site-packages/pandas/plotting/_core.py:1030\u001b[0m, in \u001b[0;36mPlotAccessor.__call__\u001b[0;34m(self, *args, **kwargs)\u001b[0m\n\u001b[1;32m   1027\u001b[0m             label_name \u001b[38;5;241m=\u001b[39m label_kw \u001b[38;5;129;01mor\u001b[39;00m data\u001b[38;5;241m.\u001b[39mcolumns\n\u001b[1;32m   1028\u001b[0m             data\u001b[38;5;241m.\u001b[39mcolumns \u001b[38;5;241m=\u001b[39m label_name\n\u001b[0;32m-> 1030\u001b[0m \u001b[38;5;28;01mreturn\u001b[39;00m \u001b[43mplot_backend\u001b[49m\u001b[38;5;241;43m.\u001b[39;49m\u001b[43mplot\u001b[49m\u001b[43m(\u001b[49m\u001b[43mdata\u001b[49m\u001b[43m,\u001b[49m\u001b[43m \u001b[49m\u001b[43mkind\u001b[49m\u001b[38;5;241;43m=\u001b[39;49m\u001b[43mkind\u001b[49m\u001b[43m,\u001b[49m\u001b[43m \u001b[49m\u001b[38;5;241;43m*\u001b[39;49m\u001b[38;5;241;43m*\u001b[39;49m\u001b[43mkwargs\u001b[49m\u001b[43m)\u001b[49m\n",
      "File \u001b[0;32m~/software/mambaforge/envs/cryo_challenge/lib/python3.11/site-packages/pandas/plotting/_matplotlib/__init__.py:71\u001b[0m, in \u001b[0;36mplot\u001b[0;34m(data, kind, **kwargs)\u001b[0m\n\u001b[1;32m     69\u001b[0m         kwargs[\u001b[38;5;124m\"\u001b[39m\u001b[38;5;124max\u001b[39m\u001b[38;5;124m\"\u001b[39m] \u001b[38;5;241m=\u001b[39m \u001b[38;5;28mgetattr\u001b[39m(ax, \u001b[38;5;124m\"\u001b[39m\u001b[38;5;124mleft_ax\u001b[39m\u001b[38;5;124m\"\u001b[39m, ax)\n\u001b[1;32m     70\u001b[0m plot_obj \u001b[38;5;241m=\u001b[39m PLOT_CLASSES[kind](data, \u001b[38;5;241m*\u001b[39m\u001b[38;5;241m*\u001b[39mkwargs)\n\u001b[0;32m---> 71\u001b[0m \u001b[43mplot_obj\u001b[49m\u001b[38;5;241;43m.\u001b[39;49m\u001b[43mgenerate\u001b[49m\u001b[43m(\u001b[49m\u001b[43m)\u001b[49m\n\u001b[1;32m     72\u001b[0m plot_obj\u001b[38;5;241m.\u001b[39mdraw()\n\u001b[1;32m     73\u001b[0m \u001b[38;5;28;01mreturn\u001b[39;00m plot_obj\u001b[38;5;241m.\u001b[39mresult\n",
      "File \u001b[0;32m~/software/mambaforge/envs/cryo_challenge/lib/python3.11/site-packages/pandas/plotting/_matplotlib/core.py:499\u001b[0m, in \u001b[0;36mMPLPlot.generate\u001b[0;34m(self)\u001b[0m\n\u001b[1;32m    497\u001b[0m \u001b[38;5;129m@final\u001b[39m\n\u001b[1;32m    498\u001b[0m \u001b[38;5;28;01mdef\u001b[39;00m \u001b[38;5;21mgenerate\u001b[39m(\u001b[38;5;28mself\u001b[39m) \u001b[38;5;241m-\u001b[39m\u001b[38;5;241m>\u001b[39m \u001b[38;5;28;01mNone\u001b[39;00m:\n\u001b[0;32m--> 499\u001b[0m     \u001b[38;5;28;43mself\u001b[39;49m\u001b[38;5;241;43m.\u001b[39;49m\u001b[43m_compute_plot_data\u001b[49m\u001b[43m(\u001b[49m\u001b[43m)\u001b[49m\n\u001b[1;32m    500\u001b[0m     fig \u001b[38;5;241m=\u001b[39m \u001b[38;5;28mself\u001b[39m\u001b[38;5;241m.\u001b[39mfig\n\u001b[1;32m    501\u001b[0m     \u001b[38;5;28mself\u001b[39m\u001b[38;5;241m.\u001b[39m_make_plot(fig)\n",
      "File \u001b[0;32m~/software/mambaforge/envs/cryo_challenge/lib/python3.11/site-packages/pandas/plotting/_matplotlib/core.py:698\u001b[0m, in \u001b[0;36mMPLPlot._compute_plot_data\u001b[0;34m(self)\u001b[0m\n\u001b[1;32m    696\u001b[0m \u001b[38;5;66;03m# no non-numeric frames or series allowed\u001b[39;00m\n\u001b[1;32m    697\u001b[0m \u001b[38;5;28;01mif\u001b[39;00m is_empty:\n\u001b[0;32m--> 698\u001b[0m     \u001b[38;5;28;01mraise\u001b[39;00m \u001b[38;5;167;01mTypeError\u001b[39;00m(\u001b[38;5;124m\"\u001b[39m\u001b[38;5;124mno numeric data to plot\u001b[39m\u001b[38;5;124m\"\u001b[39m)\n\u001b[1;32m    700\u001b[0m \u001b[38;5;28mself\u001b[39m\u001b[38;5;241m.\u001b[39mdata \u001b[38;5;241m=\u001b[39m numeric_data\u001b[38;5;241m.\u001b[39mapply(\u001b[38;5;28mtype\u001b[39m(\u001b[38;5;28mself\u001b[39m)\u001b[38;5;241m.\u001b[39m_convert_to_ndarray)\n",
      "\u001b[0;31mTypeError\u001b[0m: no numeric data to plot"
     ]
    }
   ],
   "source": [
    "pd.Series(log[\"loss\"]).plot(logy=True)"
   ]
  },
  {
   "cell_type": "code",
   "execution_count": 466,
   "metadata": {},
   "outputs": [
    {
     "ename": "TypeError",
     "evalue": "no numeric data to plot",
     "output_type": "error",
     "traceback": [
      "\u001b[0;31m---------------------------------------------------------------------------\u001b[0m",
      "\u001b[0;31mTypeError\u001b[0m                                 Traceback (most recent call last)",
      "Cell \u001b[0;32mIn[466], line 1\u001b[0m\n\u001b[0;32m----> 1\u001b[0m \u001b[43mpd\u001b[49m\u001b[38;5;241;43m.\u001b[39;49m\u001b[43mSeries\u001b[49m\u001b[43m(\u001b[49m\u001b[43mlog\u001b[49m\u001b[43m[\u001b[49m\u001b[38;5;124;43m\"\u001b[39;49m\u001b[38;5;124;43mloss\u001b[39;49m\u001b[38;5;124;43m\"\u001b[39;49m\u001b[43m]\u001b[49m\u001b[43m)\u001b[49m\u001b[38;5;241;43m.\u001b[39;49m\u001b[43mplot\u001b[49m\u001b[43m(\u001b[49m\u001b[43m)\u001b[49m\n",
      "File \u001b[0;32m~/software/mambaforge/envs/cryo_challenge/lib/python3.11/site-packages/pandas/plotting/_core.py:1030\u001b[0m, in \u001b[0;36mPlotAccessor.__call__\u001b[0;34m(self, *args, **kwargs)\u001b[0m\n\u001b[1;32m   1027\u001b[0m             label_name \u001b[38;5;241m=\u001b[39m label_kw \u001b[38;5;129;01mor\u001b[39;00m data\u001b[38;5;241m.\u001b[39mcolumns\n\u001b[1;32m   1028\u001b[0m             data\u001b[38;5;241m.\u001b[39mcolumns \u001b[38;5;241m=\u001b[39m label_name\n\u001b[0;32m-> 1030\u001b[0m \u001b[38;5;28;01mreturn\u001b[39;00m \u001b[43mplot_backend\u001b[49m\u001b[38;5;241;43m.\u001b[39;49m\u001b[43mplot\u001b[49m\u001b[43m(\u001b[49m\u001b[43mdata\u001b[49m\u001b[43m,\u001b[49m\u001b[43m \u001b[49m\u001b[43mkind\u001b[49m\u001b[38;5;241;43m=\u001b[39;49m\u001b[43mkind\u001b[49m\u001b[43m,\u001b[49m\u001b[43m \u001b[49m\u001b[38;5;241;43m*\u001b[39;49m\u001b[38;5;241;43m*\u001b[39;49m\u001b[43mkwargs\u001b[49m\u001b[43m)\u001b[49m\n",
      "File \u001b[0;32m~/software/mambaforge/envs/cryo_challenge/lib/python3.11/site-packages/pandas/plotting/_matplotlib/__init__.py:71\u001b[0m, in \u001b[0;36mplot\u001b[0;34m(data, kind, **kwargs)\u001b[0m\n\u001b[1;32m     69\u001b[0m         kwargs[\u001b[38;5;124m\"\u001b[39m\u001b[38;5;124max\u001b[39m\u001b[38;5;124m\"\u001b[39m] \u001b[38;5;241m=\u001b[39m \u001b[38;5;28mgetattr\u001b[39m(ax, \u001b[38;5;124m\"\u001b[39m\u001b[38;5;124mleft_ax\u001b[39m\u001b[38;5;124m\"\u001b[39m, ax)\n\u001b[1;32m     70\u001b[0m plot_obj \u001b[38;5;241m=\u001b[39m PLOT_CLASSES[kind](data, \u001b[38;5;241m*\u001b[39m\u001b[38;5;241m*\u001b[39mkwargs)\n\u001b[0;32m---> 71\u001b[0m \u001b[43mplot_obj\u001b[49m\u001b[38;5;241;43m.\u001b[39;49m\u001b[43mgenerate\u001b[49m\u001b[43m(\u001b[49m\u001b[43m)\u001b[49m\n\u001b[1;32m     72\u001b[0m plot_obj\u001b[38;5;241m.\u001b[39mdraw()\n\u001b[1;32m     73\u001b[0m \u001b[38;5;28;01mreturn\u001b[39;00m plot_obj\u001b[38;5;241m.\u001b[39mresult\n",
      "File \u001b[0;32m~/software/mambaforge/envs/cryo_challenge/lib/python3.11/site-packages/pandas/plotting/_matplotlib/core.py:499\u001b[0m, in \u001b[0;36mMPLPlot.generate\u001b[0;34m(self)\u001b[0m\n\u001b[1;32m    497\u001b[0m \u001b[38;5;129m@final\u001b[39m\n\u001b[1;32m    498\u001b[0m \u001b[38;5;28;01mdef\u001b[39;00m \u001b[38;5;21mgenerate\u001b[39m(\u001b[38;5;28mself\u001b[39m) \u001b[38;5;241m-\u001b[39m\u001b[38;5;241m>\u001b[39m \u001b[38;5;28;01mNone\u001b[39;00m:\n\u001b[0;32m--> 499\u001b[0m     \u001b[38;5;28;43mself\u001b[39;49m\u001b[38;5;241;43m.\u001b[39;49m\u001b[43m_compute_plot_data\u001b[49m\u001b[43m(\u001b[49m\u001b[43m)\u001b[49m\n\u001b[1;32m    500\u001b[0m     fig \u001b[38;5;241m=\u001b[39m \u001b[38;5;28mself\u001b[39m\u001b[38;5;241m.\u001b[39mfig\n\u001b[1;32m    501\u001b[0m     \u001b[38;5;28mself\u001b[39m\u001b[38;5;241m.\u001b[39m_make_plot(fig)\n",
      "File \u001b[0;32m~/software/mambaforge/envs/cryo_challenge/lib/python3.11/site-packages/pandas/plotting/_matplotlib/core.py:698\u001b[0m, in \u001b[0;36mMPLPlot._compute_plot_data\u001b[0;34m(self)\u001b[0m\n\u001b[1;32m    696\u001b[0m \u001b[38;5;66;03m# no non-numeric frames or series allowed\u001b[39;00m\n\u001b[1;32m    697\u001b[0m \u001b[38;5;28;01mif\u001b[39;00m is_empty:\n\u001b[0;32m--> 698\u001b[0m     \u001b[38;5;28;01mraise\u001b[39;00m \u001b[38;5;167;01mTypeError\u001b[39;00m(\u001b[38;5;124m\"\u001b[39m\u001b[38;5;124mno numeric data to plot\u001b[39m\u001b[38;5;124m\"\u001b[39m)\n\u001b[1;32m    700\u001b[0m \u001b[38;5;28mself\u001b[39m\u001b[38;5;241m.\u001b[39mdata \u001b[38;5;241m=\u001b[39m numeric_data\u001b[38;5;241m.\u001b[39mapply(\u001b[38;5;28mtype\u001b[39m(\u001b[38;5;28mself\u001b[39m)\u001b[38;5;241m.\u001b[39m_convert_to_ndarray)\n",
      "\u001b[0;31mTypeError\u001b[0m: no numeric data to plot"
     ]
    }
   ],
   "source": [
    "pd.Series(log[\"loss\"]).plot()"
   ]
  },
  {
   "cell_type": "code",
   "execution_count": 87,
   "metadata": {},
   "outputs": [
    {
     "name": "stdout",
     "output_type": "stream",
     "text": [
      "0\n",
      "idx_2=0\n"
     ]
    },
    {
     "name": "stdout",
     "output_type": "stream",
     "text": [
      "idx_2=1\n",
      "idx_2=2\n",
      "idx_2=3\n",
      "idx_2=4\n",
      "idx_2=5\n",
      "idx_2=6\n",
      "idx_2=7\n",
      "idx_2=8\n",
      "idx_2=9\n",
      "idx_2=10\n",
      "idx_2=11\n",
      "idx_2=12\n",
      "idx_2=13\n",
      "idx_2=14\n",
      "idx_2=15\n",
      "idx_2=16\n",
      "idx_2=17\n",
      "idx_2=18\n",
      "idx_2=19\n",
      "idx_2=20\n",
      "idx_2=21\n",
      "idx_2=22\n",
      "idx_2=23\n",
      "idx_2=24\n",
      "idx_2=25\n",
      "idx_2=26\n",
      "idx_2=27\n",
      "idx_2=28\n",
      "idx_2=29\n",
      "idx_2=30\n",
      "idx_2=31\n",
      "idx_2=32\n",
      "idx_2=33\n",
      "idx_2=34\n",
      "idx_2=35\n",
      "idx_2=36\n",
      "idx_2=37\n",
      "idx_2=38\n",
      "idx_2=39\n",
      "idx_2=40\n",
      "idx_2=41\n",
      "idx_2=42\n",
      "idx_2=43\n",
      "idx_2=44\n",
      "idx_2=45\n",
      "idx_2=46\n",
      "idx_2=47\n",
      "idx_2=48\n",
      "idx_2=49\n",
      "idx_2=50\n",
      "idx_2=51\n",
      "idx_2=52\n",
      "idx_2=53\n",
      "idx_2=54\n",
      "idx_2=55\n",
      "idx_2=56\n",
      "idx_2=57\n",
      "idx_2=58\n",
      "idx_2=59\n",
      "idx_2=60\n",
      "idx_2=61\n",
      "idx_2=62\n",
      "idx_2=63\n",
      "idx_2=64\n",
      "idx_2=65\n",
      "idx_2=66\n",
      "idx_2=67\n",
      "idx_2=68\n",
      "idx_2=69\n",
      "idx_2=70\n",
      "idx_2=71\n",
      "idx_2=72\n",
      "idx_2=73\n",
      "idx_2=74\n",
      "idx_2=75\n",
      "idx_2=76\n",
      "idx_2=77\n",
      "idx_2=78\n",
      "idx_2=79\n"
     ]
    }
   ],
   "source": [
    "volume_1_idxs = [42]\n",
    "volume_2_idxs = range(0, 80, 1)\n",
    "gw_distances = np.zeros((len(volume_1_idxs), len(volume_2_idxs)), dtype=np.float128)\n",
    "exponent = 0.1\n",
    "\n",
    "for idx_1, vol_idx_1 in enumerate(volume_1_idxs):\n",
    "    print(idx_1)\n",
    "    volume_1 = downsample_volume(volumes[vol_idx_1], n_downsample_pix)\n",
    "    idx_above_thresh_1 = return_top_k_voxel_idxs(volume_1, top_k)\n",
    "    pairwise_distances_1 = (\n",
    "        make_sparse_cost(idx_above_thresh_1).numpy().astype(np.float128)\n",
    "    )\n",
    "    C1 = (pairwise_distances_1 / pairwise_distances_1.max()) ** exponent\n",
    "\n",
    "    for idx_2, vol_idx_2 in enumerate(volume_2_idxs):\n",
    "        if idx_1 > idx_2:\n",
    "            continue\n",
    "        print(f\"idx_2={idx_2}\")\n",
    "        volume_2 = downsample_volume(volumes[vol_idx_2], n_downsample_pix)\n",
    "        idx_above_thresh_2 = return_top_k_voxel_idxs(volume_2, top_k)\n",
    "        pairwise_distances_2 = (\n",
    "            make_sparse_cost(idx_above_thresh_2).numpy().astype(np.float128)\n",
    "        )\n",
    "        C2 = (pairwise_distances_2 / pairwise_distances_2.max()) ** exponent\n",
    "\n",
    "        p = normalize_mass_to_one(\n",
    "            volume_1[idx_above_thresh_1].numpy().flatten().astype(np.float128)\n",
    "        )\n",
    "        q = normalize_mass_to_one(\n",
    "            volume_2[idx_above_thresh_2].numpy().flatten().astype(np.float128)\n",
    "        )\n",
    "\n",
    "        # T, gw_dist = BAPG_wrap(\n",
    "        #     torch.from_numpy(C1).cuda(),\n",
    "        #     torch.from_numpy(C2).cuda(),\n",
    "        #     torch.from_numpy(p).cuda(),\n",
    "        #     torch.from_numpy(q).cuda(),\n",
    "        #     rho=0.3,\n",
    "        #     tol=1e-13,\n",
    "        #     max_iter=1000,\n",
    "        # )\n",
    "        # gw_distances[idx_2, idx_1] = gw_distances[idx_1, idx_2] = gw_dist\n",
    "\n",
    "        gw_dist, log = ot.gromov_wasserstein2(\n",
    "            C1=C1,\n",
    "            C2=C2,\n",
    "            p=p,\n",
    "            q=q,\n",
    "            log=True,\n",
    "            verbose=False,\n",
    "            max_iter=10000,\n",
    "            tol_abs=1e-14,\n",
    "            tol_rel=1e-14,\n",
    "            # G0=\n",
    "        )\n",
    "        # gw_distances[idx_1, idx_2] = gw_distances[idx_2, idx_1] = gw_dist.item()\n",
    "        gw_distances[idx_1, idx_2] = gw_dist.item()\n",
    "        # T, log = ot.gromov.pointwise_gromov_wasserstein(\n",
    "        #     C1=C1.astype(np.float64),\n",
    "        #     C2=C2.astype(np.float64),\n",
    "        #     p=p.astype(np.float64),\n",
    "        #     q=q.astype(np.float64),\n",
    "        #     alpha=0.1,\n",
    "        #     log=True,\n",
    "        #     verbose=True,\n",
    "        #     max_iter=2000,\n",
    "        #     loss_fun=l2_loss_fun,\n",
    "\n",
    "        # )\n",
    "        # gw_distances[idx_1, idx_2] = gw_distances[idx_2, idx_1] = gw_dist.item()\n",
    "        # gw_distances[idx_1, idx_2] = log['gw_dist_estimated'].item()"
   ]
  },
  {
   "cell_type": "code",
   "execution_count": 89,
   "metadata": {},
   "outputs": [
    {
     "data": {
      "text/plain": [
       "np.int64(78)"
      ]
     },
     "execution_count": 89,
     "metadata": {},
     "output_type": "execute_result"
    },
    {
     "data": {
      "image/png": "[encoded data removed]",
      "text/plain": [
       "<Figure size 640x480 with 1 Axes>"
      ]
     },
     "metadata": {},
     "output_type": "display_data"
    }
   ],
   "source": [
    "max_idx = gw_distances[0].argmax()\n",
    "pd.Series(gw_distances[0]).plot()\n",
    "max_idx"
   ]
  },
  {
   "cell_type": "code",
   "execution_count": 291,
   "metadata": {},
   "outputs": [
    {
     "data": {
      "text/plain": [
       "np.int64(42)"
      ]
     },
     "execution_count": 291,
     "metadata": {},
     "output_type": "execute_result"
    },
    {
     "data": {
      "image/png": "[encoded data removed]",
      "text/plain": [
       "<Figure size 640x480 with 1 Axes>"
      ]
     },
     "metadata": {},
     "output_type": "display_data"
    }
   ],
   "source": [
    "max_idx = gw_distances[0].argmax()\n",
    "pd.Series(gw_distances[0]).plot()\n",
    "max_idx"
   ]
  },
  {
   "cell_type": "code",
   "execution_count": 35,
   "metadata": {},
   "outputs": [
    {
     "data": {
      "text/plain": [
       "<Axes: ylabel='Frequency'>"
      ]
     },
     "execution_count": 35,
     "metadata": {},
     "output_type": "execute_result"
    },
    {
     "data": {
      "image/png": "[encoded data removed]",
      "text/plain": [
       "<Figure size 640x480 with 1 Axes>"
      ]
     },
     "metadata": {},
     "output_type": "display_data"
    }
   ],
   "source": [
    "pd.Series(gw_distances[0]).plot.hist()"
   ]
  },
  {
   "cell_type": "code",
   "execution_count": 36,
   "metadata": {},
   "outputs": [
    {
     "data": {
      "text/plain": [
       "<matplotlib.colorbar.Colorbar at 0x155172715850>"
      ]
     },
     "execution_count": 36,
     "metadata": {},
     "output_type": "execute_result"
    },
    {
     "data": {
      "image/png": "[encoded data removed]",
      "text/plain": [
       "<Figure size 640x480 with 2 Axes>"
      ]
     },
     "metadata": {},
     "output_type": "display_data"
    }
   ],
   "source": [
    "plt.imshow(gw_distances, cmap=\"gray\")\n",
    "plt.colorbar()"
   ]
  },
  {
   "cell_type": "markdown",
   "metadata": {},
   "source": [
    "# dask"
   ]
  },
  {
   "cell_type": "code",
   "execution_count": 473,
   "metadata": {},
   "outputs": [
    {
     "name": "stdout",
     "output_type": "stream",
     "text": [
      "2024-12-20 01:19:12,268 INFO [distributed.http.proxy] To route to workers diagnostics web server please install jupyter-server-proxy: python -m pip install jupyter-server-proxy\n",
      "2024-12-20 01:19:12,295 INFO [distributed.scheduler] State start\n",
      "2024-12-20 01:19:12,299 INFO [distributed.scheduler]   Scheduler at:     tcp://127.0.0.1:40311\n",
      "2024-12-20 01:19:12,300 INFO [distributed.scheduler]   dashboard at:  http://127.0.0.1:8787/status\n",
      "2024-12-20 01:19:12,301 INFO [distributed.scheduler] Registering Worker plugin shuffle\n",
      "2024-12-20 01:19:12,328 INFO [distributed.nanny]         Start Nanny at: 'tcp://127.0.0.1:46813'\n",
      "2024-12-20 01:19:12,331 INFO [distributed.nanny]         Start Nanny at: 'tcp://127.0.0.1:40831'\n",
      "2024-12-20 01:19:12,333 INFO [distributed.nanny]         Start Nanny at: 'tcp://127.0.0.1:36785'\n",
      "2024-12-20 01:19:12,335 INFO [distributed.nanny]         Start Nanny at: 'tcp://127.0.0.1:34515'\n",
      "2024-12-20 01:19:12,337 INFO [distributed.nanny]         Start Nanny at: 'tcp://127.0.0.1:43295'\n",
      "2024-12-20 01:19:12,339 INFO [distributed.nanny]         Start Nanny at: 'tcp://127.0.0.1:36865'\n",
      "2024-12-20 01:19:12,341 INFO [distributed.nanny]         Start Nanny at: 'tcp://127.0.0.1:42695'\n",
      "2024-12-20 01:19:12,343 INFO [distributed.nanny]         Start Nanny at: 'tcp://127.0.0.1:46405'\n",
      "2024-12-20 01:19:14,458 INFO [distributed.scheduler] Register worker <WorkerState 'tcp://127.0.0.1:32961', name: 0, status: init, memory: 0, processing: 0>\n",
      "2024-12-20 01:19:14,463 INFO [distributed.scheduler] Starting worker compute stream, tcp://127.0.0.1:32961\n",
      "2024-12-20 01:19:14,463 INFO [distributed.core] Starting established connection to tcp://127.0.0.1:49284\n",
      "2024-12-20 01:19:14,464 INFO [distributed.scheduler] Register worker <WorkerState 'tcp://127.0.0.1:46639', name: 4, status: init, memory: 0, processing: 0>\n",
      "2024-12-20 01:19:14,464 INFO [distributed.scheduler] Starting worker compute stream, tcp://127.0.0.1:46639\n",
      "2024-12-20 01:19:14,465 INFO [distributed.core] Starting established connection to tcp://127.0.0.1:49304\n",
      "2024-12-20 01:19:14,465 INFO [distributed.scheduler] Register worker <WorkerState 'tcp://127.0.0.1:44425', name: 7, status: init, memory: 0, processing: 0>\n",
      "2024-12-20 01:19:14,466 INFO [distributed.scheduler] Starting worker compute stream, tcp://127.0.0.1:44425\n",
      "2024-12-20 01:19:14,466 INFO [distributed.core] Starting established connection to tcp://127.0.0.1:49330\n",
      "2024-12-20 01:19:14,467 INFO [distributed.scheduler] Register worker <WorkerState 'tcp://127.0.0.1:44901', name: 6, status: init, memory: 0, processing: 0>\n",
      "2024-12-20 01:19:14,467 INFO [distributed.scheduler] Starting worker compute stream, tcp://127.0.0.1:44901\n",
      "2024-12-20 01:19:14,467 INFO [distributed.core] Starting established connection to tcp://127.0.0.1:49306\n",
      "2024-12-20 01:19:14,468 INFO [distributed.scheduler] Register worker <WorkerState 'tcp://127.0.0.1:37285', name: 2, status: init, memory: 0, processing: 0>\n",
      "2024-12-20 01:19:14,468 INFO [distributed.scheduler] Starting worker compute stream, tcp://127.0.0.1:37285\n",
      "2024-12-20 01:19:14,469 INFO [distributed.core] Starting established connection to tcp://127.0.0.1:49300\n",
      "2024-12-20 01:19:14,469 INFO [distributed.scheduler] Register worker <WorkerState 'tcp://127.0.0.1:35989', name: 1, status: init, memory: 0, processing: 0>\n",
      "2024-12-20 01:19:14,470 INFO [distributed.scheduler] Starting worker compute stream, tcp://127.0.0.1:35989\n",
      "2024-12-20 01:19:14,470 INFO [distributed.core] Starting established connection to tcp://127.0.0.1:49344\n",
      "2024-12-20 01:19:14,471 INFO [distributed.scheduler] Register worker <WorkerState 'tcp://127.0.0.1:46921', name: 3, status: init, memory: 0, processing: 0>\n",
      "2024-12-20 01:19:14,471 INFO [distributed.scheduler] Starting worker compute stream, tcp://127.0.0.1:46921\n",
      "2024-12-20 01:19:14,471 INFO [distributed.core] Starting established connection to tcp://127.0.0.1:49358\n",
      "2024-12-20 01:19:14,472 INFO [distributed.scheduler] Register worker <WorkerState 'tcp://127.0.0.1:39847', name: 5, status: init, memory: 0, processing: 0>\n",
      "2024-12-20 01:19:14,472 INFO [distributed.scheduler] Starting worker compute stream, tcp://127.0.0.1:39847\n",
      "2024-12-20 01:19:14,472 INFO [distributed.core] Starting established connection to tcp://127.0.0.1:49356\n",
      "2024-12-20 01:19:14,478 INFO [distributed.scheduler] Receive client connection: Client-53fa5f3c-be9a-11ef-85f9-7c8ae1d6342e\n",
      "2024-12-20 01:19:14,478 INFO [distributed.core] Starting established connection to tcp://127.0.0.1:49366\n"
     ]
    }
   ],
   "source": [
    "from dask import delayed, compute\n",
    "from dask.distributed import Client\n",
    "from dask.diagnostics import ProgressBar\n",
    "\n",
    "# # Initialize a Dask client for parallel computation\n",
    "client = Client(local_directory=\"/tmp\")"
   ]
  },
  {
   "cell_type": "code",
   "execution_count": null,
   "metadata": {},
   "outputs": [],
   "source": [
    "top_k = 3000\n",
    "n_downsample_pix = 64\n",
    "\n",
    "\n",
    "def prepare_volume_and_distance(volume, top_k=top_k, n_downsample_pix=n_downsample_pix):\n",
    "    volume = downsample_volume(volume, n_downsample_pix)\n",
    "    idx_above_thresh = return_top_k_voxel_idxs(volume, top_k)\n",
    "    volume = normalize_mass_to_one(volume[idx_above_thresh].numpy().flatten())\n",
    "    pairwise_distances = make_sparse_cost(idx_above_thresh)\n",
    "    pairwise_distances = pairwise_distances.numpy() / pairwise_distances.numpy().max()\n",
    "    return volume, pairwise_distances"
   ]
  },
  {
   "cell_type": "code",
   "execution_count": null,
   "metadata": {},
   "outputs": [],
   "source": [
    "def gw_distance_wrapper(volumes, i, j, **kwargs):\n",
    "    volume_i, pairwise_distances_i = prepare_volume_and_distance(volumes[i])\n",
    "    volume_j, pairwise_distances_j = prepare_volume_and_distance(volumes[j])\n",
    "    gw_dist, results_dict = gw_distance(\n",
    "        volume_i, volume_j, pairwise_distances_i, pairwise_distances_j, **kwargs\n",
    "    )\n",
    "\n",
    "    ij_results = {\n",
    "        \"i\": i,\n",
    "        \"j\": j,\n",
    "        \"results_dict\": results_dict,\n",
    "    }\n",
    "    return gw_dist, ij_results\n",
    "\n",
    "\n",
    "gw_distance_function_d = {\n",
    "    \"entropic_gromov_wasserstein2\": ot.gromov.entropic_gromov_wasserstein2,\n",
    "    \"gromov_wasserstein2\": ot.gromov.gromov_wasserstein2,\n",
    "}\n",
    "gw_distance_function = \"gromov_wasserstein2\"\n",
    "\n",
    "\n",
    "def gw_distance(\n",
    "    volume_i, volume_j, pairwise_distances_i, pairwise_distances_j, **kwargs\n",
    "):\n",
    "    gw_dist, results_dict = gw_distance_function_d[gw_distance_function](\n",
    "        pairwise_distances_i,\n",
    "        pairwise_distances_j,\n",
    "        volume_i,\n",
    "        volume_j,\n",
    "        log=True,\n",
    "        **kwargs,\n",
    "    )\n",
    "    return gw_dist, results_dict"
   ]
  },
  {
   "cell_type": "code",
   "execution_count": 122,
   "metadata": {},
   "outputs": [
    {
     "name": "stdout",
     "output_type": "stream",
     "text": [
      "[                                        ] | 0% Completed | 1.43 ms"
     ]
    },
    {
     "name": "stdout",
     "output_type": "stream",
     "text": [
      "[                                        ] | 0% Completed | 3.65 s ms"
     ]
    },
    {
     "name": "stderr",
     "output_type": "stream",
     "text": [
      "/mnt/home/gwoollard/software/mambaforge/envs/cryo_challenge/lib/python3.11/site-packages/ot/lp/__init__.py:361: UserWarning: numItermax reached before optimality. Try to increase numItermax.\n",
      "  result_code_string = check_result(result_code)\n"
     ]
    },
    {
     "name": "stdout",
     "output_type": "stream",
     "text": [
      "[########################################] | 100% Completed | 41m 42s\n"
     ]
    }
   ],
   "source": [
    "# epsilon = 10\n",
    "tol = 1e-11\n",
    "# solver='PGA'\n",
    "max_iter = 10000\n",
    "symmetric = True\n",
    "verbose = False\n",
    "loss_fun = \"square_loss\"\n",
    "\n",
    "\n",
    "def get_distance_matrix_dask(volumes, distance_function):\n",
    "    n_vols = len(volumes)\n",
    "    distance_matrix = np.zeros((n_vols, n_vols))\n",
    "\n",
    "    # Create a list to hold the delayed computations\n",
    "    tasks = []\n",
    "\n",
    "    for i in range(n_vols):\n",
    "        for j in range(i + 1, n_vols):\n",
    "            # Use dask.delayed to delay the computation\n",
    "            compute_task = delayed(distance_function)(\n",
    "                volumes,\n",
    "                i,\n",
    "                j,\n",
    "                loss_fun=loss_fun,\n",
    "                tol=tol,\n",
    "                symmetric=symmetric,\n",
    "                max_iter=max_iter,\n",
    "                verbose=verbose,\n",
    "            )\n",
    "            tasks.append((i, j, compute_task))\n",
    "\n",
    "    # Compute all tasks in parallel using the Dask client\n",
    "    with ProgressBar():\n",
    "        idx_of_return = 0\n",
    "        idx_of_compute_task = 2\n",
    "        results = compute(\n",
    "            *[task[idx_of_compute_task][idx_of_return] for task in tasks],\n",
    "            scheduler=\"single-threaded\",\n",
    "        )\n",
    "\n",
    "    # Fill in the distance matrix with the results\n",
    "    for (i, j, _), result in zip(tasks, results):\n",
    "        distance_matrix[i, j] = distance_matrix[j, i] = result\n",
    "\n",
    "    return distance_matrix\n",
    "\n",
    "\n",
    "n_interval = 5\n",
    "get_distance_matrix_dask_gw = get_distance_matrix_dask(\n",
    "    volumes[::n_interval], distance_function=gw_distance_wrapper\n",
    ")"
   ]
  },
  {
   "cell_type": "code",
   "execution_count": 124,
   "metadata": {},
   "outputs": [
    {
     "data": {
      "text/plain": [
       "<matplotlib.colorbar.Colorbar at 0x155081b15350>"
      ]
     },
     "execution_count": 124,
     "metadata": {},
     "output_type": "execute_result"
    },
    {
     "data": {
      "image/png": "[encoded data removed]",
      "text/plain": [
       "<Figure size 640x480 with 2 Axes>"
      ]
     },
     "metadata": {},
     "output_type": "display_data"
    }
   ],
   "source": [
    "plt.imshow(get_distance_matrix_dask_gw, cmap=\"gray\")\n",
    "plt.colorbar()"
   ]
  },
  {
   "cell_type": "markdown",
   "metadata": {},
   "source": [
    "# inspect results"
   ]
  },
  {
   "cell_type": "code",
   "execution_count": 35,
   "metadata": {},
   "outputs": [],
   "source": [
    "fname = \"/mnt/home/gwoollard/ceph/repos/Cryo-EM-Heterogeneity-Challenge-1/src/cryo_challenge/_map_to_map/gromov_wasserstein/gw_weighted_voxel_topk500_ds20_float64_exponent1.0_23.npy\"\n",
    "get_distance_matrix_dask_gw = np.load(fname).astype(np.float64)"
   ]
  },
  {
   "cell_type": "code",
   "execution_count": 36,
   "metadata": {},
   "outputs": [
    {
     "data": {
      "text/plain": [
       "<matplotlib.image.AxesImage at 0x155312891850>"
      ]
     },
     "execution_count": 36,
     "metadata": {},
     "output_type": "execute_result"
    },
    {
     "data": {
      "image/png": "[encoded data removed]",
      "text/plain": [
       "<Figure size 640x480 with 1 Axes>"
      ]
     },
     "metadata": {},
     "output_type": "display_data"
    }
   ],
   "source": [
    "plt.imshow(get_distance_matrix_dask_gw)"
   ]
  },
  {
   "cell_type": "code",
   "execution_count": 24,
   "metadata": {},
   "outputs": [
    {
     "name": "stdout",
     "output_type": "stream",
     "text": [
      "[0 0 0 ... 0 0 0]\n"
     ]
    }
   ],
   "source": [
    "from sklearn.cluster import KMeans\n",
    "import numpy as np\n",
    "\n",
    "\n",
    "def cluster_scalars(scalars):\n",
    "    # Reshape the data to fit the model\n",
    "    data = np.array(scalars).reshape(-1, 1)\n",
    "\n",
    "    # Create and fit the KMeans model\n",
    "    kmeans = KMeans(n_clusters=2, random_state=0).fit(data)\n",
    "\n",
    "    # Get the cluster labels\n",
    "    labels = kmeans.labels_\n",
    "\n",
    "    return labels\n",
    "\n",
    "\n",
    "# Example usage\n",
    "scalars = get_distance_matrix_dask_gw.flatten()\n",
    "labels = cluster_scalars(scalars)\n",
    "print(labels)"
   ]
  },
  {
   "cell_type": "code",
   "execution_count": 8,
   "metadata": {},
   "outputs": [
    {
     "data": {
      "text/plain": [
       "np.float64(0.00046875)"
      ]
     },
     "execution_count": 8,
     "metadata": {},
     "output_type": "execute_result"
    }
   ],
   "source": [
    "labels.mean()"
   ]
  },
  {
   "cell_type": "code",
   "execution_count": 9,
   "metadata": {},
   "outputs": [
    {
     "data": {
      "text/plain": [
       "np.float64(0.00046875)"
      ]
     },
     "execution_count": 9,
     "metadata": {},
     "output_type": "execute_result"
    }
   ],
   "source": [
    "_, counts = np.unique(labels, return_counts=True)\n",
    "if counts[0] < counts[1]:\n",
    "    labels = 1 - labels\n",
    "labels.mean()"
   ]
  },
  {
   "cell_type": "code",
   "execution_count": 10,
   "metadata": {},
   "outputs": [],
   "source": [
    "# mean_0 = scalars[labels.astype(bool)].mean()\n",
    "# mean_1 = scalars[~(labels.astype(bool))].mean()\n",
    "# print(mean_0, mean_1)\n",
    "\n",
    "# if mean_1 > mean_0:\n",
    "#     labels = ~labels\n",
    "# (labels).mean()"
   ]
  },
  {
   "cell_type": "code",
   "execution_count": 11,
   "metadata": {},
   "outputs": [
    {
     "data": {
      "text/plain": [
       "<matplotlib.image.AxesImage at 0x15532aeeb610>"
      ]
     },
     "execution_count": 11,
     "metadata": {},
     "output_type": "execute_result"
    },
    {
     "data": {
      "image/png": "[encoded data removed]",
      "text/plain": [
       "<Figure size 640x480 with 1 Axes>"
      ]
     },
     "metadata": {},
     "output_type": "display_data"
    }
   ],
   "source": [
    "plt.imshow(labels.reshape(get_distance_matrix_dask_gw.shape), cmap=\"gray\")"
   ]
  },
  {
   "cell_type": "code",
   "execution_count": 12,
   "metadata": {},
   "outputs": [
    {
     "data": {
      "text/plain": [
       "<Axes: ylabel='Frequency'>"
      ]
     },
     "execution_count": 12,
     "metadata": {},
     "output_type": "execute_result"
    },
    {
     "data": {
      "image/png": "[encoded data removed]",
      "text/plain": [
       "<Figure size 640x480 with 1 Axes>"
      ]
     },
     "metadata": {},
     "output_type": "display_data"
    }
   ],
   "source": [
    "pd.Series(get_distance_matrix_dask_gw.flatten()).plot.hist(bins=100)"
   ]
  },
  {
   "cell_type": "code",
   "execution_count": 13,
   "metadata": {},
   "outputs": [
    {
     "data": {
      "text/plain": [
       "array([69, 38, 39, 21, 40, 47,  0, 10, 74, 33, 15, 11, 24,  1, 36,  2, 17,\n",
       "       71, 70, 66, 26, 77, 68, 65, 55,  7, 54, 37, 18,  3, 28, 35, 64, 42,\n",
       "       20, 75, 53, 30, 62, 44, 72, 52, 19, 14, 49,  4, 22, 67, 63, 57, 29,\n",
       "       16, 27,  9,  6, 73, 13, 60, 45, 34, 12, 76, 41, 58, 79, 23, 56, 61,\n",
       "        8, 31, 32,  5, 51, 50, 78, 46, 25, 43, 59, 48])"
      ]
     },
     "execution_count": 13,
     "metadata": {},
     "output_type": "execute_result"
    }
   ],
   "source": [
    "get_distance_matrix_dask_gw.mean(0).argsort()"
   ]
  },
  {
   "cell_type": "code",
   "execution_count": 17,
   "metadata": {},
   "outputs": [
    {
     "data": {
      "text/plain": [
       "<matplotlib.colorbar.Colorbar at 0x15531327fb50>"
      ]
     },
     "execution_count": 17,
     "metadata": {},
     "output_type": "execute_result"
    },
    {
     "data": {
      "image/png": "[encoded data removed]",
      "text/plain": [
       "<Figure size 640x480 with 2 Axes>"
      ]
     },
     "metadata": {},
     "output_type": "display_data"
    }
   ],
   "source": [
    "idxs = torch.concat([torch.arange(0, 42), torch.arange(45, 80)]).tolist()\n",
    "plt.imshow(get_distance_matrix_dask_gw[idxs][:, idxs].astype(np.float64))\n",
    "plt.colorbar()"
   ]
  },
  {
   "cell_type": "code",
   "execution_count": 19,
   "metadata": {},
   "outputs": [
    {
     "data": {
      "text/plain": [
       "<matplotlib.colorbar.Colorbar at 0x1553130f7a90>"
      ]
     },
     "execution_count": 19,
     "metadata": {},
     "output_type": "execute_result"
    },
    {
     "data": {
      "image/png": "[encoded data removed]",
      "text/plain": [
       "<Figure size 640x480 with 2 Axes>"
      ]
     },
     "metadata": {},
     "output_type": "display_data"
    }
   ],
   "source": [
    "get_distance_matrix_dask_gw[\n",
    "    labels.reshape(get_distance_matrix_dask_gw.shape).astype(bool)\n",
    "] = np.nan\n",
    "plt.imshow(get_distance_matrix_dask_gw.astype(np.float64))\n",
    "plt.colorbar()"
   ]
  },
  {
   "cell_type": "code",
   "execution_count": 87,
   "metadata": {},
   "outputs": [
    {
     "data": {
      "text/plain": [
       "[<matplotlib.axis.XTick at 0x155171771a50>,\n",
       " <matplotlib.axis.XTick at 0x15516f40a190>,\n",
       " <matplotlib.axis.XTick at 0x15516f430d50>,\n",
       " <matplotlib.axis.XTick at 0x15516f44fdd0>,\n",
       " <matplotlib.axis.XTick at 0x15516f45e090>,\n",
       " <matplotlib.axis.XTick at 0x15516f464210>,\n",
       " <matplotlib.axis.XTick at 0x15516f4643d0>,\n",
       " <matplotlib.axis.XTick at 0x15516f467050>,\n",
       " <matplotlib.axis.XTick at 0x15516f46d050>,\n",
       " <matplotlib.axis.XTick at 0x15516f46ef50>,\n",
       " <matplotlib.axis.XTick at 0x15516f470f90>,\n",
       " <matplotlib.axis.XTick at 0x15516f426650>,\n",
       " <matplotlib.axis.XTick at 0x15516f473210>,\n",
       " <matplotlib.axis.XTick at 0x15516f475710>,\n",
       " <matplotlib.axis.XTick at 0x15516f4776d0>,\n",
       " <matplotlib.axis.XTick at 0x15516f479850>,\n",
       " <matplotlib.axis.XTick at 0x15516f476550>,\n",
       " <matplotlib.axis.XTick at 0x15516f47bd90>,\n",
       " <matplotlib.axis.XTick at 0x15516f485c10>,\n",
       " <matplotlib.axis.XTick at 0x15516f487ad0>,\n",
       " <matplotlib.axis.XTick at 0x15516f489b90>,\n",
       " <matplotlib.axis.XTick at 0x15516f48bd50>,\n",
       " <matplotlib.axis.XTick at 0x15516f485210>,\n",
       " <matplotlib.axis.XTick at 0x155166e62110>,\n",
       " <matplotlib.axis.XTick at 0x155166e63ed0>,\n",
       " <matplotlib.axis.XTick at 0x155166e6e290>,\n",
       " <matplotlib.axis.XTick at 0x155166e6fd10>,\n",
       " <matplotlib.axis.XTick at 0x15516f46de10>,\n",
       " <matplotlib.axis.XTick at 0x155166e72390>,\n",
       " <matplotlib.axis.XTick at 0x155166e80410>,\n",
       " <matplotlib.axis.XTick at 0x155166e82310>,\n",
       " <matplotlib.axis.XTick at 0x155166e83ed0>,\n",
       " <matplotlib.axis.XTick at 0x155166e8a190>,\n",
       " <matplotlib.axis.XTick at 0x15516f400e90>,\n",
       " <matplotlib.axis.XTick at 0x155166e8af50>,\n",
       " <matplotlib.axis.XTick at 0x155166e91050>,\n",
       " <matplotlib.axis.XTick at 0x155166e92f90>,\n",
       " <matplotlib.axis.XTick at 0x155166e94ed0>,\n",
       " <matplotlib.axis.XTick at 0x155166e88890>,\n",
       " <matplotlib.axis.XTick at 0x155166e97290>,\n",
       " <matplotlib.axis.XTick at 0x155166e99290>,\n",
       " <matplotlib.axis.XTick at 0x155166e9b190>,\n",
       " <matplotlib.axis.XTick at 0x155166ea1090>,\n",
       " <matplotlib.axis.XTick at 0x155166e9a050>,\n",
       " <matplotlib.axis.XTick at 0x155166ea32d0>,\n",
       " <matplotlib.axis.XTick at 0x155166ead2d0>,\n",
       " <matplotlib.axis.XTick at 0x155166eaf1d0>,\n",
       " <matplotlib.axis.XTick at 0x155166eb1150>,\n",
       " <matplotlib.axis.XTick at 0x155166eb3110>,\n",
       " <matplotlib.axis.XTick at 0x155166eb1810>,\n",
       " <matplotlib.axis.XTick at 0x155166eb9350>,\n",
       " <matplotlib.axis.XTick at 0x155166ebb190>,\n",
       " <matplotlib.axis.XTick at 0x155166ebd0d0>,\n",
       " <matplotlib.axis.XTick at 0x155166ebef10>,\n",
       " <matplotlib.axis.XTick at 0x155166e6f910>,\n",
       " <matplotlib.axis.XTick at 0x155166ec5310>,\n",
       " <matplotlib.axis.XTick at 0x155166ec7250>,\n",
       " <matplotlib.axis.XTick at 0x155166ec9190>,\n",
       " <matplotlib.axis.XTick at 0x155166ecb110>,\n",
       " <matplotlib.axis.XTick at 0x155166ec9850>,\n",
       " <matplotlib.axis.XTick at 0x155166ed1490>,\n",
       " <matplotlib.axis.XTick at 0x155166ed3390>,\n",
       " <matplotlib.axis.XTick at 0x155166ed9210>,\n",
       " <matplotlib.axis.XTick at 0x155166edb190>,\n",
       " <matplotlib.axis.XTick at 0x155166eb8a50>,\n",
       " <matplotlib.axis.XTick at 0x155166edd5d0>,\n",
       " <matplotlib.axis.XTick at 0x155166edf590>,\n",
       " <matplotlib.axis.XTick at 0x155166ee5510>,\n",
       " <matplotlib.axis.XTick at 0x155166ee7350>,\n",
       " <matplotlib.axis.XTick at 0x155166ef12d0>,\n",
       " <matplotlib.axis.XTick at 0x155166eddc90>,\n",
       " <matplotlib.axis.XTick at 0x155166ef3210>,\n",
       " <matplotlib.axis.XTick at 0x155166ef9350>,\n",
       " <matplotlib.axis.XTick at 0x155166efb1d0>,\n",
       " <matplotlib.axis.XTick at 0x155166f00f90>,\n",
       " <matplotlib.axis.XTick at 0x155166e90d10>,\n",
       " <matplotlib.axis.XTick at 0x155166f032d0>,\n",
       " <matplotlib.axis.XTick at 0x155166ee43d0>,\n",
       " <matplotlib.axis.XTick at 0x155166f0f150>,\n",
       " <matplotlib.axis.XTick at 0x155166f11050>]"
      ]
     },
     "execution_count": 87,
     "metadata": {},
     "output_type": "execute_result"
    },
    {
     "data": {
      "image/png": "[encoded data removed]",
      "text/plain": [
       "<Figure size 2500x200 with 1 Axes>"
      ]
     },
     "metadata": {},
     "output_type": "display_data"
    }
   ],
   "source": [
    "fig, ax = plt.subplots(1, figsize=(25, 2))\n",
    "\n",
    "ax.imshow(get_distance_matrix_dask_gw[:, 32:33].T)\n",
    "ax.set_xticks(range(0, len(get_distance_matrix_dask_gw), 1))\n",
    "# get_distance_matrix_dask_gw[27,32]"
   ]
  },
  {
   "cell_type": "code",
   "execution_count": 51,
   "metadata": {},
   "outputs": [
    {
     "data": {
      "text/plain": [
       "<Axes: ylabel='Frequency'>"
      ]
     },
     "execution_count": 51,
     "metadata": {},
     "output_type": "execute_result"
    },
    {
     "data": {
      "image/png": "[encoded data removed]",
      "text/plain": [
       "<Figure size 640x480 with 1 Axes>"
      ]
     },
     "metadata": {},
     "output_type": "display_data"
    }
   ],
   "source": [
    "pd.Series(get_distance_matrix_dask_gw[:, 32:33].flatten()).plot.hist()"
   ]
  },
  {
   "cell_type": "code",
   "execution_count": 33,
   "metadata": {},
   "outputs": [
    {
     "data": {
      "text/plain": [
       "True"
      ]
     },
     "execution_count": 33,
     "metadata": {},
     "output_type": "execute_result"
    }
   ],
   "source": [
    "np.allclose(get_distance_matrix_dask_gw, get_distance_matrix_dask_gw.T)"
   ]
  },
  {
   "cell_type": "code",
   "execution_count": null,
   "metadata": {},
   "outputs": [],
   "source": []
  }
 ],
 "metadata": {
  "kernelspec": {
   "display_name": "cryo_challenge",
   "language": "python",
   "name": "python3"
  },
  "language_info": {
   "codemirror_mode": {
    "name": "ipython",
    "version": 3
   },
   "file_extension": ".py",
   "mimetype": "text/x-python",
   "name": "python",
   "nbconvert_exporter": "python",
   "pygments_lexer": "ipython3",
   "version": "3.11.9"
  }
 },
 "nbformat": 4,
 "nbformat_minor": 2
}
