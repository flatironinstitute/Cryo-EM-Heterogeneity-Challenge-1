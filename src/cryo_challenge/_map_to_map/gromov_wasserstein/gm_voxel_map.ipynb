{
 "cells": [
  {
   "cell_type": "markdown",
   "metadata": {},
   "source": [
    "# Goal\n",
    "* gm on voxel intensities\n",
    "* downsample and use voxel intensities for weight\n",
    "* use top k values as weighted points (contains 95% of mass?)\n",
    "* develop on mint chocolate chip"
   ]
  },
  {
   "cell_type": "markdown",
   "metadata": {},
   "source": [
    "# Setup"
   ]
  },
  {
   "cell_type": "code",
   "execution_count": 2,
   "metadata": {},
   "outputs": [],
   "source": [
    "import torch\n",
    "import pandas as pd\n",
    "import ot\n",
    "import numpy as np\n",
    "import matplotlib.pyplot as plt"
   ]
  },
  {
   "cell_type": "markdown",
   "metadata": {},
   "source": [
    "# Import maps"
   ]
  },
  {
   "cell_type": "code",
   "execution_count": 3,
   "metadata": {},
   "outputs": [],
   "source": [
    "fname = \"/mnt/home/smbp/ceph/smbpchallenge/round2/set2/processed_submissions/submission_23.pt\""
   ]
  },
  {
   "cell_type": "code",
   "execution_count": 4,
   "metadata": {},
   "outputs": [
    {
     "name": "stderr",
     "output_type": "stream",
     "text": [
      "/tmp/ipykernel_984569/1569191833.py:1: FutureWarning: You are using `torch.load` with `weights_only=False` (the current default value), which uses the default pickle module implicitly. It is possible to construct malicious pickle data which will execute arbitrary code during unpickling (See https://github.com/pytorch/pytorch/blob/main/SECURITY.md#untrusted-models for more details). In a future release, the default value for `weights_only` will be flipped to `True`. This limits the functions that could be executed during unpickling. Arbitrary objects will no longer be allowed to be loaded via this mode unless they are explicitly allowlisted by the user via `torch.serialization.add_safe_globals`. We recommend you start setting `weights_only=True` for any use case where you don't have full control of the loaded file. Please open an issue on GitHub for any issues related to this experimental feature.\n",
      "  submission = torch.load(fname)\n"
     ]
    }
   ],
   "source": [
    "submission = torch.load(fname)"
   ]
  },
  {
   "cell_type": "code",
   "execution_count": 5,
   "metadata": {},
   "outputs": [
    {
     "data": {
      "text/plain": [
       "torch.Size([80, 224, 224, 224])"
      ]
     },
     "execution_count": 5,
     "metadata": {},
     "output_type": "execute_result"
    }
   ],
   "source": [
    "volumes = submission[\"volumes\"]\n",
    "volumes.shape"
   ]
  },
  {
   "cell_type": "code",
   "execution_count": 6,
   "metadata": {},
   "outputs": [
    {
     "data": {
      "text/plain": [
       "<Axes: ylabel='Frequency'>"
      ]
     },
     "execution_count": 6,
     "metadata": {},
     "output_type": "execute_result"
    },
    {
     "data": {
      "image/png": "[encoded data removed]",
      "text/plain": [
       "<Figure size 640x480 with 1 Axes>"
      ]
     },
     "metadata": {},
     "output_type": "display_data"
    }
   ],
   "source": [
    "idx = 0\n",
    "pd.Series(volumes[idx].numpy().flatten()).plot.hist(bins=100, logy=True)"
   ]
  },
  {
   "cell_type": "code",
   "execution_count": 7,
   "metadata": {},
   "outputs": [
    {
     "data": {
      "text/plain": [
       "<Axes: ylabel='Frequency'>"
      ]
     },
     "execution_count": 7,
     "metadata": {},
     "output_type": "execute_result"
    },
    {
     "data": {
      "image/png": "[encoded data removed]",
      "text/plain": [
       "<Figure size 640x480 with 1 Axes>"
      ]
     },
     "metadata": {},
     "output_type": "display_data"
    }
   ],
   "source": [
    "from cryo_challenge._preprocessing.fourier_utils import downsample_volume\n",
    "\n",
    "n_downsample_pix = 32\n",
    "volume = downsample_volume(volumes[idx], n_downsample_pix)\n",
    "volume -= volume.min()\n",
    "volume /= volume.sum()\n",
    "pd.Series(volume.numpy().flatten()).plot.hist(logy=True, bins=100)\n",
    "# volume = volumes[idx]\n",
    "# n_downsampled = len(volume)"
   ]
  },
  {
   "cell_type": "code",
   "execution_count": 8,
   "metadata": {},
   "outputs": [
    {
     "name": "stdout",
     "output_type": "stream",
     "text": [
      "0.00 | 32767 | 1.00\n",
      "0.00 | 32767 | 1.00\n",
      "0.00 | 32767 | 1.00\n",
      "0.00 | 32767 | 1.00\n",
      "0.00 | 32767 | 1.00\n",
      "0.00 | 32767 | 1.00\n",
      "0.00 | 32767 | 1.00\n",
      "0.00 | 32767 | 1.00\n",
      "0.00 | 32767 | 1.00\n",
      "0.00 | 32767 | 1.00\n",
      "0.00 | 32767 | 1.00\n",
      "0.00 | 32767 | 1.00\n",
      "0.00 | 32767 | 1.00\n",
      "0.00 | 32767 | 1.00\n",
      "0.00 | 32767 | 1.00\n",
      "0.00 | 32767 | 1.00\n",
      "0.00 | 32767 | 1.00\n",
      "0.00 | 32767 | 1.00\n",
      "0.00 | 32767 | 1.00\n",
      "0.00 | 32767 | 1.00\n",
      "0.00 | 32767 | 1.00\n",
      "0.00 | 32767 | 1.00\n",
      "0.00 | 32767 | 1.00\n",
      "0.00 | 32767 | 1.00\n",
      "0.00 | 32767 | 1.00\n",
      "0.00 | 32767 | 1.00\n",
      "0.00 | 32767 | 1.00\n",
      "0.00 | 32767 | 1.00\n",
      "0.00 | 32767 | 1.00\n",
      "0.00 | 32767 | 1.00\n",
      "0.00 | 32767 | 1.00\n",
      "0.00 | 32767 | 1.00\n",
      "0.00 | 32767 | 1.00\n",
      "0.00 | 32767 | 1.00\n",
      "0.00 | 32767 | 1.00\n",
      "0.00 | 32767 | 1.00\n",
      "0.00 | 32767 | 1.00\n",
      "0.00 | 32767 | 1.00\n",
      "0.00 | 32767 | 1.00\n",
      "0.00 | 32767 | 1.00\n",
      "0.00 | 32767 | 1.00\n",
      "0.00 | 32767 | 1.00\n",
      "0.00 | 32767 | 1.00\n",
      "0.00 | 32767 | 1.00\n",
      "0.00 | 32767 | 1.00\n",
      "0.00 | 32767 | 1.00\n",
      "0.00 | 32767 | 1.00\n",
      "0.00 | 32767 | 1.00\n",
      "0.00 | 32767 | 1.00\n",
      "0.00 | 32767 | 1.00\n",
      "0.00 | 32767 | 1.00\n",
      "0.00 | 32767 | 1.00\n",
      "0.00 | 32767 | 1.00\n",
      "0.00 | 32767 | 1.00\n",
      "0.00 | 32767 | 1.00\n",
      "0.00 | 32767 | 1.00\n",
      "0.00 | 32766 | 1.00\n",
      "0.00 | 32766 | 1.00\n",
      "0.00 | 32766 | 1.00\n",
      "0.00 | 32766 | 1.00\n",
      "0.00 | 32766 | 1.00\n",
      "0.00 | 32765 | 1.00\n",
      "0.00 | 32765 | 1.00\n",
      "0.00 | 32765 | 1.00\n",
      "0.00 | 32765 | 1.00\n",
      "0.00 | 32765 | 1.00\n",
      "0.00 | 32765 | 1.00\n",
      "0.00 | 32765 | 1.00\n",
      "0.00 | 32765 | 1.00\n",
      "0.00 | 32765 | 1.00\n",
      "0.00 | 32765 | 1.00\n",
      "0.00 | 32765 | 1.00\n",
      "0.00 | 32765 | 1.00\n",
      "0.00 | 32765 | 1.00\n",
      "0.00 | 32765 | 1.00\n",
      "0.00 | 32765 | 1.00\n",
      "0.00 | 32765 | 1.00\n",
      "0.00 | 32765 | 1.00\n",
      "0.00 | 32764 | 1.00\n",
      "0.00 | 32764 | 1.00\n",
      "0.00 | 32764 | 1.00\n",
      "0.00 | 32764 | 1.00\n",
      "0.00 | 32763 | 1.00\n",
      "0.00 | 32761 | 1.00\n",
      "0.00 | 32761 | 1.00\n",
      "0.00 | 32761 | 1.00\n",
      "0.00 | 32761 | 1.00\n",
      "0.00 | 32761 | 1.00\n",
      "0.00 | 32760 | 1.00\n",
      "0.00 | 32760 | 1.00\n",
      "0.00 | 32760 | 1.00\n",
      "0.00 | 32759 | 1.00\n",
      "0.00 | 32757 | 1.00\n",
      "0.00 | 32757 | 1.00\n",
      "0.00 | 32757 | 1.00\n",
      "0.00 | 32757 | 1.00\n",
      "0.00 | 32755 | 1.00\n",
      "0.00 | 32755 | 1.00\n",
      "0.00 | 32755 | 1.00\n",
      "0.00 | 32754 | 1.00\n",
      "0.00 | 32754 | 1.00\n",
      "0.00 | 32753 | 1.00\n",
      "0.00 | 32752 | 1.00\n",
      "0.00 | 32751 | 1.00\n",
      "0.00 | 32750 | 1.00\n",
      "0.00 | 32749 | 1.00\n",
      "0.00 | 32748 | 1.00\n",
      "0.00 | 32747 | 1.00\n",
      "0.00 | 32745 | 1.00\n",
      "0.00 | 32745 | 1.00\n",
      "0.00 | 32743 | 1.00\n",
      "0.00 | 32742 | 1.00\n",
      "0.00 | 32740 | 1.00\n",
      "0.00 | 32738 | 1.00\n",
      "0.00 | 32735 | 1.00\n",
      "0.00 | 32732 | 1.00\n",
      "0.00 | 32732 | 1.00\n",
      "0.00 | 32730 | 1.00\n",
      "0.00 | 32729 | 1.00\n",
      "0.00 | 32728 | 1.00\n",
      "0.00 | 32726 | 1.00\n",
      "0.00 | 32724 | 1.00\n",
      "0.00 | 32720 | 1.00\n",
      "0.00 | 32715 | 1.00\n",
      "0.00 | 32710 | 1.00\n",
      "0.00 | 32708 | 1.00\n",
      "0.00 | 32703 | 1.00\n",
      "0.00 | 32700 | 1.00\n",
      "0.00 | 32698 | 1.00\n",
      "0.00 | 32687 | 1.00\n",
      "0.00 | 32681 | 1.00\n",
      "0.00 | 32676 | 1.00\n",
      "0.00 | 32666 | 1.00\n",
      "0.00 | 32656 | 1.00\n",
      "0.00 | 32641 | 1.00\n",
      "0.00 | 32630 | 1.00\n",
      "0.00 | 32615 | 1.00\n",
      "0.00 | 32596 | 1.00\n",
      "0.00 | 32586 | 1.00\n",
      "0.00 | 32571 | 1.00\n",
      "0.00 | 32551 | 0.99\n",
      "0.00 | 32538 | 0.99\n",
      "0.00 | 32521 | 0.99\n",
      "0.00 | 32489 | 0.99\n",
      "0.00 | 32440 | 0.99\n",
      "0.00 | 32398 | 0.99\n",
      "0.00 | 32350 | 0.99\n",
      "0.00 | 32287 | 0.99\n",
      "0.00 | 32216 | 0.99\n",
      "0.00 | 32111 | 0.98\n",
      "0.00 | 31983 | 0.98\n",
      "0.00 | 31822 | 0.97\n",
      "0.00 | 31584 | 0.97\n",
      "0.00 | 31222 | 0.96\n",
      "0.00 | 30556 | 0.94\n",
      "0.00 | 28161 | 0.87\n",
      "0.00 | 3484 | 0.14\n",
      "0.00 | 2455 | 0.11\n",
      "0.00 | 1932 | 0.09\n",
      "0.00 | 1609 | 0.08\n",
      "0.00 | 1397 | 0.08\n",
      "0.00 | 1245 | 0.07\n",
      "0.00 | 1142 | 0.07\n",
      "0.00 | 1041 | 0.07\n",
      "0.00 | 967 | 0.06\n",
      "0.00 | 907 | 0.06\n",
      "0.00 | 853 | 0.06\n",
      "0.00 | 804 | 0.06\n",
      "0.00 | 775 | 0.06\n",
      "0.00 | 753 | 0.06\n",
      "0.00 | 729 | 0.06\n",
      "0.00 | 703 | 0.06\n",
      "0.00 | 687 | 0.05\n",
      "0.00 | 666 | 0.05\n",
      "0.00 | 647 | 0.05\n",
      "0.00 | 627 | 0.05\n",
      "0.00 | 616 | 0.05\n",
      "0.00 | 604 | 0.05\n",
      "0.00 | 597 | 0.05\n",
      "0.00 | 588 | 0.05\n",
      "0.00 | 580 | 0.05\n",
      "0.00 | 573 | 0.05\n",
      "0.00 | 570 | 0.05\n",
      "0.00 | 563 | 0.05\n",
      "0.00 | 557 | 0.05\n",
      "0.00 | 551 | 0.05\n",
      "0.00 | 545 | 0.05\n",
      "0.00 | 543 | 0.05\n",
      "0.00 | 539 | 0.05\n",
      "0.00 | 535 | 0.05\n",
      "0.00 | 532 | 0.05\n",
      "0.00 | 530 | 0.05\n",
      "0.00 | 528 | 0.05\n",
      "0.00 | 526 | 0.05\n",
      "0.00 | 525 | 0.05\n",
      "0.00 | 520 | 0.05\n",
      "0.00 | 519 | 0.05\n",
      "0.00 | 519 | 0.05\n",
      "0.00 | 517 | 0.05\n",
      "0.00 | 513 | 0.05\n",
      "0.00 | 513 | 0.05\n",
      "0.00 | 511 | 0.05\n",
      "0.00 | 506 | 0.05\n",
      "0.00 | 505 | 0.05\n",
      "0.00 | 504 | 0.05\n",
      "0.00 | 504 | 0.05\n",
      "0.00 | 501 | 0.05\n",
      "0.00 | 501 | 0.05\n",
      "0.00 | 500 | 0.05\n",
      "0.00 | 496 | 0.05\n",
      "0.00 | 496 | 0.05\n",
      "0.00 | 496 | 0.05\n",
      "0.00 | 493 | 0.05\n",
      "0.00 | 491 | 0.05\n",
      "0.00 | 488 | 0.05\n",
      "0.00 | 488 | 0.05\n",
      "0.00 | 487 | 0.05\n",
      "0.00 | 487 | 0.05\n",
      "0.00 | 486 | 0.05\n",
      "0.00 | 486 | 0.05\n",
      "0.00 | 484 | 0.05\n",
      "0.00 | 482 | 0.05\n",
      "0.00 | 481 | 0.05\n",
      "0.00 | 481 | 0.05\n",
      "0.00 | 481 | 0.05\n",
      "0.00 | 479 | 0.05\n",
      "0.00 | 478 | 0.05\n",
      "0.00 | 478 | 0.05\n",
      "0.00 | 475 | 0.05\n",
      "0.00 | 472 | 0.05\n",
      "0.00 | 472 | 0.05\n",
      "0.00 | 469 | 0.05\n",
      "0.00 | 466 | 0.05\n",
      "0.00 | 466 | 0.05\n",
      "0.00 | 462 | 0.05\n",
      "0.00 | 459 | 0.05\n",
      "0.00 | 459 | 0.05\n",
      "0.00 | 456 | 0.05\n",
      "0.00 | 455 | 0.05\n",
      "0.00 | 455 | 0.05\n",
      "0.00 | 452 | 0.05\n",
      "0.00 | 451 | 0.05\n",
      "0.00 | 449 | 0.05\n",
      "0.00 | 447 | 0.05\n",
      "0.00 | 445 | 0.05\n",
      "0.00 | 443 | 0.05\n",
      "0.00 | 442 | 0.05\n",
      "0.00 | 437 | 0.05\n",
      "0.00 | 436 | 0.05\n",
      "0.00 | 434 | 0.05\n",
      "0.00 | 434 | 0.05\n",
      "0.00 | 434 | 0.05\n",
      "0.00 | 434 | 0.05\n",
      "0.00 | 434 | 0.05\n",
      "0.00 | 433 | 0.05\n",
      "0.00 | 432 | 0.05\n",
      "0.00 | 431 | 0.05\n",
      "0.00 | 431 | 0.05\n",
      "0.00 | 431 | 0.05\n",
      "0.00 | 428 | 0.05\n",
      "0.00 | 426 | 0.05\n",
      "0.00 | 425 | 0.05\n",
      "0.00 | 425 | 0.05\n",
      "0.00 | 425 | 0.05\n",
      "0.00 | 425 | 0.05\n",
      "0.00 | 425 | 0.05\n",
      "0.00 | 425 | 0.05\n",
      "0.00 | 423 | 0.05\n",
      "0.00 | 423 | 0.05\n",
      "0.00 | 422 | 0.05\n",
      "0.00 | 421 | 0.04\n",
      "0.00 | 419 | 0.04\n",
      "0.00 | 417 | 0.04\n",
      "0.00 | 415 | 0.04\n",
      "0.00 | 415 | 0.04\n",
      "0.00 | 413 | 0.04\n",
      "0.00 | 410 | 0.04\n",
      "0.00 | 410 | 0.04\n",
      "0.00 | 409 | 0.04\n",
      "0.00 | 408 | 0.04\n",
      "0.00 | 406 | 0.04\n",
      "0.00 | 405 | 0.04\n",
      "0.00 | 405 | 0.04\n",
      "0.00 | 403 | 0.04\n",
      "0.00 | 403 | 0.04\n",
      "0.00 | 403 | 0.04\n",
      "0.00 | 403 | 0.04\n",
      "0.00 | 402 | 0.04\n",
      "0.00 | 402 | 0.04\n",
      "0.00 | 402 | 0.04\n",
      "0.00 | 401 | 0.04\n",
      "0.00 | 400 | 0.04\n",
      "0.00 | 398 | 0.04\n",
      "0.00 | 398 | 0.04\n",
      "0.00 | 396 | 0.04\n",
      "0.00 | 396 | 0.04\n",
      "0.00 | 396 | 0.04\n",
      "0.00 | 396 | 0.04\n",
      "0.00 | 396 | 0.04\n",
      "0.00 | 395 | 0.04\n",
      "0.00 | 395 | 0.04\n",
      "0.00 | 395 | 0.04\n",
      "0.00 | 391 | 0.04\n",
      "0.00 | 389 | 0.04\n",
      "0.00 | 389 | 0.04\n",
      "0.00 | 388 | 0.04\n",
      "0.00 | 388 | 0.04\n",
      "0.00 | 386 | 0.04\n",
      "0.00 | 385 | 0.04\n",
      "0.00 | 383 | 0.04\n",
      "0.00 | 382 | 0.04\n",
      "0.00 | 382 | 0.04\n",
      "0.00 | 381 | 0.04\n",
      "0.00 | 380 | 0.04\n",
      "0.00 | 380 | 0.04\n",
      "0.00 | 380 | 0.04\n",
      "0.00 | 378 | 0.04\n",
      "0.00 | 377 | 0.04\n",
      "0.00 | 376 | 0.04\n",
      "0.00 | 375 | 0.04\n",
      "0.00 | 375 | 0.04\n",
      "0.00 | 375 | 0.04\n",
      "0.00 | 375 | 0.04\n",
      "0.00 | 375 | 0.04\n",
      "0.00 | 375 | 0.04\n",
      "0.00 | 375 | 0.04\n",
      "0.00 | 375 | 0.04\n",
      "0.00 | 375 | 0.04\n",
      "0.00 | 372 | 0.04\n",
      "0.00 | 371 | 0.04\n",
      "0.00 | 368 | 0.04\n",
      "0.00 | 368 | 0.04\n",
      "0.00 | 367 | 0.04\n",
      "0.00 | 365 | 0.04\n",
      "0.00 | 364 | 0.04\n",
      "0.00 | 363 | 0.04\n",
      "0.00 | 362 | 0.04\n",
      "0.00 | 360 | 0.04\n",
      "0.00 | 360 | 0.04\n",
      "0.00 | 360 | 0.04\n",
      "0.00 | 358 | 0.04\n",
      "0.00 | 357 | 0.04\n",
      "0.00 | 357 | 0.04\n",
      "0.00 | 356 | 0.04\n",
      "0.00 | 356 | 0.04\n",
      "0.00 | 356 | 0.04\n",
      "0.00 | 354 | 0.04\n",
      "0.00 | 353 | 0.04\n",
      "0.00 | 353 | 0.04\n",
      "0.00 | 353 | 0.04\n",
      "0.00 | 353 | 0.04\n",
      "0.00 | 353 | 0.04\n",
      "0.00 | 352 | 0.04\n",
      "0.00 | 351 | 0.04\n",
      "0.00 | 351 | 0.04\n",
      "0.00 | 349 | 0.04\n",
      "0.00 | 349 | 0.04\n",
      "0.00 | 347 | 0.04\n",
      "0.00 | 346 | 0.04\n",
      "0.00 | 345 | 0.04\n",
      "0.00 | 344 | 0.04\n",
      "0.00 | 343 | 0.04\n",
      "0.00 | 342 | 0.04\n",
      "0.00 | 342 | 0.04\n",
      "0.00 | 341 | 0.04\n",
      "0.00 | 341 | 0.04\n",
      "0.00 | 341 | 0.04\n",
      "0.00 | 338 | 0.04\n",
      "0.00 | 337 | 0.04\n",
      "0.00 | 336 | 0.04\n",
      "0.00 | 336 | 0.04\n",
      "0.00 | 334 | 0.04\n",
      "0.00 | 333 | 0.04\n",
      "0.00 | 333 | 0.04\n",
      "0.00 | 333 | 0.04\n",
      "0.00 | 332 | 0.04\n",
      "0.00 | 332 | 0.04\n",
      "0.00 | 332 | 0.04\n",
      "0.00 | 331 | 0.04\n",
      "0.00 | 331 | 0.04\n",
      "0.00 | 331 | 0.04\n",
      "0.00 | 330 | 0.04\n",
      "0.00 | 330 | 0.04\n",
      "0.00 | 328 | 0.04\n",
      "0.00 | 327 | 0.04\n",
      "0.00 | 325 | 0.04\n",
      "0.00 | 325 | 0.04\n",
      "0.00 | 325 | 0.04\n",
      "0.00 | 325 | 0.04\n",
      "0.00 | 324 | 0.04\n",
      "0.00 | 323 | 0.04\n",
      "0.00 | 323 | 0.04\n",
      "0.00 | 322 | 0.04\n",
      "0.00 | 322 | 0.04\n",
      "0.00 | 322 | 0.04\n",
      "0.00 | 321 | 0.04\n",
      "0.00 | 320 | 0.04\n",
      "0.00 | 318 | 0.04\n",
      "0.00 | 316 | 0.04\n",
      "0.00 | 314 | 0.04\n",
      "0.00 | 314 | 0.04\n",
      "0.00 | 314 | 0.04\n",
      "0.00 | 313 | 0.04\n",
      "0.00 | 312 | 0.04\n",
      "0.00 | 310 | 0.04\n",
      "0.00 | 308 | 0.04\n",
      "0.00 | 308 | 0.04\n",
      "0.00 | 307 | 0.04\n",
      "0.00 | 305 | 0.04\n",
      "0.00 | 305 | 0.04\n",
      "0.00 | 304 | 0.04\n",
      "0.00 | 304 | 0.04\n",
      "0.00 | 304 | 0.04\n",
      "0.00 | 304 | 0.04\n",
      "0.00 | 303 | 0.04\n",
      "0.00 | 303 | 0.04\n",
      "0.00 | 301 | 0.04\n",
      "0.00 | 299 | 0.04\n",
      "0.00 | 299 | 0.04\n",
      "0.00 | 299 | 0.04\n",
      "0.00 | 298 | 0.04\n",
      "0.00 | 298 | 0.04\n",
      "0.00 | 298 | 0.04\n",
      "0.00 | 298 | 0.04\n",
      "0.00 | 296 | 0.04\n",
      "0.00 | 296 | 0.04\n",
      "0.00 | 295 | 0.04\n",
      "0.00 | 295 | 0.04\n",
      "0.00 | 295 | 0.04\n",
      "0.00 | 294 | 0.04\n",
      "0.00 | 294 | 0.04\n",
      "0.00 | 292 | 0.04\n",
      "0.00 | 290 | 0.04\n",
      "0.00 | 289 | 0.04\n",
      "0.00 | 288 | 0.04\n",
      "0.00 | 287 | 0.04\n",
      "0.00 | 287 | 0.04\n",
      "0.00 | 286 | 0.04\n",
      "0.00 | 286 | 0.04\n",
      "0.00 | 285 | 0.04\n",
      "0.00 | 285 | 0.04\n",
      "0.00 | 284 | 0.04\n",
      "0.00 | 283 | 0.04\n",
      "0.00 | 283 | 0.04\n",
      "0.00 | 283 | 0.04\n",
      "0.00 | 283 | 0.04\n",
      "0.00 | 282 | 0.04\n",
      "0.00 | 281 | 0.04\n",
      "0.00 | 281 | 0.04\n",
      "0.00 | 280 | 0.04\n",
      "0.00 | 279 | 0.04\n",
      "0.00 | 278 | 0.04\n",
      "0.00 | 278 | 0.04\n",
      "0.00 | 277 | 0.04\n",
      "0.00 | 277 | 0.04\n",
      "0.00 | 276 | 0.04\n",
      "0.00 | 275 | 0.04\n",
      "0.00 | 275 | 0.04\n",
      "0.00 | 275 | 0.04\n",
      "0.00 | 274 | 0.03\n",
      "0.00 | 272 | 0.03\n",
      "0.00 | 272 | 0.03\n",
      "0.00 | 272 | 0.03\n",
      "0.00 | 272 | 0.03\n",
      "0.00 | 272 | 0.03\n",
      "0.00 | 272 | 0.03\n",
      "0.00 | 270 | 0.03\n",
      "0.00 | 270 | 0.03\n",
      "0.00 | 270 | 0.03\n",
      "0.00 | 268 | 0.03\n",
      "0.00 | 266 | 0.03\n",
      "0.00 | 266 | 0.03\n",
      "0.00 | 266 | 0.03\n",
      "0.00 | 266 | 0.03\n",
      "0.00 | 265 | 0.03\n",
      "0.00 | 264 | 0.03\n",
      "0.00 | 263 | 0.03\n",
      "0.00 | 261 | 0.03\n",
      "0.00 | 258 | 0.03\n",
      "0.00 | 257 | 0.03\n",
      "0.00 | 256 | 0.03\n",
      "0.00 | 254 | 0.03\n",
      "0.00 | 252 | 0.03\n",
      "0.00 | 250 | 0.03\n",
      "0.00 | 250 | 0.03\n",
      "0.00 | 249 | 0.03\n",
      "0.00 | 249 | 0.03\n",
      "0.00 | 249 | 0.03\n",
      "0.00 | 249 | 0.03\n",
      "0.00 | 248 | 0.03\n",
      "0.00 | 248 | 0.03\n",
      "0.00 | 248 | 0.03\n",
      "0.00 | 248 | 0.03\n",
      "0.00 | 247 | 0.03\n",
      "0.00 | 247 | 0.03\n",
      "0.00 | 247 | 0.03\n",
      "0.00 | 245 | 0.03\n",
      "0.00 | 244 | 0.03\n",
      "0.00 | 243 | 0.03\n",
      "0.00 | 243 | 0.03\n",
      "0.00 | 243 | 0.03\n",
      "0.00 | 241 | 0.03\n",
      "0.00 | 239 | 0.03\n",
      "0.00 | 239 | 0.03\n",
      "0.00 | 238 | 0.03\n",
      "0.00 | 237 | 0.03\n",
      "0.00 | 237 | 0.03\n",
      "0.00 | 237 | 0.03\n",
      "0.00 | 236 | 0.03\n",
      "0.00 | 235 | 0.03\n",
      "0.00 | 235 | 0.03\n",
      "0.00 | 234 | 0.03\n",
      "0.00 | 234 | 0.03\n",
      "0.00 | 233 | 0.03\n",
      "0.00 | 233 | 0.03\n",
      "0.00 | 232 | 0.03\n",
      "0.00 | 232 | 0.03\n",
      "0.00 | 231 | 0.03\n",
      "0.00 | 231 | 0.03\n",
      "0.00 | 230 | 0.03\n",
      "0.00 | 229 | 0.03\n",
      "0.00 | 229 | 0.03\n",
      "0.00 | 229 | 0.03\n",
      "0.00 | 229 | 0.03\n",
      "0.00 | 227 | 0.03\n",
      "0.00 | 225 | 0.03\n",
      "0.00 | 225 | 0.03\n",
      "0.00 | 225 | 0.03\n",
      "0.00 | 225 | 0.03\n",
      "0.00 | 225 | 0.03\n",
      "0.00 | 225 | 0.03\n",
      "0.00 | 225 | 0.03\n",
      "0.00 | 224 | 0.03\n",
      "0.00 | 223 | 0.03\n",
      "0.00 | 223 | 0.03\n",
      "0.00 | 223 | 0.03\n",
      "0.00 | 221 | 0.03\n",
      "0.00 | 221 | 0.03\n",
      "0.00 | 220 | 0.03\n",
      "0.00 | 220 | 0.03\n",
      "0.00 | 220 | 0.03\n",
      "0.00 | 219 | 0.03\n",
      "0.00 | 218 | 0.03\n",
      "0.00 | 218 | 0.03\n",
      "0.00 | 217 | 0.03\n",
      "0.00 | 216 | 0.03\n",
      "0.00 | 216 | 0.03\n",
      "0.00 | 216 | 0.03\n",
      "0.00 | 216 | 0.03\n",
      "0.00 | 215 | 0.03\n",
      "0.00 | 215 | 0.03\n",
      "0.00 | 213 | 0.03\n",
      "0.00 | 211 | 0.03\n",
      "0.00 | 211 | 0.03\n",
      "0.00 | 211 | 0.03\n",
      "0.00 | 210 | 0.03\n",
      "0.00 | 209 | 0.03\n",
      "0.00 | 209 | 0.03\n",
      "0.00 | 209 | 0.03\n",
      "0.00 | 209 | 0.03\n",
      "0.00 | 209 | 0.03\n",
      "0.00 | 209 | 0.03\n",
      "0.00 | 209 | 0.03\n",
      "0.00 | 209 | 0.03\n",
      "0.00 | 209 | 0.03\n",
      "0.00 | 209 | 0.03\n",
      "0.00 | 206 | 0.03\n",
      "0.00 | 205 | 0.03\n",
      "0.00 | 203 | 0.03\n",
      "0.00 | 203 | 0.03\n",
      "0.00 | 202 | 0.03\n",
      "0.00 | 201 | 0.03\n",
      "0.00 | 201 | 0.03\n",
      "0.00 | 200 | 0.03\n",
      "0.00 | 200 | 0.03\n",
      "0.00 | 199 | 0.03\n",
      "0.00 | 199 | 0.03\n",
      "0.00 | 199 | 0.03\n",
      "0.00 | 199 | 0.03\n",
      "0.00 | 198 | 0.03\n",
      "0.00 | 197 | 0.03\n",
      "0.00 | 194 | 0.03\n",
      "0.00 | 194 | 0.03\n",
      "0.00 | 194 | 0.03\n",
      "0.00 | 194 | 0.03\n",
      "0.00 | 194 | 0.03\n",
      "0.00 | 194 | 0.03\n",
      "0.00 | 192 | 0.03\n",
      "0.00 | 190 | 0.03\n",
      "0.00 | 190 | 0.03\n",
      "0.00 | 190 | 0.03\n",
      "0.00 | 190 | 0.03\n",
      "0.00 | 189 | 0.03\n",
      "0.00 | 189 | 0.03\n",
      "0.00 | 189 | 0.03\n",
      "0.00 | 188 | 0.03\n",
      "0.00 | 188 | 0.03\n",
      "0.00 | 188 | 0.03\n",
      "0.00 | 188 | 0.03\n",
      "0.00 | 187 | 0.03\n",
      "0.00 | 186 | 0.03\n",
      "0.00 | 186 | 0.03\n",
      "0.00 | 186 | 0.03\n",
      "0.00 | 185 | 0.03\n",
      "0.00 | 185 | 0.03\n",
      "0.00 | 185 | 0.03\n",
      "0.00 | 184 | 0.03\n",
      "0.00 | 179 | 0.03\n",
      "0.00 | 178 | 0.03\n",
      "0.00 | 177 | 0.03\n",
      "0.00 | 177 | 0.03\n",
      "0.00 | 176 | 0.03\n",
      "0.00 | 175 | 0.02\n",
      "0.00 | 175 | 0.02\n",
      "0.00 | 175 | 0.02\n",
      "0.00 | 175 | 0.02\n",
      "0.00 | 175 | 0.02\n",
      "0.00 | 175 | 0.02\n",
      "0.00 | 173 | 0.02\n",
      "0.00 | 172 | 0.02\n",
      "0.00 | 171 | 0.02\n",
      "0.00 | 170 | 0.02\n",
      "0.00 | 170 | 0.02\n",
      "0.00 | 169 | 0.02\n",
      "0.00 | 168 | 0.02\n",
      "0.00 | 168 | 0.02\n",
      "0.00 | 168 | 0.02\n",
      "0.00 | 168 | 0.02\n",
      "0.00 | 168 | 0.02\n",
      "0.00 | 166 | 0.02\n",
      "0.00 | 165 | 0.02\n",
      "0.00 | 164 | 0.02\n",
      "0.00 | 164 | 0.02\n",
      "0.00 | 164 | 0.02\n",
      "0.00 | 162 | 0.02\n",
      "0.00 | 159 | 0.02\n",
      "0.00 | 159 | 0.02\n",
      "0.00 | 159 | 0.02\n",
      "0.00 | 159 | 0.02\n",
      "0.00 | 156 | 0.02\n",
      "0.00 | 155 | 0.02\n",
      "0.00 | 154 | 0.02\n",
      "0.00 | 154 | 0.02\n",
      "0.00 | 154 | 0.02\n",
      "0.00 | 154 | 0.02\n",
      "0.00 | 153 | 0.02\n",
      "0.00 | 153 | 0.02\n",
      "0.00 | 151 | 0.02\n",
      "0.00 | 151 | 0.02\n",
      "0.00 | 149 | 0.02\n",
      "0.00 | 148 | 0.02\n",
      "0.00 | 148 | 0.02\n",
      "0.00 | 148 | 0.02\n",
      "0.00 | 146 | 0.02\n",
      "0.00 | 146 | 0.02\n",
      "0.00 | 146 | 0.02\n",
      "0.00 | 146 | 0.02\n",
      "0.00 | 146 | 0.02\n",
      "0.00 | 144 | 0.02\n",
      "0.00 | 143 | 0.02\n",
      "0.00 | 143 | 0.02\n",
      "0.00 | 143 | 0.02\n",
      "0.00 | 142 | 0.02\n",
      "0.00 | 141 | 0.02\n",
      "0.00 | 140 | 0.02\n",
      "0.00 | 139 | 0.02\n",
      "0.00 | 137 | 0.02\n",
      "0.00 | 135 | 0.02\n",
      "0.00 | 134 | 0.02\n",
      "0.00 | 133 | 0.02\n",
      "0.00 | 133 | 0.02\n",
      "0.00 | 133 | 0.02\n",
      "0.00 | 133 | 0.02\n",
      "0.00 | 133 | 0.02\n",
      "0.00 | 133 | 0.02\n",
      "0.00 | 133 | 0.02\n",
      "0.00 | 132 | 0.02\n",
      "0.00 | 131 | 0.02\n",
      "0.00 | 130 | 0.02\n",
      "0.00 | 129 | 0.02\n",
      "0.00 | 129 | 0.02\n",
      "0.00 | 127 | 0.02\n",
      "0.00 | 125 | 0.02\n",
      "0.00 | 125 | 0.02\n",
      "0.00 | 123 | 0.02\n",
      "0.00 | 123 | 0.02\n",
      "0.00 | 121 | 0.02\n",
      "0.00 | 120 | 0.02\n",
      "0.00 | 120 | 0.02\n",
      "0.00 | 119 | 0.02\n",
      "0.00 | 117 | 0.02\n",
      "0.00 | 116 | 0.02\n",
      "0.00 | 115 | 0.02\n",
      "0.00 | 115 | 0.02\n",
      "0.00 | 114 | 0.02\n",
      "0.00 | 114 | 0.02\n",
      "0.00 | 113 | 0.02\n",
      "0.00 | 111 | 0.02\n",
      "0.00 | 111 | 0.02\n",
      "0.00 | 109 | 0.02\n",
      "0.00 | 108 | 0.02\n",
      "0.00 | 108 | 0.02\n",
      "0.00 | 107 | 0.02\n",
      "0.00 | 107 | 0.02\n",
      "0.00 | 107 | 0.02\n",
      "0.00 | 106 | 0.02\n",
      "0.00 | 106 | 0.02\n",
      "0.00 | 106 | 0.02\n",
      "0.00 | 104 | 0.02\n",
      "0.00 | 103 | 0.02\n",
      "0.00 | 102 | 0.02\n",
      "0.00 | 101 | 0.02\n",
      "0.00 | 101 | 0.02\n",
      "0.00 | 100 | 0.02\n",
      "0.00 | 99 | 0.02\n",
      "0.00 | 99 | 0.02\n",
      "0.00 | 99 | 0.02\n",
      "0.00 | 98 | 0.02\n",
      "0.00 | 98 | 0.02\n",
      "0.00 | 98 | 0.02\n",
      "0.00 | 98 | 0.02\n",
      "0.00 | 98 | 0.02\n",
      "0.00 | 98 | 0.02\n",
      "0.00 | 98 | 0.02\n",
      "0.00 | 98 | 0.02\n",
      "0.00 | 97 | 0.02\n",
      "0.00 | 96 | 0.01\n",
      "0.00 | 96 | 0.01\n",
      "0.00 | 96 | 0.01\n",
      "0.00 | 96 | 0.01\n",
      "0.00 | 96 | 0.01\n",
      "0.00 | 96 | 0.01\n",
      "0.00 | 96 | 0.01\n",
      "0.00 | 96 | 0.01\n",
      "0.00 | 95 | 0.01\n",
      "0.00 | 94 | 0.01\n",
      "0.00 | 94 | 0.01\n",
      "0.00 | 94 | 0.01\n",
      "0.00 | 93 | 0.01\n",
      "0.00 | 92 | 0.01\n",
      "0.00 | 91 | 0.01\n",
      "0.00 | 91 | 0.01\n",
      "0.00 | 91 | 0.01\n",
      "0.00 | 91 | 0.01\n",
      "0.00 | 91 | 0.01\n",
      "0.00 | 90 | 0.01\n",
      "0.00 | 88 | 0.01\n",
      "0.00 | 88 | 0.01\n",
      "0.00 | 86 | 0.01\n",
      "0.00 | 86 | 0.01\n",
      "0.00 | 86 | 0.01\n",
      "0.00 | 84 | 0.01\n",
      "0.00 | 84 | 0.01\n",
      "0.00 | 84 | 0.01\n",
      "0.00 | 82 | 0.01\n",
      "0.00 | 82 | 0.01\n",
      "0.00 | 81 | 0.01\n",
      "0.00 | 79 | 0.01\n",
      "0.00 | 79 | 0.01\n",
      "0.00 | 79 | 0.01\n",
      "0.00 | 79 | 0.01\n",
      "0.00 | 78 | 0.01\n",
      "0.00 | 78 | 0.01\n",
      "0.00 | 78 | 0.01\n",
      "0.00 | 78 | 0.01\n",
      "0.00 | 78 | 0.01\n",
      "0.00 | 78 | 0.01\n",
      "0.00 | 78 | 0.01\n",
      "0.00 | 75 | 0.01\n",
      "0.00 | 75 | 0.01\n",
      "0.00 | 74 | 0.01\n",
      "0.00 | 74 | 0.01\n",
      "0.00 | 72 | 0.01\n",
      "0.00 | 70 | 0.01\n",
      "0.00 | 69 | 0.01\n",
      "0.00 | 69 | 0.01\n",
      "0.00 | 68 | 0.01\n",
      "0.00 | 66 | 0.01\n",
      "0.00 | 65 | 0.01\n",
      "0.00 | 65 | 0.01\n",
      "0.00 | 63 | 0.01\n",
      "0.00 | 63 | 0.01\n",
      "0.00 | 61 | 0.01\n",
      "0.00 | 58 | 0.01\n",
      "0.00 | 58 | 0.01\n",
      "0.00 | 57 | 0.01\n",
      "0.00 | 57 | 0.01\n",
      "0.00 | 57 | 0.01\n",
      "0.00 | 56 | 0.01\n",
      "0.00 | 55 | 0.01\n",
      "0.00 | 55 | 0.01\n",
      "0.00 | 54 | 0.01\n",
      "0.00 | 51 | 0.01\n",
      "0.00 | 51 | 0.01\n",
      "0.00 | 50 | 0.01\n",
      "0.00 | 50 | 0.01\n",
      "0.00 | 50 | 0.01\n",
      "0.00 | 50 | 0.01\n",
      "0.00 | 49 | 0.01\n",
      "0.00 | 48 | 0.01\n",
      "0.00 | 47 | 0.01\n",
      "0.00 | 47 | 0.01\n",
      "0.00 | 47 | 0.01\n",
      "0.00 | 47 | 0.01\n",
      "0.00 | 47 | 0.01\n",
      "0.00 | 47 | 0.01\n",
      "0.00 | 46 | 0.01\n",
      "0.00 | 46 | 0.01\n",
      "0.00 | 46 | 0.01\n",
      "0.00 | 46 | 0.01\n",
      "0.00 | 46 | 0.01\n",
      "0.00 | 46 | 0.01\n",
      "0.00 | 46 | 0.01\n",
      "0.00 | 46 | 0.01\n",
      "0.00 | 45 | 0.01\n",
      "0.00 | 45 | 0.01\n",
      "0.00 | 45 | 0.01\n",
      "0.00 | 43 | 0.01\n",
      "0.00 | 42 | 0.01\n",
      "0.00 | 41 | 0.01\n",
      "0.00 | 40 | 0.01\n",
      "0.00 | 39 | 0.01\n",
      "0.00 | 39 | 0.01\n",
      "0.00 | 39 | 0.01\n",
      "0.00 | 39 | 0.01\n",
      "0.00 | 39 | 0.01\n",
      "0.00 | 38 | 0.01\n",
      "0.00 | 37 | 0.01\n",
      "0.00 | 36 | 0.01\n",
      "0.00 | 36 | 0.01\n",
      "0.00 | 34 | 0.01\n",
      "0.00 | 33 | 0.01\n",
      "0.00 | 33 | 0.01\n",
      "0.00 | 32 | 0.01\n",
      "0.00 | 32 | 0.01\n",
      "0.00 | 32 | 0.01\n",
      "0.00 | 32 | 0.01\n",
      "0.00 | 31 | 0.01\n",
      "0.00 | 31 | 0.01\n",
      "0.00 | 31 | 0.01\n",
      "0.00 | 29 | 0.00\n",
      "0.00 | 28 | 0.00\n",
      "0.00 | 26 | 0.00\n",
      "0.00 | 25 | 0.00\n",
      "0.00 | 25 | 0.00\n",
      "0.00 | 25 | 0.00\n",
      "0.00 | 25 | 0.00\n",
      "0.00 | 24 | 0.00\n",
      "0.00 | 23 | 0.00\n",
      "0.00 | 23 | 0.00\n",
      "0.00 | 23 | 0.00\n",
      "0.00 | 23 | 0.00\n",
      "0.00 | 23 | 0.00\n",
      "0.00 | 23 | 0.00\n",
      "0.00 | 23 | 0.00\n",
      "0.00 | 23 | 0.00\n",
      "0.00 | 22 | 0.00\n",
      "0.00 | 22 | 0.00\n",
      "0.00 | 22 | 0.00\n",
      "0.00 | 22 | 0.00\n",
      "0.00 | 22 | 0.00\n",
      "0.00 | 22 | 0.00\n",
      "0.00 | 21 | 0.00\n",
      "0.00 | 21 | 0.00\n",
      "0.00 | 20 | 0.00\n",
      "0.00 | 20 | 0.00\n",
      "0.00 | 19 | 0.00\n",
      "0.00 | 19 | 0.00\n",
      "0.00 | 19 | 0.00\n",
      "0.00 | 19 | 0.00\n",
      "0.00 | 18 | 0.00\n",
      "0.00 | 18 | 0.00\n",
      "0.00 | 18 | 0.00\n",
      "0.00 | 18 | 0.00\n",
      "0.00 | 18 | 0.00\n",
      "0.00 | 18 | 0.00\n",
      "0.00 | 18 | 0.00\n",
      "0.00 | 17 | 0.00\n",
      "0.00 | 17 | 0.00\n",
      "0.00 | 17 | 0.00\n",
      "0.00 | 17 | 0.00\n",
      "0.00 | 17 | 0.00\n",
      "0.00 | 17 | 0.00\n",
      "0.00 | 17 | 0.00\n",
      "0.00 | 17 | 0.00\n",
      "0.00 | 17 | 0.00\n",
      "0.00 | 16 | 0.00\n",
      "0.00 | 16 | 0.00\n",
      "0.00 | 16 | 0.00\n",
      "0.00 | 15 | 0.00\n",
      "0.00 | 15 | 0.00\n",
      "0.00 | 15 | 0.00\n",
      "0.00 | 15 | 0.00\n",
      "0.00 | 15 | 0.00\n",
      "0.00 | 15 | 0.00\n",
      "0.00 | 15 | 0.00\n",
      "0.00 | 14 | 0.00\n",
      "0.00 | 14 | 0.00\n",
      "0.00 | 13 | 0.00\n",
      "0.00 | 13 | 0.00\n",
      "0.00 | 13 | 0.00\n",
      "0.00 | 13 | 0.00\n",
      "0.00 | 13 | 0.00\n",
      "0.00 | 13 | 0.00\n",
      "0.00 | 13 | 0.00\n",
      "0.00 | 13 | 0.00\n",
      "0.00 | 13 | 0.00\n",
      "0.00 | 13 | 0.00\n",
      "0.00 | 13 | 0.00\n",
      "0.00 | 13 | 0.00\n",
      "0.00 | 12 | 0.00\n",
      "0.00 | 11 | 0.00\n",
      "0.00 | 11 | 0.00\n",
      "0.00 | 11 | 0.00\n",
      "0.00 | 11 | 0.00\n",
      "0.00 | 11 | 0.00\n",
      "0.00 | 11 | 0.00\n",
      "0.00 | 11 | 0.00\n",
      "0.00 | 11 | 0.00\n",
      "0.00 | 11 | 0.00\n",
      "0.00 | 9 | 0.00\n",
      "0.00 | 9 | 0.00\n",
      "0.00 | 9 | 0.00\n",
      "0.00 | 9 | 0.00\n",
      "0.00 | 9 | 0.00\n",
      "0.00 | 8 | 0.00\n",
      "0.00 | 8 | 0.00\n",
      "0.00 | 8 | 0.00\n",
      "0.00 | 8 | 0.00\n",
      "0.00 | 8 | 0.00\n",
      "0.00 | 8 | 0.00\n",
      "0.00 | 8 | 0.00\n",
      "0.00 | 8 | 0.00\n",
      "0.00 | 8 | 0.00\n",
      "0.00 | 8 | 0.00\n",
      "0.00 | 8 | 0.00\n",
      "0.00 | 8 | 0.00\n",
      "0.00 | 8 | 0.00\n",
      "0.00 | 8 | 0.00\n",
      "0.00 | 7 | 0.00\n",
      "0.00 | 7 | 0.00\n",
      "0.00 | 7 | 0.00\n",
      "0.00 | 7 | 0.00\n",
      "0.00 | 7 | 0.00\n",
      "0.00 | 7 | 0.00\n",
      "0.00 | 7 | 0.00\n",
      "0.00 | 7 | 0.00\n",
      "0.00 | 7 | 0.00\n",
      "0.00 | 6 | 0.00\n",
      "0.00 | 6 | 0.00\n",
      "0.00 | 6 | 0.00\n",
      "0.00 | 6 | 0.00\n",
      "0.00 | 6 | 0.00\n",
      "0.00 | 6 | 0.00\n",
      "0.00 | 6 | 0.00\n",
      "0.00 | 6 | 0.00\n",
      "0.00 | 6 | 0.00\n",
      "0.00 | 6 | 0.00\n",
      "0.00 | 6 | 0.00\n",
      "0.00 | 6 | 0.00\n",
      "0.00 | 6 | 0.00\n",
      "0.00 | 6 | 0.00\n",
      "0.00 | 5 | 0.00\n",
      "0.00 | 5 | 0.00\n",
      "0.00 | 5 | 0.00\n",
      "0.00 | 5 | 0.00\n",
      "0.00 | 4 | 0.00\n",
      "0.00 | 3 | 0.00\n",
      "0.00 | 3 | 0.00\n",
      "0.00 | 3 | 0.00\n",
      "0.00 | 2 | 0.00\n",
      "0.00 | 2 | 0.00\n",
      "0.00 | 2 | 0.00\n",
      "0.00 | 2 | 0.00\n",
      "0.00 | 2 | 0.00\n",
      "0.00 | 2 | 0.00\n",
      "0.00 | 2 | 0.00\n",
      "0.00 | 2 | 0.00\n",
      "0.00 | 2 | 0.00\n",
      "0.00 | 2 | 0.00\n",
      "0.00 | 2 | 0.00\n",
      "0.00 | 2 | 0.00\n",
      "0.00 | 2 | 0.00\n",
      "0.00 | 2 | 0.00\n",
      "0.00 | 2 | 0.00\n",
      "0.00 | 2 | 0.00\n",
      "0.00 | 2 | 0.00\n",
      "0.00 | 2 | 0.00\n",
      "0.00 | 2 | 0.00\n",
      "0.00 | 2 | 0.00\n",
      "0.00 | 2 | 0.00\n",
      "0.00 | 2 | 0.00\n",
      "0.00 | 2 | 0.00\n",
      "0.00 | 2 | 0.00\n",
      "0.00 | 2 | 0.00\n",
      "0.00 | 1 | 0.00\n",
      "0.00 | 1 | 0.00\n",
      "0.00 | 1 | 0.00\n",
      "0.00 | 1 | 0.00\n",
      "0.00 | 0 | 0.00\n"
     ]
    }
   ],
   "source": [
    "total_mass = volume.sum()\n",
    "total_voxel_count = volume.numel()\n",
    "n_pts = 1000\n",
    "mass = np.zeros(n_pts)\n",
    "voxel_count = np.zeros(n_pts)\n",
    "thresholds = np.linspace(0, volume.max(), n_pts)\n",
    "for idx_thresh, thresh in enumerate(thresholds):\n",
    "    idx_above_thresh = volume > thresh\n",
    "    voxel_count[idx_thresh] = number_of_voxels_above_thresh = idx_above_thresh.sum()\n",
    "    mass[idx_thresh] = mass_above_thresh = volume[idx_above_thresh].sum() / total_mass\n",
    "    print(\n",
    "        \"{:1.2f} | {:} | {:1.2f}\".format(\n",
    "            thresh, number_of_voxels_above_thresh, mass_above_thresh\n",
    "        )\n",
    "    )"
   ]
  },
  {
   "cell_type": "code",
   "execution_count": 9,
   "metadata": {},
   "outputs": [
    {
     "data": {
      "image/png": "[encoded data removed]",
      "text/plain": [
       "<Figure size 640x480 with 1 Axes>"
      ]
     },
     "metadata": {},
     "output_type": "display_data"
    },
    {
     "data": {
      "image/png": "[encoded data removed]",
      "text/plain": [
       "<Figure size 640x480 with 1 Axes>"
      ]
     },
     "metadata": {},
     "output_type": "display_data"
    }
   ],
   "source": [
    "sr = pd.Series(mass, index=voxel_count)\n",
    "sr.plot(logx=True)\n",
    "\n",
    "plt.show()\n",
    "\n",
    "sr = pd.Series(thresholds, index=voxel_count)\n",
    "sr.plot(logx=True, logy=True)\n",
    "plt.show()"
   ]
  },
  {
   "cell_type": "markdown",
   "metadata": {},
   "source": [
    "The top 100k voxels have almost all of the mass. So a good place for a threshold.\n",
    "\n",
    "Can also do some Fourier downsampling."
   ]
  },
  {
   "cell_type": "code",
   "execution_count": 10,
   "metadata": {},
   "outputs": [],
   "source": [
    "def return_top_k_voxel_idxs(volume, top_k):\n",
    "    thresh = np.sort(volume.flatten())[-top_k - 1]\n",
    "    idx_above_thresh = volume > thresh\n",
    "    return idx_above_thresh\n",
    "\n",
    "\n",
    "idx_above_thresh = return_top_k_voxel_idxs(volume, top_k=10**3)"
   ]
  },
  {
   "cell_type": "code",
   "execution_count": 11,
   "metadata": {},
   "outputs": [],
   "source": [
    "# n_downsample_pix = 50\n",
    "# n_pix = volumes.shape[1]\n",
    "# start_idx = n_pix//2 - n_downsample_pix//2\n",
    "# end_idx = n_pix//2 + n_downsample_pix//2\n",
    "# volumes_downsampled = volumes[:, start_idx:end_idx, start_idx:end_idx, start_idx:end_idx]"
   ]
  },
  {
   "cell_type": "code",
   "execution_count": 12,
   "metadata": {},
   "outputs": [
    {
     "name": "stderr",
     "output_type": "stream",
     "text": [
      "/mnt/home/gwoollard/software/mambaforge/envs/cryo_challenge/lib/python3.11/site-packages/torch/functional.py:513: UserWarning: torch.meshgrid: in an upcoming release, it will be required to pass the indexing argument. (Triggered internally at ../aten/src/ATen/native/TensorShape.cpp:3609.)\n",
      "  return _VF.meshgrid(tensors, **kwargs)  # type: ignore[attr-defined]\n"
     ]
    }
   ],
   "source": [
    "def make_sparse_cost(idx_above_thresh):\n",
    "    n_downsample_pix = len(idx_above_thresh)\n",
    "    coordinates = torch.meshgrid(\n",
    "        torch.arange(n_downsample_pix),\n",
    "        torch.arange(n_downsample_pix),\n",
    "        torch.arange(n_downsample_pix),\n",
    "    )\n",
    "    coordinates = torch.stack(coordinates, dim=-1)\n",
    "    coordinates = coordinates.reshape(-1, 3).float()\n",
    "    sparse_coordiantes = coordinates[idx_above_thresh.flatten()]\n",
    "    pairwise_distances = torch.cdist(sparse_coordiantes, sparse_coordiantes)\n",
    "    return pairwise_distances\n",
    "\n",
    "\n",
    "pairwise_distances = make_sparse_cost(idx_above_thresh)"
   ]
  },
  {
   "cell_type": "code",
   "execution_count": 13,
   "metadata": {},
   "outputs": [],
   "source": [
    "# pd.Series(volumes_downsampled[0].numpy().flatten()).hist(bins=100)"
   ]
  },
  {
   "cell_type": "code",
   "execution_count": 321,
   "metadata": {},
   "outputs": [],
   "source": [
    "def normalize_mass_to_one(p):\n",
    "    p = p - p.min()\n",
    "    return p / p.sum()\n",
    "\n",
    "\n",
    "top_k = 500\n",
    "n_downsample_pix = 25\n",
    "\n",
    "idx = 42  # 27\n",
    "volume_1 = downsample_volume(volumes[idx], n_downsample_pix)\n",
    "idx_above_thresh_1 = return_top_k_voxel_idxs(volume_1, top_k)\n",
    "pairwise_distances_1 = make_sparse_cost(idx_above_thresh_1)\n",
    "\n",
    "idx = 32\n",
    "volume_2 = downsample_volume(volumes[idx], n_downsample_pix)\n",
    "idx_above_thresh_2 = return_top_k_voxel_idxs(volume_2, top_k)\n",
    "pairwise_distances_2 = make_sparse_cost(idx_above_thresh_2)"
   ]
  },
  {
   "cell_type": "code",
   "execution_count": 322,
   "metadata": {},
   "outputs": [
    {
     "data": {
      "text/plain": [
       "torch.Size([25, 25, 25])"
      ]
     },
     "execution_count": 322,
     "metadata": {},
     "output_type": "execute_result"
    }
   ],
   "source": [
    "volume_1.shape"
   ]
  },
  {
   "cell_type": "code",
   "execution_count": 323,
   "metadata": {},
   "outputs": [
    {
     "data": {
      "image/png": "[encoded data removed]",
      "text/plain": [
       "<Figure size 640x480 with 2 Axes>"
      ]
     },
     "metadata": {},
     "output_type": "display_data"
    },
    {
     "data": {
      "image/png": "[encoded data removed]",
      "text/plain": [
       "<Figure size 640x480 with 2 Axes>"
      ]
     },
     "metadata": {},
     "output_type": "display_data"
    },
    {
     "data": {
      "image/png": "[encoded data removed]",
      "text/plain": [
       "<Figure size 640x480 with 2 Axes>"
      ]
     },
     "metadata": {},
     "output_type": "display_data"
    }
   ],
   "source": [
    "volume_1[~idx_above_thresh_1] = 0\n",
    "volume_2[~idx_above_thresh_2] = 0\n",
    "\n",
    "fig, axes = plt.subplots(1, 2)\n",
    "axes[0].imshow(volume_1.sum(0))\n",
    "axes[1].imshow(volume_2.sum(0))\n",
    "plt.show()\n",
    "\n",
    "fig, axes = plt.subplots(1, 2)\n",
    "axes[0].imshow(volume_1.sum(1))\n",
    "axes[1].imshow(volume_2.sum(1))\n",
    "plt.show()\n",
    "\n",
    "fig, axes = plt.subplots(1, 2)\n",
    "axes[0].imshow(volume_1.sum(2))\n",
    "axes[1].imshow(volume_2.sum(2))\n",
    "plt.show()"
   ]
  },
  {
   "cell_type": "code",
   "execution_count": 347,
   "metadata": {},
   "outputs": [
    {
     "name": "stdout",
     "output_type": "stream",
     "text": [
      "It.  |Err         \n",
      "-------------------\n",
      "    0|     nan|\n"
     ]
    },
    {
     "name": "stderr",
     "output_type": "stream",
     "text": [
      "/mnt/home/gwoollard/software/mambaforge/envs/cryo_challenge/lib/python3.11/site-packages/ot/backend.py:1150: RuntimeWarning: overflow encountered in exp\n",
      "  return np.exp(a)\n",
      "/mnt/home/gwoollard/software/mambaforge/envs/cryo_challenge/lib/python3.11/site-packages/ot/gromov/_bregman.py:501: RuntimeWarning: invalid value encountered in multiply\n",
      "  T = T * nx.exp(- df(T) / epsilon)\n",
      "/mnt/home/gwoollard/software/mambaforge/envs/cryo_challenge/lib/python3.11/site-packages/ot/gromov/_bregman.py:503: RuntimeWarning: invalid value encountered in multiply\n",
      "  T = nx.reshape(row_scaling, (-1, 1)) * T\n"
     ]
    }
   ],
   "source": [
    "p = normalize_mass_to_one(volume_1[idx_above_thresh_1].numpy().flatten()).astype(\n",
    "    np.float64\n",
    ")\n",
    "q = normalize_mass_to_one(volume_2[idx_above_thresh_2].numpy().flatten()).astype(\n",
    "    np.float64\n",
    ")\n",
    "\n",
    "\n",
    "gw_dist, log = ot.gromov.BAPG_gromov_wasserstein2(\n",
    "    C1=(pairwise_distances_1.numpy() / pairwise_distances_1.numpy().max()).astype(\n",
    "        np.float64\n",
    "    ),\n",
    "    C2=(pairwise_distances_2.numpy() / pairwise_distances_2.numpy().max()).astype(\n",
    "        np.float64\n",
    "    ),\n",
    "    p=p,\n",
    "    q=q,\n",
    "    log=True,\n",
    "    verbose=True,\n",
    "    tol=1e-13,\n",
    "    max_iter=1000,\n",
    "    symmetric=True,\n",
    "    loss_fun=\"square_loss\",\n",
    "    epsilon=0.001,\n",
    "    # G0 = log['T'].T,\n",
    ")"
   ]
  },
  {
   "cell_type": "code",
   "execution_count": 325,
   "metadata": {},
   "outputs": [
    {
     "data": {
      "text/plain": [
       "<Axes: >"
      ]
     },
     "execution_count": 325,
     "metadata": {},
     "output_type": "execute_result"
    },
    {
     "data": {
      "image/png": "[encoded data removed]",
      "text/plain": [
       "<Figure size 640x480 with 1 Axes>"
      ]
     },
     "metadata": {},
     "output_type": "display_data"
    }
   ],
   "source": [
    "pd.Series(log[\"loss\"]).plot(logy=True)"
   ]
  },
  {
   "cell_type": "code",
   "execution_count": 326,
   "metadata": {},
   "outputs": [
    {
     "data": {
      "text/plain": [
       "<Axes: >"
      ]
     },
     "execution_count": 326,
     "metadata": {},
     "output_type": "execute_result"
    },
    {
     "data": {
      "image/png": "[encoded data removed]",
      "text/plain": [
       "<Figure size 640x480 with 1 Axes>"
      ]
     },
     "metadata": {},
     "output_type": "display_data"
    }
   ],
   "source": [
    "pd.Series(log[\"loss\"]).plot()"
   ]
  },
  {
   "cell_type": "code",
   "execution_count": 332,
   "metadata": {},
   "outputs": [
    {
     "name": "stdout",
     "output_type": "stream",
     "text": [
      "0\n",
      "idx_2=0\n",
      "idx_2=1\n",
      "idx_2=2\n",
      "idx_2=3\n",
      "idx_2=4\n",
      "idx_2=5\n",
      "idx_2=6\n",
      "idx_2=7\n",
      "idx_2=8\n",
      "idx_2=9\n",
      "idx_2=10\n",
      "idx_2=11\n",
      "idx_2=12\n",
      "idx_2=13\n",
      "idx_2=14\n",
      "idx_2=15\n",
      "idx_2=16\n",
      "idx_2=17\n",
      "idx_2=18\n",
      "idx_2=19\n",
      "idx_2=20\n",
      "idx_2=21\n",
      "idx_2=22\n",
      "idx_2=23\n",
      "idx_2=24\n",
      "idx_2=25\n",
      "idx_2=26\n",
      "idx_2=27\n",
      "idx_2=28\n",
      "idx_2=29\n",
      "idx_2=30\n",
      "idx_2=31\n",
      "idx_2=32\n",
      "idx_2=33\n",
      "idx_2=34\n",
      "idx_2=35\n",
      "idx_2=36\n",
      "idx_2=37\n",
      "idx_2=38\n",
      "idx_2=39\n",
      "idx_2=40\n",
      "idx_2=41\n",
      "idx_2=42\n",
      "idx_2=43\n",
      "idx_2=44\n",
      "idx_2=45\n",
      "idx_2=46\n",
      "idx_2=47\n",
      "idx_2=48\n",
      "idx_2=49\n",
      "idx_2=50\n",
      "idx_2=51\n",
      "idx_2=52\n",
      "idx_2=53\n",
      "idx_2=54\n",
      "idx_2=55\n",
      "idx_2=56\n",
      "idx_2=57\n",
      "idx_2=58\n",
      "idx_2=59\n",
      "idx_2=60\n",
      "idx_2=61\n",
      "idx_2=62\n",
      "idx_2=63\n",
      "idx_2=64\n",
      "idx_2=65\n",
      "idx_2=66\n",
      "idx_2=67\n",
      "idx_2=68\n",
      "idx_2=69\n",
      "idx_2=70\n",
      "idx_2=71\n",
      "idx_2=72\n",
      "idx_2=73\n",
      "idx_2=74\n",
      "idx_2=75\n",
      "idx_2=76\n",
      "idx_2=77\n",
      "idx_2=78\n",
      "idx_2=79\n"
     ]
    }
   ],
   "source": [
    "volume_1_idxs = [32]  # range(0, 80, 5)\n",
    "volume_2_idxs = range(0, 80, 1)\n",
    "gw_distances = np.zeros((len(volume_1_idxs), len(volume_2_idxs)))\n",
    "exponent = 0.8\n",
    "\n",
    "for idx_1, vol_idx_1 in enumerate(volume_1_idxs):\n",
    "    print(idx_1)\n",
    "    volume_1 = downsample_volume(volumes[vol_idx_1], n_downsample_pix)\n",
    "    idx_above_thresh_1 = return_top_k_voxel_idxs(volume_1, top_k)\n",
    "    pairwise_distances_1 = make_sparse_cost(idx_above_thresh_1)\n",
    "\n",
    "    for idx_2, vol_idx_2 in enumerate(volume_2_idxs):\n",
    "        if idx_1 > idx_2:\n",
    "            continue\n",
    "        print(f\"idx_2={idx_2}\")\n",
    "        volume_2 = downsample_volume(volumes[vol_idx_2], n_downsample_pix)\n",
    "        idx_above_thresh_2 = return_top_k_voxel_idxs(volume_2, top_k)\n",
    "        pairwise_distances_2 = make_sparse_cost(idx_above_thresh_2)\n",
    "\n",
    "        p = normalize_mass_to_one(volume_1[idx_above_thresh_1].numpy().flatten())\n",
    "        q = normalize_mass_to_one(volume_2[idx_above_thresh_2].numpy().flatten())\n",
    "        C1 = (\n",
    "            pairwise_distances_1.numpy() / pairwise_distances_1.numpy().max()\n",
    "        ) ** exponent\n",
    "        C2 = (\n",
    "            pairwise_distances_2.numpy() / pairwise_distances_2.numpy().max()\n",
    "        ) ** exponent\n",
    "\n",
    "        gw_dist, log = ot.gromov_wasserstein2(\n",
    "            C1=C1.astype(np.float64),\n",
    "            C2=C2.astype(np.float64),\n",
    "            p=p.astype(np.float64),\n",
    "            q=q.astype(np.float64),\n",
    "            log=True,\n",
    "            verbose=False,\n",
    "            max_iter=10000,\n",
    "            tol_abs=1e-11,\n",
    "            # G0=\n",
    "        )\n",
    "        # gw_distances[idx_1, idx_2] = gw_distances[idx_2, idx_1] = gw_dist.item()\n",
    "        gw_distances[idx_1, idx_2] = gw_dist.item()"
   ]
  },
  {
   "cell_type": "code",
   "execution_count": 333,
   "metadata": {},
   "outputs": [
    {
     "data": {
      "text/plain": [
       "np.int64(79)"
      ]
     },
     "execution_count": 333,
     "metadata": {},
     "output_type": "execute_result"
    },
    {
     "data": {
      "image/png": "[encoded data removed]",
      "text/plain": [
       "<Figure size 640x480 with 1 Axes>"
      ]
     },
     "metadata": {},
     "output_type": "display_data"
    }
   ],
   "source": [
    "max_idx = gw_distances[0].argmax()\n",
    "pd.Series(gw_distances[0]).plot()\n",
    "max_idx"
   ]
  },
  {
   "cell_type": "code",
   "execution_count": 329,
   "metadata": {},
   "outputs": [
    {
     "data": {
      "text/plain": [
       "<Axes: ylabel='Frequency'>"
      ]
     },
     "execution_count": 329,
     "metadata": {},
     "output_type": "execute_result"
    },
    {
     "data": {
      "image/png": "[encoded data removed]",
      "text/plain": [
       "<Figure size 640x480 with 1 Axes>"
      ]
     },
     "metadata": {},
     "output_type": "display_data"
    }
   ],
   "source": [
    "pd.Series(gw_distances[0]).plot.hist()"
   ]
  },
  {
   "cell_type": "code",
   "execution_count": 330,
   "metadata": {},
   "outputs": [
    {
     "data": {
      "text/plain": [
       "<matplotlib.colorbar.Colorbar at 0x155169346990>"
      ]
     },
     "execution_count": 330,
     "metadata": {},
     "output_type": "execute_result"
    },
    {
     "data": {
      "image/png": "[encoded data removed]",
      "text/plain": [
       "<Figure size 640x480 with 2 Axes>"
      ]
     },
     "metadata": {},
     "output_type": "display_data"
    }
   ],
   "source": [
    "plt.imshow(gw_distances, cmap=\"gray\")\n",
    "plt.colorbar()"
   ]
  },
  {
   "cell_type": "markdown",
   "metadata": {},
   "source": [
    "# dask"
   ]
  },
  {
   "cell_type": "code",
   "execution_count": 119,
   "metadata": {},
   "outputs": [
    {
     "name": "stderr",
     "output_type": "stream",
     "text": [
      "/mnt/home/gwoollard/software/mambaforge/envs/cryo_challenge/lib/python3.11/site-packages/distributed/node.py:187: UserWarning: Port 8787 is already in use.\n",
      "Perhaps you already have a cluster running?\n",
      "Hosting the HTTP server on port 37445 instead\n",
      "  warnings.warn(\n"
     ]
    }
   ],
   "source": [
    "from dask import delayed, compute\n",
    "from dask.distributed import Client\n",
    "from dask.diagnostics import ProgressBar\n",
    "\n",
    "# # Initialize a Dask client for parallel computation\n",
    "client = Client(local_directory=\"/tmp\")"
   ]
  },
  {
   "cell_type": "code",
   "execution_count": null,
   "metadata": {},
   "outputs": [],
   "source": [
    "top_k = 3000\n",
    "n_downsample_pix = 64\n",
    "\n",
    "\n",
    "def prepare_volume_and_distance(volume, top_k=top_k, n_downsample_pix=n_downsample_pix):\n",
    "    volume = downsample_volume(volume, n_downsample_pix)\n",
    "    idx_above_thresh = return_top_k_voxel_idxs(volume, top_k)\n",
    "    volume = normalize_mass_to_one(volume[idx_above_thresh].numpy().flatten())\n",
    "    pairwise_distances = make_sparse_cost(idx_above_thresh)\n",
    "    pairwise_distances = pairwise_distances.numpy() / pairwise_distances.numpy().max()\n",
    "    return volume, pairwise_distances"
   ]
  },
  {
   "cell_type": "code",
   "execution_count": null,
   "metadata": {},
   "outputs": [],
   "source": [
    "def gw_distance_wrapper(volumes, i, j, **kwargs):\n",
    "    volume_i, pairwise_distances_i = prepare_volume_and_distance(volumes[i])\n",
    "    volume_j, pairwise_distances_j = prepare_volume_and_distance(volumes[j])\n",
    "    gw_dist, results_dict = gw_distance(\n",
    "        volume_i, volume_j, pairwise_distances_i, pairwise_distances_j, **kwargs\n",
    "    )\n",
    "\n",
    "    ij_results = {\n",
    "        \"i\": i,\n",
    "        \"j\": j,\n",
    "        \"results_dict\": results_dict,\n",
    "    }\n",
    "    return gw_dist, ij_results\n",
    "\n",
    "\n",
    "gw_distance_function_d = {\n",
    "    \"entropic_gromov_wasserstein2\": ot.gromov.entropic_gromov_wasserstein2,\n",
    "    \"gromov_wasserstein2\": ot.gromov.gromov_wasserstein2,\n",
    "}\n",
    "gw_distance_function = \"gromov_wasserstein2\"\n",
    "\n",
    "\n",
    "def gw_distance(\n",
    "    volume_i, volume_j, pairwise_distances_i, pairwise_distances_j, **kwargs\n",
    "):\n",
    "    gw_dist, results_dict = gw_distance_function_d[gw_distance_function](\n",
    "        pairwise_distances_i,\n",
    "        pairwise_distances_j,\n",
    "        volume_i,\n",
    "        volume_j,\n",
    "        log=True,\n",
    "        **kwargs,\n",
    "    )\n",
    "    return gw_dist, results_dict"
   ]
  },
  {
   "cell_type": "code",
   "execution_count": 122,
   "metadata": {},
   "outputs": [
    {
     "name": "stdout",
     "output_type": "stream",
     "text": [
      "[                                        ] | 0% Completed | 1.43 ms"
     ]
    },
    {
     "name": "stdout",
     "output_type": "stream",
     "text": [
      "[                                        ] | 0% Completed | 3.65 s ms"
     ]
    },
    {
     "name": "stderr",
     "output_type": "stream",
     "text": [
      "/mnt/home/gwoollard/software/mambaforge/envs/cryo_challenge/lib/python3.11/site-packages/ot/lp/__init__.py:361: UserWarning: numItermax reached before optimality. Try to increase numItermax.\n",
      "  result_code_string = check_result(result_code)\n"
     ]
    },
    {
     "name": "stdout",
     "output_type": "stream",
     "text": [
      "[########################################] | 100% Completed | 41m 42s\n"
     ]
    }
   ],
   "source": [
    "# epsilon = 10\n",
    "tol = 1e-11\n",
    "# solver='PGA'\n",
    "max_iter = 10000\n",
    "symmetric = True\n",
    "verbose = False\n",
    "loss_fun = \"square_loss\"\n",
    "\n",
    "\n",
    "def get_distance_matrix_dask(volumes, distance_function):\n",
    "    n_vols = len(volumes)\n",
    "    distance_matrix = np.zeros((n_vols, n_vols))\n",
    "\n",
    "    # Create a list to hold the delayed computations\n",
    "    tasks = []\n",
    "\n",
    "    for i in range(n_vols):\n",
    "        for j in range(i + 1, n_vols):\n",
    "            # Use dask.delayed to delay the computation\n",
    "            compute_task = delayed(distance_function)(\n",
    "                volumes,\n",
    "                i,\n",
    "                j,\n",
    "                loss_fun=loss_fun,\n",
    "                tol=tol,\n",
    "                symmetric=symmetric,\n",
    "                max_iter=max_iter,\n",
    "                verbose=verbose,\n",
    "            )\n",
    "            tasks.append((i, j, compute_task))\n",
    "\n",
    "    # Compute all tasks in parallel using the Dask client\n",
    "    with ProgressBar():\n",
    "        idx_of_return = 0\n",
    "        idx_of_compute_task = 2\n",
    "        results = compute(\n",
    "            *[task[idx_of_compute_task][idx_of_return] for task in tasks],\n",
    "            scheduler=\"single-threaded\",\n",
    "        )\n",
    "\n",
    "    # Fill in the distance matrix with the results\n",
    "    for (i, j, _), result in zip(tasks, results):\n",
    "        distance_matrix[i, j] = distance_matrix[j, i] = result\n",
    "\n",
    "    return distance_matrix\n",
    "\n",
    "\n",
    "n_interval = 5\n",
    "get_distance_matrix_dask_gw = get_distance_matrix_dask(\n",
    "    volumes[::n_interval], distance_function=gw_distance_wrapper\n",
    ")"
   ]
  },
  {
   "cell_type": "code",
   "execution_count": 124,
   "metadata": {},
   "outputs": [
    {
     "data": {
      "text/plain": [
       "<matplotlib.colorbar.Colorbar at 0x155081b15350>"
      ]
     },
     "execution_count": 124,
     "metadata": {},
     "output_type": "execute_result"
    },
    {
     "data": {
      "image/png": "[encoded data removed]",
      "text/plain": [
       "<Figure size 640x480 with 2 Axes>"
      ]
     },
     "metadata": {},
     "output_type": "display_data"
    }
   ],
   "source": [
    "plt.imshow(get_distance_matrix_dask_gw, cmap=\"gray\")\n",
    "plt.colorbar()"
   ]
  },
  {
   "cell_type": "markdown",
   "metadata": {},
   "source": [
    "# inspect results"
   ]
  },
  {
   "cell_type": "code",
   "execution_count": 19,
   "metadata": {},
   "outputs": [],
   "source": [
    "fname = \"/mnt/home/gwoollard/ceph/repos/Cryo-EM-Heterogeneity-Challenge-1/src/cryo_challenge/_map_to_map/gromov_wasserstein/gw_weighted_voxel_topk3000_ds20_23.npy\"\n",
    "get_distance_matrix_dask_gw = np.load(fname)"
   ]
  },
  {
   "cell_type": "code",
   "execution_count": 20,
   "metadata": {},
   "outputs": [
    {
     "data": {
      "text/plain": [
       "<matplotlib.colorbar.Colorbar at 0x155178187390>"
      ]
     },
     "execution_count": 20,
     "metadata": {},
     "output_type": "execute_result"
    },
    {
     "data": {
      "image/png": "[encoded data removed]",
      "text/plain": [
       "<Figure size 640x480 with 2 Axes>"
      ]
     },
     "metadata": {},
     "output_type": "display_data"
    }
   ],
   "source": [
    "plt.imshow(get_distance_matrix_dask_gw)\n",
    "plt.colorbar()"
   ]
  },
  {
   "cell_type": "code",
   "execution_count": 21,
   "metadata": {},
   "outputs": [
    {
     "data": {
      "text/plain": [
       "<Axes: ylabel='Frequency'>"
      ]
     },
     "execution_count": 21,
     "metadata": {},
     "output_type": "execute_result"
    },
    {
     "data": {
      "image/png": "[encoded data removed]",
      "text/plain": [
       "<Figure size 640x480 with 1 Axes>"
      ]
     },
     "metadata": {},
     "output_type": "display_data"
    }
   ],
   "source": [
    "pd.Series(get_distance_matrix_dask_gw.flatten()).plot.hist(bins=100)"
   ]
  },
  {
   "cell_type": "code",
   "execution_count": 45,
   "metadata": {},
   "outputs": [
    {
     "data": {
      "text/plain": [
       "[<matplotlib.axis.XTick at 0x155172883050>,\n",
       " <matplotlib.axis.XTick at 0x15517cedc590>,\n",
       " <matplotlib.axis.XTick at 0x15517ce26890>,\n",
       " <matplotlib.axis.XTick at 0x15517289aa50>,\n",
       " <matplotlib.axis.XTick at 0x1551728a00d0>,\n",
       " <matplotlib.axis.XTick at 0x1551728a3850>,\n",
       " <matplotlib.axis.XTick at 0x1551728a5850>,\n",
       " <matplotlib.axis.XTick at 0x1551728a7a10>,\n",
       " <matplotlib.axis.XTick at 0x1551728a6290>,\n",
       " <matplotlib.axis.XTick at 0x1551728a9b90>,\n",
       " <matplotlib.axis.XTick at 0x1551728a9d50>,\n",
       " <matplotlib.axis.XTick at 0x1551728b4210>,\n",
       " <matplotlib.axis.XTick at 0x1551728b7c50>,\n",
       " <matplotlib.axis.XTick at 0x1551728b9b10>,\n",
       " <matplotlib.axis.XTick at 0x1551728b7390>,\n",
       " <matplotlib.axis.XTick at 0x1551728baa50>,\n",
       " <matplotlib.axis.XTick at 0x1551728bcc90>,\n",
       " <matplotlib.axis.XTick at 0x1551728bed50>,\n",
       " <matplotlib.axis.XTick at 0x1551728c0e90>,\n",
       " <matplotlib.axis.XTick at 0x1551728c1d10>,\n",
       " <matplotlib.axis.XTick at 0x15517289a510>,\n",
       " <matplotlib.axis.XTick at 0x1551728c4e50>,\n",
       " <matplotlib.axis.XTick at 0x1551728c4650>,\n",
       " <matplotlib.axis.XTick at 0x1551728d8dd0>,\n",
       " <matplotlib.axis.XTick at 0x1551728d9d90>,\n",
       " <matplotlib.axis.XTick at 0x1551728dbb10>,\n",
       " <matplotlib.axis.XTick at 0x1551728c2cd0>,\n",
       " <matplotlib.axis.XTick at 0x1551728dec90>,\n",
       " <matplotlib.axis.XTick at 0x1551728e0c10>,\n",
       " <matplotlib.axis.XTick at 0x1551728e1d90>,\n",
       " <matplotlib.axis.XTick at 0x1551728e3b10>,\n",
       " <matplotlib.axis.XTick at 0x1551728e2590>,\n",
       " <matplotlib.axis.XTick at 0x1551728eac50>,\n",
       " <matplotlib.axis.XTick at 0x1551728ec210>,\n",
       " <matplotlib.axis.XTick at 0x1551728eeb90>,\n",
       " <matplotlib.axis.XTick at 0x1551728f4650>,\n",
       " <matplotlib.axis.XTick at 0x1551728f6ad0>,\n",
       " <matplotlib.axis.XTick at 0x1551728eb290>,\n",
       " <matplotlib.axis.XTick at 0x1551728f5190>,\n",
       " <matplotlib.axis.XTick at 0x155172902cd0>,\n",
       " <matplotlib.axis.XTick at 0x155172904650>,\n",
       " <matplotlib.axis.XTick at 0x155172906cd0>,\n",
       " <matplotlib.axis.XTick at 0x155172908b50>,\n",
       " <matplotlib.axis.XTick at 0x1551728f6190>,\n",
       " <matplotlib.axis.XTick at 0x155172909490>,\n",
       " <matplotlib.axis.XTick at 0x15517290ba50>,\n",
       " <matplotlib.axis.XTick at 0x15517290e950>,\n",
       " <matplotlib.axis.XTick at 0x155172914850>,\n",
       " <matplotlib.axis.XTick at 0x15517290e2d0>,\n",
       " <matplotlib.axis.XTick at 0x155172916a90>,\n",
       " <matplotlib.axis.XTick at 0x155172917390>,\n",
       " <matplotlib.axis.XTick at 0x155172926a10>,\n",
       " <matplotlib.axis.XTick at 0x155172927390>,\n",
       " <matplotlib.axis.XTick at 0x155172929c50>,\n",
       " <matplotlib.axis.XTick at 0x155172917850>,\n",
       " <matplotlib.axis.XTick at 0x15517292bb10>,\n",
       " <matplotlib.axis.XTick at 0x15517292e990>,\n",
       " <matplotlib.axis.XTick at 0x15517292ff50>,\n",
       " <matplotlib.axis.XTick at 0x15516a696210>,\n",
       " <matplotlib.axis.XTick at 0x15516a69c710>,\n",
       " <matplotlib.axis.XTick at 0x15517290a510>,\n",
       " <matplotlib.axis.XTick at 0x15516a69e210>,\n",
       " <matplotlib.axis.XTick at 0x15516a6a4750>,\n",
       " <matplotlib.axis.XTick at 0x15516a6a6210>,\n",
       " <matplotlib.axis.XTick at 0x15516a6a7390>,\n",
       " <matplotlib.axis.XTick at 0x15516a6a5c50>,\n",
       " <matplotlib.axis.XTick at 0x15516a6b6890>,\n",
       " <matplotlib.axis.XTick at 0x15516a6b8390>,\n",
       " <matplotlib.axis.XTick at 0x15516a6ba750>,\n",
       " <matplotlib.axis.XTick at 0x15516a6b9f50>,\n",
       " <matplotlib.axis.XTick at 0x15516a6b9e10>,\n",
       " <matplotlib.axis.XTick at 0x15516a6b80d0>,\n",
       " <matplotlib.axis.XTick at 0x15516a6c4910>,\n",
       " <matplotlib.axis.XTick at 0x15516a6c6810>,\n",
       " <matplotlib.axis.XTick at 0x15516a6c8390>,\n",
       " <matplotlib.axis.XTick at 0x15516a6ca610>,\n",
       " <matplotlib.axis.XTick at 0x15516a6b9dd0>,\n",
       " <matplotlib.axis.XTick at 0x15516a6c9c90>,\n",
       " <matplotlib.axis.XTick at 0x15516a6c9e10>,\n",
       " <matplotlib.axis.XTick at 0x15516a6e03d0>]"
      ]
     },
     "execution_count": 45,
     "metadata": {},
     "output_type": "execute_result"
    },
    {
     "data": {
      "image/png": "[encoded data removed]",
      "text/plain": [
       "<Figure size 2500x200 with 1 Axes>"
      ]
     },
     "metadata": {},
     "output_type": "display_data"
    }
   ],
   "source": [
    "fig, ax = plt.subplots(1, figsize=(25, 2))\n",
    "\n",
    "ax.imshow(get_distance_matrix_dask_gw[:, 32:33].T)\n",
    "ax.set_xticks(range(0, len(get_distance_matrix_dask_gw), 1))\n",
    "# get_distance_matrix_dask_gw[27,32]"
   ]
  },
  {
   "cell_type": "code",
   "execution_count": 51,
   "metadata": {},
   "outputs": [
    {
     "data": {
      "text/plain": [
       "<Axes: ylabel='Frequency'>"
      ]
     },
     "execution_count": 51,
     "metadata": {},
     "output_type": "execute_result"
    },
    {
     "data": {
      "image/png": "[encoded data removed]",
      "text/plain": [
       "<Figure size 640x480 with 1 Axes>"
      ]
     },
     "metadata": {},
     "output_type": "display_data"
    }
   ],
   "source": [
    "pd.Series(get_distance_matrix_dask_gw[:, 32:33].flatten()).plot.hist()"
   ]
  },
  {
   "cell_type": "code",
   "execution_count": 33,
   "metadata": {},
   "outputs": [
    {
     "data": {
      "text/plain": [
       "True"
      ]
     },
     "execution_count": 33,
     "metadata": {},
     "output_type": "execute_result"
    }
   ],
   "source": [
    "np.allclose(get_distance_matrix_dask_gw, get_distance_matrix_dask_gw.T)"
   ]
  },
  {
   "cell_type": "code",
   "execution_count": null,
   "metadata": {},
   "outputs": [],
   "source": []
  }
 ],
 "metadata": {
  "kernelspec": {
   "display_name": "cryo_challenge",
   "language": "python",
   "name": "python3"
  },
  "language_info": {
   "codemirror_mode": {
    "name": "ipython",
    "version": 3
   },
   "file_extension": ".py",
   "mimetype": "text/x-python",
   "name": "python",
   "nbconvert_exporter": "python",
   "pygments_lexer": "ipython3",
   "version": "3.11.9"
  }
 },
 "nbformat": 4,
 "nbformat_minor": 2
}
